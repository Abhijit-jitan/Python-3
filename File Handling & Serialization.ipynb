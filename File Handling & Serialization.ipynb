{
 "cells": [
  {
   "cell_type": "markdown",
   "metadata": {
    "toc": true
   },
   "source": [
    "<h1>Table of Contents<span class=\"tocSkip\"></span></h1>\n",
    "<div class=\"toc\"><ul class=\"toc-item\"><li><span><a href=\"#File-Handling-:\" data-toc-modified-id=\"File-Handling-:-1\"><span class=\"toc-item-num\">1&nbsp;&nbsp;</span>File Handling :</a></span></li><li><span><a href=\"#Handling-Text-files\" data-toc-modified-id=\"Handling-Text-files-2\"><span class=\"toc-item-num\">2&nbsp;&nbsp;</span>Handling Text-files</a></span><ul class=\"toc-item\"><li><span><a href=\"#A)-Open-&quot;text-file&quot;--(-with-open()-)\" data-toc-modified-id=\"A)-Open-&quot;text-file&quot;--(-with-open()-)-2.1\"><span class=\"toc-item-num\">2.1&nbsp;&nbsp;</span>A) Open \"text file\"  ( with open() )</a></span></li><li><span><a href=\"#B)-Write-to-&quot;text-file&quot;-:\" data-toc-modified-id=\"B)-Write-to-&quot;text-file&quot;-:-2.2\"><span class=\"toc-item-num\">2.2&nbsp;&nbsp;</span>B) Write to \"text file\" :</a></span></li><li><span><a href=\"#C)-Read-from-&quot;text-file&quot;\" data-toc-modified-id=\"C)-Read-from-&quot;text-file&quot;-2.3\"><span class=\"toc-item-num\">2.3&nbsp;&nbsp;</span>C) Read from \"text file\"</a></span></li><li><span><a href=\"#Operation:\" data-toc-modified-id=\"Operation:-2.4\"><span class=\"toc-item-num\">2.4&nbsp;&nbsp;</span>Operation:</a></span></li></ul></li><li><span><a href=\"#Handling-Binary-File-:\" data-toc-modified-id=\"Handling-Binary-File-:-3\"><span class=\"toc-item-num\">3&nbsp;&nbsp;</span>Handling Binary File :</a></span><ul class=\"toc-item\"><li><span><a href=\"#Handling-Zip-Files-:\" data-toc-modified-id=\"Handling-Zip-Files-:-3.1\"><span class=\"toc-item-num\">3.1&nbsp;&nbsp;</span>Handling Zip Files :</a></span><ul class=\"toc-item\"><li><span><a href=\"#Basic-Operatons-:\" data-toc-modified-id=\"Basic-Operatons-:-3.1.1\"><span class=\"toc-item-num\">3.1.1&nbsp;&nbsp;</span>Basic Operatons :</a></span></li><li><span><a href=\"#Exceptions:\" data-toc-modified-id=\"Exceptions:-3.1.2\"><span class=\"toc-item-num\">3.1.2&nbsp;&nbsp;</span>Exceptions:</a></span></li></ul></li></ul></li><li><span><a href=\"#Serialization-:\" data-toc-modified-id=\"Serialization-:-4\"><span class=\"toc-item-num\">4&nbsp;&nbsp;</span>Serialization :</a></span><ul class=\"toc-item\"><li><span><a href=\"#Serialization-With--&quot;-json-Module-&quot;\" data-toc-modified-id=\"Serialization-With--&quot;-json-Module-&quot;-4.1\"><span class=\"toc-item-num\">4.1&nbsp;&nbsp;</span>Serialization With  \" json Module \"</a></span><ul class=\"toc-item\"><li><span><a href=\"#Serialization-&amp;-Deserialization-:\" data-toc-modified-id=\"Serialization-&amp;-Deserialization-:-4.1.1\"><span class=\"toc-item-num\">4.1.1&nbsp;&nbsp;</span>Serialization &amp; Deserialization :</a></span></li></ul></li><li><span><a href=\"#Serialization-With--&quot;-pickle-Module-&quot;\" data-toc-modified-id=\"Serialization-With--&quot;-pickle-Module-&quot;-4.2\"><span class=\"toc-item-num\">4.2&nbsp;&nbsp;</span>Serialization With  \" pickle Module \"</a></span><ul class=\"toc-item\"><li><span><a href=\"#Pickling-&amp;-Unpickling\" data-toc-modified-id=\"Pickling-&amp;-Unpickling-4.2.1\"><span class=\"toc-item-num\">4.2.1&nbsp;&nbsp;</span>Pickling &amp; Unpickling</a></span></li><li><span><a href=\"#Operations:\" data-toc-modified-id=\"Operations:-4.2.2\"><span class=\"toc-item-num\">4.2.2&nbsp;&nbsp;</span>Operations:</a></span></li><li><span><a href=\"#Exceptions:\" data-toc-modified-id=\"Exceptions:-4.2.3\"><span class=\"toc-item-num\">4.2.3&nbsp;&nbsp;</span>Exceptions:</a></span></li></ul></li></ul></li></ul></div>"
   ]
  },
  {
   "cell_type": "markdown",
   "metadata": {
    "ExecuteTime": {
     "end_time": "2020-11-30T04:13:01.986660Z",
     "start_time": "2020-11-30T04:13:01.970652Z"
    }
   },
   "source": [
    "# File Handling :\n",
    " * Used for Permanent Storage .\n",
    "\n",
    "    * **File Types:**\n",
    "\n",
    "     ***a) text file:*** text file\n",
    "\n",
    "     ***b) Binary file:*** image,video,Audio,zip etc\n",
    "    "
   ]
  },
  {
   "cell_type": "markdown",
   "metadata": {},
   "source": [
    "# Modes :\n",
    " * **'r'** : ***Read*** `If file not Found Raise \"FileNotFoundError\"`\n",
    " * **'r+'** : ***Read & Write*** `Doesn't Overwrite data` \n",
    " * **'w'** : ***Write*** `If File Exist: data overwritten & If Not Found : Create file`\n",
    " * **'w+'** : ***write & Read*** `Data Overwritten & Read Updated file`\n",
    " * **'a'** : ***Append***`If File Exist: data appended with old data & If Not Found: Create file`\n",
    " * **'a+'** : ***Append & Read*** `Doesn't Overwrite` \n",
    " * **'x'** : ***Exclusive*** `Write data(when file must not present)`\n",
    "\n"
   ]
  },
  {
   "cell_type": "markdown",
   "metadata": {},
   "source": [
    "## Handling Text-files \n",
    " * **Operations:** ***Open file***,***Write***,***Read***,***Basic Text Operations*** \n",
    "\n",
    "\n",
    "**Text-File Operations :**\n",
    "\n",
    "***A) Open \"text-file\" :*** \n",
    "- Opens text-file with specific mode\n",
    "- File Auto-close after Operation\n",
    "                        \n",
    "***B) Write to \"text-file\" :***\n",
    "- ***write() :*** Write a Single line\n",
    "- ***writelines() :*** Write multiple line\n",
    "\n",
    "***C) Read from \"text-file\" :*** \n",
    "- ***f.read():*** Read Total data\n",
    "- ***f.read(n):*** Read Specific no of char\n",
    "- ***f.readline():***  Read only one line at time\n",
    "- ***f.readlines():*** Read all line to a list"
   ]
  },
  {
   "cell_type": "markdown",
   "metadata": {},
   "source": []
  },
  {
   "cell_type": "code",
   "execution_count": null,
   "metadata": {},
   "outputs": [],
   "source": [
    "## A) \"\"\" Open Text-file\"\"\"\n",
    "\n",
    "### Using open() : we have to explicitly close file.\n",
    "@ open(file,mode='r',buffering=-1,encoding=None,errors=None,newline=None,closefd=True,opener=None)\n",
    " * file: File path\n",
    " * mode: mode for opening file\n",
    " * buffering: \n",
    " * encoding: Name of 'encoding' used to 'decode'|'encode' file(must used in text-mode)\n",
    " * errors: Specifies 'how encoding errors' handled (not be used in binary-mode)\n",
    "    -'strict': raise ValueError exception if encoding error\n",
    "    -'ignore': ignore errors(ignoring encoding errors can lead to data loss)\n",
    " * newline: controls 'how universal newlines works'(None,'','\\n','\\r','\\r\\n') (only for text-mode)\n",
    " * closefd: If False: file descriptor will be kept open when file is closed\n",
    "            must be True: when file name is given\n",
    " * opener: \n",
    "\n",
    "## Using with open(): File Automatically closed .     "
   ]
  },
  {
   "cell_type": "markdown",
   "metadata": {},
   "source": []
  },
  {
   "cell_type": "code",
   "execution_count": 2,
   "metadata": {},
   "outputs": [
    {
     "name": "stdout",
     "output_type": "stream",
     "text": [
      "Data Written & File Closed: True\n"
     ]
    }
   ],
   "source": [
    "## B) \"\"\" Write To Text file \"\"\"\n",
    "\n",
    "## Using write(): Write Single line at once\n",
    "# Returns No. of characters written (len(string))\n",
    "@ write(text)\n",
    "\n",
    "with open(r\"/home/jokerr/Documents/a_test.txt\",\"w\") as f:\n",
    "    f.write(\"line - 1\\n\")\n",
    "    f.write(\"line - 2\\n\")\n",
    "print(\"Text Written & File Closed:\",f.closed)\n",
    "\n",
    "\n",
    "## Using writelines(): Write multiple line at once\n",
    "# Line separators not added,so each lines provided line separator @end\n",
    "@ writelines(lines):\n",
    "    \n",
    "with open(r\"/home/jokerr/Documents/a_test.txt\",\"w\") as f:\n",
    "    f.writelines(\"Line 1\\n\")\n",
    "    f.writelines(\"Line 2\\n\")\n",
    "print(\"Data Written & File Closed:\",f.closed)"
   ]
  },
  {
   "cell_type": "markdown",
   "metadata": {},
   "source": []
  },
  {
   "cell_type": "code",
   "execution_count": 15,
   "metadata": {},
   "outputs": [
    {
     "name": "stdout",
     "output_type": "stream",
     "text": [
      "Line 1\n",
      "Line 2\n",
      "\n",
      "Line 1\n",
      "Line 2\n",
      "\n",
      "Line 1\n",
      "Line 2\n"
     ]
    }
   ],
   "source": [
    "### C) \"\"\" Read From Text File\"\"\"\n",
    "\n",
    "## Using read(): Read all of data at once\n",
    "@ read(size=-1)\n",
    "  * size: no. of character to read atmost\n",
    "        \n",
    "with open(r\"/home/jokerr/Documents/a_test.txt\",\"r\") as f:\n",
    "    text=f.read()    # Read Total data\n",
    "    # text=f.read(4)   # Read Specific No. of words\n",
    "    print(text)\n",
    "\n",
    "    \n",
    "## Using readline(): Read text as line by line; Read until newline|EOF\n",
    "@ readlines(hint=-1)\n",
    "        \n",
    "with open(r\"/home/jokerr/Documents/a_test.txt\",\"r\") as f:\n",
    "    text1=f.readline()  # Read 1st line\n",
    "    text2=f.readline()  # Read 2nd line\n",
    "    print(text1,end=\"\")  # print 1st line\n",
    "    print(text2)  # print 2nd line\n",
    "    \n",
    "\n",
    "## Using readlines(): Read text as iterator(Returns list of lines)\n",
    "@ readlines(hint=-1)\n",
    "  * hint: specify no. of lines to read\n",
    "        \n",
    "with open(r\"/home/jokerr/Documents/a_test.txt\",\"r\") as f:\n",
    "    lines=f.readlines()\n",
    "    for line in lines:\n",
    "        print(line,end=\"\")"
   ]
  },
  {
   "cell_type": "code",
   "execution_count": 64,
   "metadata": {},
   "outputs": [
    {
     "name": "stdout",
     "output_type": "stream",
     "text": [
      "line - 1\n",
      " Both patterns and strings to be searched can be Unicode strings (str) as well as 8-bit strings (bytes)./n line - 3\n",
      " However, Unicode strings and 8-bit strings cannot be mixed: that is, you cannot match a Unicode string with a byte pattern or vice-versa;/n line - 5\n",
      " similarly, when asking for a substitution, the replacement string must be of the same type as both the pattern and the search string.line - 1\n",
      "Both patterns and strings to be searched can be Unicode strings (str) as well as 8-bit strings (bytes)./nline - 3\n",
      "However, Unicode strings and 8-bit strings cannot be mixed: that is, you cannot match a Unicode string with a byte pattern or vice-versa;/nline - 5\n",
      " similarly, when asking for a substitution, the replacement string must be of the same type as both the pattern and the search string.\n"
     ]
    }
   ],
   "source": [
    "f=open(r\"/home/jokerr/Documents/a_test.txt\",\"r\")\n",
    "\n",
    "text=f.read()    # Read Total data\n",
    "    # text=f.read(4)   # Read Specific No. of words\n",
    "print(text)"
   ]
  },
  {
   "cell_type": "markdown",
   "metadata": {
    "heading_collapsed": true
   },
   "source": [
    "## Attributes :"
   ]
  },
  {
   "cell_type": "code",
   "execution_count": null,
   "metadata": {
    "hidden": true
   },
   "outputs": [],
   "source": [
    "f.name         # Fille name & Path\n",
    "f.mode         # File Mode\n",
    "f.closed       # File closed|not (True:Closed ; False:Not Closed)\n",
    "f.readable()   # File is readable|not\n",
    "f.writable()   # File is writeable|not\n",
    "\n",
    "f.seekable()   # Return whether Object Supports Random Access\n",
    "f.tell()       # Return cursor position\n",
    "f.seek(18)     # Move cursor to other positon {0:start location of file }\n",
    "\n",
    "f.encoding     # Return 'encodeing' type\n",
    "f.errors       # Return 'encoding-error' type ('strict'|'ignore')\n",
    "\n",
    "f.fileno()     # Returns  File Descriptor(if one exists) \n",
    "f.newlines     # \n",
    "f.truncate()   # Truncate file to size bytes\n",
    "\n",
    "f.isatty()     # Return whether this is an 'interactive' stream\n",
    "f.detach()     # Separate buffer from \"TextIOBase\" & Return it\n",
    "f.flush()      # Flush write Buffers(if applicable)\n",
    "f.line_buffering\n"
   ]
  },
  {
   "cell_type": "markdown",
   "metadata": {
    "ExecuteTime": {
     "end_time": "2020-11-30T14:19:25.531332Z",
     "start_time": "2020-11-30T14:19:25.518289Z"
    },
    "heading_collapsed": true
   },
   "source": [
    "## Handling Zip Files :\n",
    "**Zip file:**\n",
    "* Convient & Portable to use\n",
    "* Reduced Memory utilization\n",
    "* Improved Application Performance\n",
    "\n",
    "**Operations**: Open Zip file , Zip a File , List out files , UnZip a File "
   ]
  },
  {
   "cell_type": "code",
   "execution_count": null,
   "metadata": {},
   "outputs": [],
   "source": []
  },
  {
   "cell_type": "code",
   "execution_count": null,
   "metadata": {
    "ExecuteTime": {
     "end_time": "2020-11-30T15:31:21.484000Z",
     "start_time": "2020-11-30T15:31:21.462010Z"
    },
    "hidden": true
   },
   "outputs": [],
   "source": [
    "## A) Open Zip-File :\n",
    "@ zipfile.ZipFile(file,mode='r',compression=0,allowZip64=True)\n",
    "  * file: File path\n",
    "  * mode: 'r'|'w'|'x'|'a'\n",
    "  * compression: ZIP_STORED: no compression\n",
    "                 ZIP_DEFLATED: requires zlib \n",
    "                 ZIP_BZIP2: requires bz2\n",
    "                 ZIP_LZMA: requires lzma\n",
    "  * allowZip64: True: Create zip-file with ZIP64 extensions(when needed) \n",
    "                raise exception when would be necessary\n",
    "  * compresslevel:(int)specifying level to pass to compressor default(None)\n",
    "      - No effect: when 'ZIP_STORED'|'ZIP_LZMA' used\n",
    "      - int(0-9): When 'ZIP_DEFLATED'  used\n",
    "      - int(1-9): When 'ZIP_BZIP2' used          \n",
    "            \n",
    "import zipfile \n",
    "with zipfile.ZipFile(r\"A:\\zpp.zip\",\"w\") as z:\n",
    "    "
   ]
  },
  {
   "cell_type": "markdown",
   "metadata": {},
   "source": []
  },
  {
   "cell_type": "code",
   "execution_count": null,
   "metadata": {},
   "outputs": [],
   "source": [
    "## B) Zip a File : Convert Any file to Zip-File \n",
    "import zipfile     \n",
    "with zipfile.ZipFile(r\"/home/jokerr/Documents/a_test_z.zip\",\"w\") as z:    # Provied o/p zip-file name \n",
    "    z.write(r\"/home/jokerr/Documents/a_test.txt\")# Provied which file to Zip\n",
    "\n",
    "print(\"File Created & Written & Closed\")\n",
    "\n"
   ]
  },
  {
   "cell_type": "markdown",
   "metadata": {},
   "source": []
  },
  {
   "cell_type": "code",
   "execution_count": 24,
   "metadata": {},
   "outputs": [
    {
     "name": "stdout",
     "output_type": "stream",
     "text": [
      "['a_test.txt']\n"
     ]
    }
   ],
   "source": [
    "## C) list Out All Files Available Inside Zip-file:\n",
    "import zipfile     \n",
    "with zipfile.ZipFile(r\"/home/jokerr/Documents/a_test.zip\",\"r\") as z:\n",
    "    print(z.namelist())       # List of Files Available Inside Zip-File\n",
    "    "
   ]
  },
  {
   "cell_type": "code",
   "execution_count": null,
   "metadata": {},
   "outputs": [],
   "source": []
  },
  {
   "cell_type": "code",
   "execution_count": null,
   "metadata": {},
   "outputs": [],
   "source": [
    "## D) UnZip files: Extract files from Zip-File\n",
    "import zipfile \n",
    "with zipfile.ZipFile(r\"/home/jokerr/Documents/a_test.zip\",\"r\") as z:\n",
    "    \n",
    "    ## Unzip Specific file\n",
    "    z.extract(members=\"zipp 1.txt\",path=r\"A:\")\n",
    "    \n",
    "    ## Unzip All file (members=None: Extract all)\n",
    "    z.extractall(path=r\"A:\") \n",
    "    \n",
    "    ## Extract Multiple files (members=[\"file_names\"])\n",
    "    z.extractall(path=r\"A:\",members=[\"zipp 1.txt\",\"zipp.txt\"]) "
   ]
  },
  {
   "cell_type": "code",
   "execution_count": 80,
   "metadata": {},
   "outputs": [
    {
     "name": "stdout",
     "output_type": "stream",
     "text": [
      "['home/jokerr/Documents/a_test.txt']\n"
     ]
    }
   ],
   "source": [
    "import zipfile     \n",
    "with zipfile.ZipFile(r\"/home/jokerr/Documents/a_test_z.zip\",\"r\") as z:    \n",
    "    print(z.namelist())       # List of Files Available Inside Zip-File\n",
    "    "
   ]
  },
  {
   "cell_type": "markdown",
   "metadata": {
    "heading_collapsed": true,
    "hidden": true
   },
   "source": [
    "### Attributes"
   ]
  },
  {
   "cell_type": "code",
   "execution_count": null,
   "metadata": {
    "ExecuteTime": {
     "end_time": "2020-12-01T01:55:59.857743Z",
     "start_time": "2020-12-01T01:55:59.838671Z"
    },
    "hidden": true
   },
   "outputs": [],
   "source": [
    "z.printdir()   # Table of contents for zip file\n",
    "z.infolist()   # list of ZipInfo for files in archive\n",
    "z.getinfo(\"zipp.txt\")   # ZipInfo for given 'file-name'\n",
    "z.NameToInfo               ## Zip files Info\n",
    "\n",
    "\n",
    "### Exception:\n",
    "except zipfile.LargeZipFile: # error when working with large zip file & didn't enable 'Zip64'\n",
    "except zipfile.BadZipFile:   # If bad|corrupted zip file encountered\n",
    "    "
   ]
  },
  {
   "cell_type": "code",
   "execution_count": 70,
   "metadata": {
    "ExecuteTime": {
     "end_time": "2020-12-01T02:06:37.722555Z",
     "start_time": "2020-12-01T02:06:37.707376Z"
    },
    "hidden": true
   },
   "outputs": [
    {
     "ename": "NameError",
     "evalue": "name 'Lol' is not defined",
     "output_type": "error",
     "traceback": [
      "\u001b[1;31m---------------------------------------------------------------------------\u001b[0m",
      "\u001b[1;31mNameError\u001b[0m                                 Traceback (most recent call last)",
      "\u001b[1;32m<ipython-input-70-97f097be0ea7>\u001b[0m in \u001b[0;36m<module>\u001b[1;34m\u001b[0m\n\u001b[1;32m----> 1\u001b[1;33m \u001b[0mz\u001b[0m\u001b[1;33m.\u001b[0m\u001b[0msetpassword\u001b[0m\u001b[1;33m(\u001b[0m\u001b[0mLol\u001b[0m\u001b[1;33m)\u001b[0m   \u001b[1;31m## Set Password for encrypted files\u001b[0m\u001b[1;33m\u001b[0m\u001b[1;33m\u001b[0m\u001b[0m\n\u001b[0m",
      "\u001b[1;31mNameError\u001b[0m: name 'Lol' is not defined"
     ]
    }
   ],
   "source": [
    "z.setpassword(\"111\")   ## Set Password for encrypted files\n",
    "z.comment"
   ]
  },
  {
   "cell_type": "markdown",
   "metadata": {
    "ExecuteTime": {
     "end_time": "2020-11-30T15:44:38.109862Z",
     "start_time": "2020-11-30T15:44:38.099862Z"
    }
   },
   "source": [
    "## Serialization :\n",
    "\n",
    "**Serialization | Marshalling:** \n",
    "- Process to convert File to Linear-Form that can be stored or transmitted over Network\n",
    "- Complex Structure & transform to Stream of Bytes that can be saved to Disk | sent over Network\n",
    "\n",
    "**Deserialization | Unmarshalling :** \n",
    "- Stream of bytes & Converts it back into data structure\n",
    " "
   ]
  },
  {
   "cell_type": "markdown",
   "metadata": {},
   "source": [
    "## Serialization With  \" json Module \"\n",
    "**JSON:**Refers to JavaScript Object Notation\n",
    "- Most commonly used Message Format for aApplications irrespective of Language(Any language can understand JSON)\n",
    "\n",
    "**serialization:**\n",
    "- Process of encoding JSON file \n",
    "- Refers to transformation of data into series of bytes to be stored | transmitted across network\n",
    "\n",
    "**Deserialization:**\n",
    "- Process of decoding data that stored or delivered in JSON standard\n",
    "\n",
    "\n",
    "**Use Case:**\n",
    "    -if you need interoperability with different languages or a human-readable format\n",
    "    \n",
    "**Python & JSON Conversion:**\n",
    "- dict                  object\n",
    "- list,tuple            array\n",
    "- str                   string\n",
    "- int,long,float        number\n",
    "- True                  true\n",
    "- False                 false\n",
    "- None                  null\n",
    "\n"
   ]
  },
  {
   "cell_type": "markdown",
   "metadata": {
    "heading_collapsed": true
   },
   "source": [
    "### Serialization & Deserialization :"
   ]
  },
  {
   "cell_type": "code",
   "execution_count": 6,
   "metadata": {
    "ExecuteTime": {
     "end_time": "2020-12-03T04:11:07.714877Z",
     "start_time": "2020-12-03T04:11:07.710845Z"
    },
    "hidden": true
   },
   "outputs": [],
   "source": [
    "                                              A) Serialization:\n",
    "i) dump(): Serialize \"Python Dict.\" to \"JSON String\"\n",
    "@ json.dump(obj,fp,skipkeys=False,ensure_ascii=True,check_circular=True,allow_nan=True,cls=None,indent=None,separators=None,default=None,sort_keys=False)\n",
    "    \n",
    "data={\"president\":{\"name\":\"Beeblebrox\",\"species\":\"Betelgeusian\"}}\n",
    "\n",
    "import json\n",
    "with open(\"data_file.json\",\"w\") as j:\n",
    "    json.dump(data,j)\n",
    "    \n",
    "ii) dumps(): Serialize \"Python Dict.\" to \"JSON File\"\n",
    "@ json.dumps(obj,skipkeys=False,ensure_ascii=True,check_circular=True,allow_nan=True,cls=None,indent=None,separators=None,default=None,sort_keys=False)\n",
    "\n",
    "data={\"president\":{\"name\":\"Beeblebrox\",\"species\":\"Betelgeusian\"}}\n",
    "\n",
    "import json\n",
    "d=json.dumps(data)\n",
    "-----------------------------------------------------------------------------------------------------------------------------------------------------------------    \n",
    "                                         B) Deserialization:\n",
    "i) loads(): Deserialize \"JSON String\" to \"Python Dict.\"\n",
    "@ json.loads(s,encoding=None,cls=None,object_hook=None,parse_float=None,parse_int=None,parse_constant=None,object_pairs_hook=None)\n",
    "\n",
    "import json\n",
    "json.loads(data)\n",
    "\n",
    "ii) load(): Deserialize \"JSON File\" to \"Python Dict.\"\n",
    "@ json.load(fp,cls=None,object_hook=None,parse_float=None,parse_int=None,parse_constant=None,object_pairs_hook=None)\n",
    "\n",
    "import json\n",
    "with open(\"data_file.json\",\"r\") as j:\n",
    "    file=json.load(j)"
   ]
  },
  {
   "cell_type": "code",
   "execution_count": null,
   "metadata": {
    "hidden": true
   },
   "outputs": [],
   "source": [
    "## Serialization With  \" XML Module \"\n",
    "\n",
    "\n",
    "**Use Case:**\n",
    "    - if you need interoperability with different languages or a human-readable format"
   ]
  },
  {
   "cell_type": "markdown",
   "metadata": {
    "heading_collapsed": true
   },
   "source": [
    "## Serialization With  \" pickle Module \"\n",
    "- Used for Serialize & Deserialize objects in Python for serialization format\n",
    "- \"Binary\" Serialization format(only python Specific)\n",
    "- Not that Secure(Don't load any Untrusted pickled File)\n",
    "\n",
    "**Pickling:**\n",
    "- Serialize a object \n",
    "\n",
    "**Unpickling:**\n",
    "- Deserialize object    \n",
    "\n",
    "**Advantages:**\n",
    "- Tracks objects that already serialized,so later references to same object won’t be serialized again\n",
    "- pickle stores object once & ensures other references point to have master copy(Shared objects remain shared,important for mutable objects)\n",
    "- pickle save & restore class instances transparently(class definition must be importable & live in same module as when object was stored)\n",
    "    \n",
    "**Use Case:**\n",
    "- when Don’t need human-readable format or standard interoperable format\n",
    "\n",
    "**protocol:**\n",
    "- 0: First version (It’s human readable)\n",
    "- 1: First binary format\n",
    "- 2: In Python 2.3\n",
    "- 3: In Python 3.0 (Can’t be Unpickled by Python 2.x)\n",
    "- 4: In Python 3.4 (Supports wider range of object sizes & types & Default protocol starting with Python 3.8)\n",
    "- 5: In Python 3.8 (Supports for out-of-band data & improved speeds for in-band data)\n",
    "    \n",
    "**What can be Pickled & Unpickled**    \n",
    "- None, True, False, int, float, complex, str, bytes, bytearrays, tuples, lists, sets, dictionaries \n",
    "- functions defined at top level of module using def(not lambda)\n",
    "- built-in functions defined at top level of module\n",
    "- classes that are defined at top level of module\n",
    "Instances of such classes whose __dict__ | result of calling __getstate__() is picklable"
   ]
  },
  {
   "cell_type": "markdown",
   "metadata": {
    "heading_collapsed": true,
    "hidden": true
   },
   "source": [
    "### Pickling & Unpickling"
   ]
  },
  {
   "cell_type": "code",
   "execution_count": null,
   "metadata": {
    "hidden": true
   },
   "outputs": [],
   "source": [
    "                             A) Pickle File \n",
    "i) pickle.dump(): Write pickled representation of object to \"file\"\n",
    "@ pickle.dump(obj,file,protocol=None,fix_imports=True)\n",
    "  * file: File path\n",
    "  * fix_imports: True & protocol < 3: map Python3 to Python2(data stream readable with Python 2)\n",
    "  ** protocol:(1|2|3|4)\n",
    "import pickle\n",
    "pickle.dump(db)\n",
    "\n",
    "    \n",
    "ii) pickle.dumps():Return pickled representation of object to \"bytes object\"    \n",
    "@ dumps(obj,protocol=None,fix_imports=True,buffer_callback=None) \n",
    "import pickle\n",
    "pickle.dumps(db)\n",
    "\n",
    "\n",
    "------------------------------------------------------------------------------------------------------------\n",
    "                           B) Unpickle file\n",
    "i) pickle.load():Read pickled object from \"file\" & return reconstituted object hierarchy specified.\n",
    "   - Detects protocol version automatically(No protocol argument is needed)\n",
    "@ pickle.load(file,fix_imports=True,encoding=\"ASCII\",errors=\"strict\",buffers=None)    \n",
    "import pickle\n",
    "pickle.load(db)\n",
    "\n",
    "ii) pickle.loads():Return reconstituted \"object hierarchy\" of pickled representation data of object(data must be bytes-like object)  \n",
    "  - Detects protocol version automatically(No protocol argument is needed)\n",
    "@ pickle.loads(file,fix_imports=True,encoding='ASCII',errors='strict')\n",
    "import pickle\n",
    "pickle.loads(db)\n",
    "    "
   ]
  },
  {
   "cell_type": "markdown",
   "metadata": {
    "heading_collapsed": true,
    "hidden": true
   },
   "source": [
    "### Operations:"
   ]
  },
  {
   "cell_type": "code",
   "execution_count": null,
   "metadata": {
    "hidden": true
   },
   "outputs": [],
   "source": [
    "pickle.HIGHEST_PROTOCOL      # Highest Protocol Version Available \n",
    "pickle.DEFAULT_PROTOCOL      # Default Protocol Version for pickling \n"
   ]
  },
  {
   "cell_type": "markdown",
   "metadata": {
    "ExecuteTime": {
     "end_time": "2020-12-03T02:45:37.577826Z",
     "start_time": "2020-12-03T02:45:37.570866Z"
    },
    "heading_collapsed": true,
    "hidden": true
   },
   "source": [
    "### Exceptions:"
   ]
  },
  {
   "cell_type": "code",
   "execution_count": null,
   "metadata": {
    "hidden": true
   },
   "outputs": [],
   "source": [
    "i) exception pickle.PickleError: Common base class for other pickling exceptions\n",
    "ii)exception pickle.PicklingError:Error raised when \"unpicklable object\" is encountered by Pickler\n",
    "iii)exception pickle.UnpicklingError:Error raised when problem \"unpickling an object\" such as data corruption or security violation\n",
    "    "
   ]
  }
 ],
 "metadata": {
  "hide_input": false,
  "kernelspec": {
   "display_name": "Python 3 (ipykernel)",
   "language": "python",
   "name": "python3"
  },
  "language_info": {
   "codemirror_mode": {
    "name": "ipython",
    "version": 3
   },
   "file_extension": ".py",
   "mimetype": "text/x-python",
   "name": "python",
   "nbconvert_exporter": "python",
   "pygments_lexer": "ipython3",
   "version": "3.8.10"
  },
  "latex_envs": {
   "LaTeX_envs_menu_present": true,
   "autoclose": false,
   "autocomplete": true,
   "bibliofile": "biblio.bib",
   "cite_by": "apalike",
   "current_citInitial": 1,
   "eqLabelWithNumbers": true,
   "eqNumInitial": 1,
   "hotkeys": {
    "equation": "Ctrl-E",
    "itemize": "Ctrl-I"
   },
   "labels_anchors": false,
   "latex_user_defs": false,
   "report_style_numbering": false,
   "user_envs_cfg": false
  },
  "toc": {
   "base_numbering": 1,
   "nav_menu": {},
   "number_sections": true,
   "sideBar": true,
   "skip_h1_title": false,
   "title_cell": "Table of Contents",
   "title_sidebar": "Contents",
   "toc_cell": true,
   "toc_position": {},
   "toc_section_display": true,
   "toc_window_display": false
  },
  "varInspector": {
   "cols": {
    "lenName": 16,
    "lenType": 16,
    "lenVar": 40
   },
   "kernels_config": {
    "python": {
     "delete_cmd_postfix": "",
     "delete_cmd_prefix": "del ",
     "library": "var_list.py",
     "varRefreshCmd": "print(var_dic_list())"
    },
    "r": {
     "delete_cmd_postfix": ") ",
     "delete_cmd_prefix": "rm(",
     "library": "var_list.r",
     "varRefreshCmd": "cat(var_dic_list()) "
    }
   },
   "position": {
    "height": "144.222px",
    "left": "488.444px",
    "right": "20px",
    "top": "190px",
    "width": "350px"
   },
   "types_to_exclude": [
    "module",
    "function",
    "builtin_function_or_method",
    "instance",
    "_Feature"
   ],
   "window_display": false
  }
 },
 "nbformat": 4,
 "nbformat_minor": 4
}
