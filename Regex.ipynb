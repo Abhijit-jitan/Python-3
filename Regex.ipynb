{
 "cells": [
  {
   "cell_type": "markdown",
   "metadata": {
    "toc": true
   },
   "source": [
    "<h1>Table of Contents<span class=\"tocSkip\"></span></h1>\n",
    "<div class=\"toc\"><ul class=\"toc-item\"><li><span><a href=\"#Special-Characters-:\" data-toc-modified-id=\"Special-Characters-:-1\"><span class=\"toc-item-num\">1&nbsp;&nbsp;</span>Special Characters :</a></span></li><li><span><a href=\"#Compile-Pattern-:\" data-toc-modified-id=\"Compile-Pattern-:-2\"><span class=\"toc-item-num\">2&nbsp;&nbsp;</span>Compile Pattern :</a></span><ul class=\"toc-item\"><li><span><a href=\"#compile()-:\" data-toc-modified-id=\"compile()-:-2.1\"><span class=\"toc-item-num\">2.1&nbsp;&nbsp;</span>compile() :</a></span></li><li><span><a href=\"#match()-:\" data-toc-modified-id=\"match()-:-2.2\"><span class=\"toc-item-num\">2.2&nbsp;&nbsp;</span>match() :</a></span></li><li><span><a href=\"#fullmatch()-:\" data-toc-modified-id=\"fullmatch()-:-2.3\"><span class=\"toc-item-num\">2.3&nbsp;&nbsp;</span>fullmatch() :</a></span></li><li><span><a href=\"#Search()-:\" data-toc-modified-id=\"Search()-:-2.4\"><span class=\"toc-item-num\">2.4&nbsp;&nbsp;</span>Search() :</a></span></li><li><span><a href=\"#finditer():\" data-toc-modified-id=\"finditer():-2.5\"><span class=\"toc-item-num\">2.5&nbsp;&nbsp;</span>finditer():</a></span></li><li><span><a href=\"#findall()-:\" data-toc-modified-id=\"findall()-:-2.6\"><span class=\"toc-item-num\">2.6&nbsp;&nbsp;</span>findall() :</a></span></li></ul></li></ul></div>"
   ]
  },
  {
   "cell_type": "code",
   "execution_count": null,
   "metadata": {},
   "outputs": [],
   "source": [
    "For Better working experience \n",
    "install jupyter notebook extenssion "
   ]
  },
  {
   "cell_type": "code",
   "execution_count": null,
   "metadata": {},
   "outputs": [],
   "source": [
    "# Incomplete "
   ]
  },
  {
   "cell_type": "markdown",
   "metadata": {},
   "source": [
    "## Special Characters :"
   ]
  },
  {
   "cell_type": "code",
   "execution_count": null,
   "metadata": {},
   "outputs": [],
   "source": [
    ".       - Any Character Except New Line\n",
    "\\d      - Digit (0-9)\n",
    "\\D      - Not a Digit (0-9)\n",
    "\\w      - Word Character (a-z, A-Z, 0-9, _)\n",
    "\\W      - Not a Word Character\n",
    "\\s      - Whitespace (space, tab, newline)\n",
    "\\S      - Not Whitespace (space, tab, newline)\n",
    "\n",
    "\n",
    "\n",
    "\n",
    "###       Anchors:\n",
    "^       - Beginning of String\n",
    "$       - End of String\n",
    "[]      - Matches Characters in brackets\n",
    "[^ ]    - Matches Characters NOT in brackets\n",
    "|       - Either Or\n",
    "( )     - Group\n",
    "\n",
    "\\b      - Word Boundary\n",
    "\\B      - Not a Word Boundary\n",
    "\n",
    "\n",
    "\n",
    "###      Quantifiers\n",
    "*       - 0 or More\n",
    "+       - 1 or More\n",
    "?       - 0 or One\n",
    "{3}     - Exact Number\n",
    "{3,4}   - Range of Numbers (Min,Max)\n"
   ]
  },
  {
   "cell_type": "code",
   "execution_count": 67,
   "metadata": {
    "ExecuteTime": {
     "end_time": "2021-08-03T14:27:12.977535Z",
     "start_time": "2021-08-03T14:27:12.959066Z"
    }
   },
   "outputs": [],
   "source": [
    "S1=\"\"\"\n",
    "ABCDEFGHIJKLMNOPQRSTUVWXYZ\n",
    "abcdefijklmnopqrstuvwxyz\n",
    "0123456789\n",
    "\"\"\"\n",
    "\n",
    "s2=\"\"\"\n",
    "abhiitjitan@gmail.com\n",
    "ankitaanki@gmail.com\n",
    "pixelmidea@gmail.com\n",
    "jitanabhijit.007@gmail.com\n",
    "ankit.aanki@gmail.com\n",
    "pixel_midea@gmail.com\n",
    "jitan.abhijit.007@gmail.com\n",
    "\n",
    "\"\"\"\n",
    "s3=\"\"\"\n",
    "9088374983\n",
    "8956928928\n",
    "6392909201\n",
    "7839292921\n",
    "1119383929\n",
    "9923838383\n",
    "7372829299\n",
    "6092939392\n",
    "\"\"\""
   ]
  },
  {
   "cell_type": "markdown",
   "metadata": {},
   "source": []
  },
  {
   "cell_type": "markdown",
   "metadata": {},
   "source": [
    "[Section 1](#section_1)"
   ]
  },
  {
   "cell_type": "raw",
   "metadata": {
    "ExecuteTime": {
     "end_time": "2021-08-02T15:19:39.097875Z",
     "start_time": "2021-08-02T15:19:39.066501Z"
    }
   },
   "source": [
    "'A','ASCII','DEBUG','DOTALL','I','IGNORECASE','L','LOCALE','M','MULTILINE','Pattern','RegexFlag',\n",
    "'S','Scanner','T','TEMPLATE','U','UNICODE','VERBOSE','copyreg','enum','error','escape','functools',\n",
    "'purge','X','_MAXCACHE','sre_compile','sre_parse','template'\n",
    "\n",
    "'split','Match'"
   ]
  },
  {
   "cell_type": "markdown",
   "metadata": {},
   "source": [
    "## Compile Pattern :\n",
    "**[compile()](#compile) :** Compile `RE pattern` & returns `pattern object`\n",
    "    \n",
    "**[match()](#match) :** Search `only at beginning` of string & gets `Matched Object`(else: None)\n",
    "\n",
    "**[fullmatch()](#fullmatch) :** Search `complete string` & gets `all Matched object`(else: None)\n",
    "\n",
    "**[search()](#search) :** Scan `complete string` & return `1st occurance of Matched object`(else: None)\n",
    "\n",
    "**[finditer()](#finditer) :** Scan `complete string` & return `iterators for each  Matched object`(else: None)\n",
    "\n",
    "**[findall()](#findall) :** Scan `complete string` & return `list of Matched object`(else: None)\n",
    "\n",
    "**[sub()](#sub) :** Scan `complete string` & `replace` with `new-str(repl)`\n",
    "\n",
    "**[subn()](#subn) :**\n",
    "    \n",
    "**[split()](#split) :** `Split source string` by `occurrences of pattern` & gets `list containing resulting substrings`\n"
   ]
  },
  {
   "cell_type": "markdown",
   "metadata": {},
   "source": [
    "<a id='compile'></a>\n",
    "### compile() :\n",
    "**Syntax:** ``re.compile(pattern,flags=0)``\n"
   ]
  },
  {
   "cell_type": "code",
   "execution_count": 125,
   "metadata": {
    "ExecuteTime": {
     "end_time": "2021-08-03T16:00:31.268390Z",
     "start_time": "2021-08-03T16:00:31.249142Z"
    }
   },
   "outputs": [
    {
     "name": "stdout",
     "output_type": "stream",
     "text": [
      "9088374983\n",
      "8956928928\n",
      "6392909201\n",
      "7839292921\n",
      "1119383929\n",
      "9923838383\n",
      "7372829299\n",
      "6092939392\n"
     ]
    }
   ],
   "source": [
    "pattern=re.compile(r\"[a-zA-Z0-9]*(._)*[@gmail.com]{1}\")   # gmail matcher\n",
    "pattern=re.compile(r\"([1|6-9]{1})([0-9]{9})\")             # Indian Phone number matcher                                    \n"
   ]
  },
  {
   "cell_type": "code",
   "execution_count": null,
   "metadata": {},
   "outputs": [],
   "source": [
    "## Matching Using Patterns\n",
    "pattern.findall(s3)\n",
    "\n",
    "for strs in pattern.finditer(s3):\n",
    "    print(strs.group())\n",
    "\n"
   ]
  },
  {
   "cell_type": "code",
   "execution_count": null,
   "metadata": {},
   "outputs": [],
   "source": [
    "## Attributes\n",
    "pattern.span()       # start-end index of matched substring\n",
    "pattern.end()        # end-Index of matched substring\n",
    "pattern.start()      # start-index of matched substring\n",
    "pattern.group()      # Groups matched string\n",
    "pattern.string       # Returns string   \n"
   ]
  },
  {
   "cell_type": "markdown",
   "metadata": {},
   "source": [
    "<a id='match'></a>\n",
    "### match() :\n",
    "**Syntax:** ``re.match(pattern,string,flags=0)``\n"
   ]
  },
  {
   "cell_type": "code",
   "execution_count": 91,
   "metadata": {
    "ExecuteTime": {
     "end_time": "2021-08-03T15:32:05.251567Z",
     "start_time": "2021-08-03T15:32:05.236563Z"
    }
   },
   "outputs": [],
   "source": [
    "S1=\"\"\"\n",
    "ABCDEFGHIJKLMNOPQRSTUVWXYZ\n",
    "abcdefijklmnopqrstuvwxyz\n",
    "0123456789\n",
    "\"\"\"\n",
    "\n",
    "s2=\"\"\"\n",
    "abhiitjitan@gmail.com\n",
    "ankitaanki@gmail.com\n",
    "pixelmidea@gmail.com\n",
    "jitanabhijit.007@gmail.com\n",
    "ankit.aanki@gmail.com\n",
    "pixel_midea@gmail.com\n",
    "jitan.abhijit.007@gmail.com\n",
    "\n",
    "\"\"\"\n",
    "\n",
    "\n",
    "s3=\"\"\"\n",
    "9088374983\n",
    "8956928928\n",
    "6392909201\n",
    "7839292921\n",
    "1119383929\n",
    "9923838383\n",
    "7372829299\n",
    "6092939392\n",
    "\"\"\"\n",
    "\n"
   ]
  },
  {
   "cell_type": "code",
   "execution_count": 92,
   "metadata": {
    "ExecuteTime": {
     "end_time": "2021-08-03T15:32:52.458544Z",
     "start_time": "2021-08-03T15:32:52.433365Z"
    }
   },
   "outputs": [
    {
     "ename": "AttributeError",
     "evalue": "'NoneType' object has no attribute 'group'",
     "output_type": "error",
     "traceback": [
      "\u001b[1;31m---------------------------------------------------------------------------\u001b[0m",
      "\u001b[1;31mAttributeError\u001b[0m                            Traceback (most recent call last)",
      "\u001b[1;32m<ipython-input-92-d699e2d1832a>\u001b[0m in \u001b[0;36m<module>\u001b[1;34m\u001b[0m\n\u001b[0;32m      1\u001b[0m \u001b[1;32mimport\u001b[0m \u001b[0mre\u001b[0m\u001b[1;33m\u001b[0m\u001b[1;33m\u001b[0m\u001b[0m\n\u001b[0;32m      2\u001b[0m \u001b[0msub_str\u001b[0m\u001b[1;33m=\u001b[0m\u001b[0mre\u001b[0m\u001b[1;33m.\u001b[0m\u001b[0mmatch\u001b[0m\u001b[1;33m(\u001b[0m\u001b[1;34m\"([1|6-9]{1})([0-9]{9})\"\u001b[0m\u001b[1;33m,\u001b[0m\u001b[0ms3\u001b[0m\u001b[1;33m)\u001b[0m\u001b[1;33m\u001b[0m\u001b[1;33m\u001b[0m\u001b[0m\n\u001b[1;32m----> 3\u001b[1;33m \u001b[0msub_str\u001b[0m\u001b[1;33m.\u001b[0m\u001b[0mgroup\u001b[0m\u001b[1;33m(\u001b[0m\u001b[1;33m)\u001b[0m\u001b[1;33m\u001b[0m\u001b[1;33m\u001b[0m\u001b[0m\n\u001b[0m",
      "\u001b[1;31mAttributeError\u001b[0m: 'NoneType' object has no attribute 'group'"
     ]
    }
   ],
   "source": [
    "import re \n",
    "sub_str=re.match(\"([1|6-9]{1})([0-9]{9})\",s3)\n",
    "sub_str.group()"
   ]
  },
  {
   "cell_type": "code",
   "execution_count": null,
   "metadata": {},
   "outputs": [],
   "source": [
    "import re\n",
    "txt=''\n",
    "matcher=re.match()\n",
    "if m!=None:\n",
    "    print('Match present in Beggining of String')\n",
    "    print('Start position :',m.start())   ## Start index of match\n",
    "    print('End position :',m.end())       ## (End+1) index of match\n",
    "    print('Group :',m.group())            ## Returns matched string\n",
    "else:\n",
    "    print('Match Not-present in Beggining of String')\n",
    "    \n",
    "    \n",
    "\n",
    "\n",
    "\n",
    "\n",
    "a.span()       # start-end index of matched substring\n",
    "a.end()        # end-Index of matched substring\n",
    "a.start()      # start-index of matched substring\n",
    "a.group()      # Groups matched string\n",
    "a.string       # Returns string   \n"
   ]
  },
  {
   "cell_type": "code",
   "execution_count": null,
   "metadata": {},
   "outputs": [],
   "source": []
  },
  {
   "cell_type": "markdown",
   "metadata": {},
   "source": [
    "<a id='fullmatch'></a>\n",
    "### fullmatch() :\n",
    "**Syntax:** ``re.fullmatch(pattern,string,flags=0)``\n"
   ]
  },
  {
   "cell_type": "code",
   "execution_count": 138,
   "metadata": {
    "ExecuteTime": {
     "end_time": "2021-08-03T16:10:52.287422Z",
     "start_time": "2021-08-03T16:10:52.277550Z"
    }
   },
   "outputs": [
    {
     "name": "stdout",
     "output_type": "stream",
     "text": [
      "None\n"
     ]
    }
   ],
   "source": [
    "import re\n",
    "sub_str=re.fullmatch(\"([1|6-9]{1})([0-9]{9})\",s3)\n",
    "print(sub_str)\n",
    "#.group()\n"
   ]
  },
  {
   "cell_type": "code",
   "execution_count": null,
   "metadata": {},
   "outputs": [],
   "source": []
  },
  {
   "cell_type": "code",
   "execution_count": null,
   "metadata": {},
   "outputs": [],
   "source": [
    "a.span()       # start-end index of matched substring\n",
    "a.end()        # end-Index of matched substring\n",
    "a.start()      # start-index of matched substring\n",
    "a.group()      # Groups matched string\n",
    "a.string       # Returns string   \n"
   ]
  },
  {
   "cell_type": "markdown",
   "metadata": {},
   "source": [
    "<a id='search'></a>\n",
    "### Search() :\n",
    " * Scans ***all over string*** & Returns ***only 1st occurance*** of Matched object(else: None) \n",
    "\n",
    "**Syntax:** ``re.search(pattern,string,flags=0)``"
   ]
  },
  {
   "cell_type": "code",
   "execution_count": 134,
   "metadata": {
    "ExecuteTime": {
     "end_time": "2021-08-03T16:09:17.673795Z",
     "start_time": "2021-08-03T16:09:17.654482Z"
    }
   },
   "outputs": [
    {
     "data": {
      "text/plain": [
       "<function Match.end(group=0, /)>"
      ]
     },
     "execution_count": 134,
     "metadata": {},
     "output_type": "execute_result"
    }
   ],
   "source": [
    "sub_strs=re.search(pattern,s3)\n",
    "\n",
    "## Attributes\n",
    "sub_strs.span()       # start-end index of matched substring\n",
    "sub_strs.end()        # end-Index of matched substring\n",
    "sub_strs.start()      # start-index of matched substring\n",
    "sub_strs.group()      # Groups matched string\n",
    "sub_strs.string       # Returns string   \n"
   ]
  },
  {
   "cell_type": "markdown",
   "metadata": {},
   "source": [
    "<a id='finditer'></a>\n",
    "### finditer():\n",
    " * ***Matches pattern all over string*** & Return ***iterator for each matched objects***\n",
    " \n",
    "**Syntax:** ``re.finditer(pattern,string,flags=0)``\n"
   ]
  },
  {
   "cell_type": "code",
   "execution_count": 111,
   "metadata": {
    "ExecuteTime": {
     "end_time": "2021-08-03T15:45:29.255082Z",
     "start_time": "2021-08-03T15:45:29.228255Z"
    }
   },
   "outputs": [
    {
     "name": "stdout",
     "output_type": "stream",
     "text": [
      "Matched Sub-strings : 9088374983\n",
      "Start-index:1 & End-index:11 of Matched Sub-strings\n",
      "Matched Sub-strings : 8956928928\n",
      "Start-index:12 & End-index:22 of Matched Sub-strings\n",
      "Matched Sub-strings : 6392909201\n",
      "Start-index:23 & End-index:33 of Matched Sub-strings\n",
      "Matched Sub-strings : 7839292921\n",
      "Start-index:34 & End-index:44 of Matched Sub-strings\n",
      "Matched Sub-strings : 1119383929\n",
      "Start-index:45 & End-index:55 of Matched Sub-strings\n",
      "Matched Sub-strings : 9923838383\n",
      "Start-index:56 & End-index:66 of Matched Sub-strings\n",
      "Matched Sub-strings : 7372829299\n",
      "Start-index:67 & End-index:77 of Matched Sub-strings\n",
      "Matched Sub-strings : 6092939392\n",
      "Start-index:78 & End-index:88 of Matched Sub-strings\n"
     ]
    }
   ],
   "source": [
    "sub_strs=re.finditer(r\"([1|6-9]{1})([0-9]{9})\",s3)    \n",
    "\n",
    "for strs in sub_strs:\n",
    "    print(\"Matched Sub-strings :\",strs.group())\n",
    "    print(\"Start-index:{} & End-index:{} of Matched Sub-strings\".format(strs.start(),strs.end()))\n",
    "  "
   ]
  },
  {
   "cell_type": "code",
   "execution_count": null,
   "metadata": {},
   "outputs": [],
   "source": [
    "## Attributes\n",
    "sub_strs.span()       # start-end index of matched substring\n",
    "sub_strs.end()        # end-Index of matched substring\n",
    "sub_strs.start()      # start-index of matched substring\n",
    "sub_strs.group()      # Groups matched string\n"
   ]
  },
  {
   "cell_type": "markdown",
   "metadata": {},
   "source": [
    "<a id='findall'></a>\n",
    "### findall() : \n",
    " * ***Matches pattern all over string*** & Return as ***list of matched objects***\n",
    " \n",
    "**Syntax:** `` re.findall(pattern,string,flags=0)``\n"
   ]
  },
  {
   "cell_type": "code",
   "execution_count": 126,
   "metadata": {
    "ExecuteTime": {
     "end_time": "2021-08-03T16:03:42.835581Z",
     "start_time": "2021-08-03T16:03:42.815869Z"
    }
   },
   "outputs": [
    {
     "data": {
      "text/plain": [
       "[('9', '088374983'),\n",
       " ('8', '956928928'),\n",
       " ('6', '392909201'),\n",
       " ('7', '839292921'),\n",
       " ('1', '119383929'),\n",
       " ('9', '923838383'),\n",
       " ('7', '372829299'),\n",
       " ('6', '092939392')]"
      ]
     },
     "execution_count": 126,
     "metadata": {},
     "output_type": "execute_result"
    }
   ],
   "source": [
    "sub_strs=re.findall(\"([1|6-9]{1})([0-9]{9})\",s3)    \n",
    "sub_strs\n",
    "\n",
    "## Attributes : No attributes are applicable"
   ]
  },
  {
   "cell_type": "markdown",
   "metadata": {},
   "source": [
    "<a id='sub'></a>"
   ]
  },
  {
   "cell_type": "code",
   "execution_count": null,
   "metadata": {},
   "outputs": [],
   "source": [
    "#@ re.sub(pattern,repl,string,count=0,flags=0)\n",
    "\n"
   ]
  },
  {
   "cell_type": "code",
   "execution_count": null,
   "metadata": {},
   "outputs": [],
   "source": []
  },
  {
   "cell_type": "code",
   "execution_count": null,
   "metadata": {},
   "outputs": [],
   "source": []
  },
  {
   "cell_type": "markdown",
   "metadata": {},
   "source": [
    "<a id='subn'></a>"
   ]
  },
  {
   "cell_type": "code",
   "execution_count": null,
   "metadata": {},
   "outputs": [],
   "source": [
    "#@ re.subn(pattern,repl,string,count=0,flags=0)\n"
   ]
  },
  {
   "cell_type": "code",
   "execution_count": null,
   "metadata": {},
   "outputs": [],
   "source": []
  },
  {
   "cell_type": "code",
   "execution_count": null,
   "metadata": {},
   "outputs": [],
   "source": [
    "## Attributes\n",
    "sub_strs.span()       # start-end index of matched substring\n",
    "sub_strs.end()        # end-Index of matched substring\n",
    "sub_strs.start()      # start-index of matched substring\n",
    "sub_strs.group()      # Groups matched string\n",
    "sub_strs.string       # Returns string   \n"
   ]
  },
  {
   "cell_type": "markdown",
   "metadata": {},
   "source": [
    "<a id='split'></a>"
   ]
  },
  {
   "cell_type": "code",
   "execution_count": null,
   "metadata": {},
   "outputs": [],
   "source": [
    "                      ---------- e) Split through Pattern ----------\n",
    "# e.1) split():\n",
    "@ re.split(pattern,string,maxsplit=0,flags=0)\n",
    " *pattern:how to split   *string:text strings  *maxsplit:(int) no. of split(left to right) *flag:\n",
    "                    \n",
    "import re\n",
    "spliter=re.split(pattern=' ',string=text,maxsplit=4)\n",
    "for i in spliter:\n",
    "    print(i)\n",
    "    \n",
    "    \n",
    "    \n",
    "## re.split():\n",
    "Split source string by occurrences of pattern,returning list containing resulting substrings.\n",
    "    If capturing parentheses are used in pattern,then text of all groups in pattern are also returned as part of resulting list.\n",
    "    If maxsplit is nonzero, at most maxsplit splits occur,and remainder of string is returned as final element of list\n",
    "@ split(pattern,string,maxsplit=0,flags=0)    \n",
    "    \n",
    "    \n",
    "a.span()       # start-end index of matched substring\n",
    "a.end()        # end-Index of matched substring\n",
    "a.start()      # start-index of matched substring\n",
    "a.group()      # Groups matched string\n",
    "a.string       # Returns string   \n"
   ]
  },
  {
   "cell_type": "code",
   "execution_count": null,
   "metadata": {},
   "outputs": [],
   "source": []
  },
  {
   "cell_type": "code",
   "execution_count": 17,
   "metadata": {
    "ExecuteTime": {
     "end_time": "2021-08-02T15:43:54.912894Z",
     "start_time": "2021-08-02T15:43:54.885935Z"
    }
   },
   "outputs": [
    {
     "data": {
      "text/plain": [
       "'aabbccddeeff'"
      ]
     },
     "execution_count": 17,
     "metadata": {},
     "output_type": "execute_result"
    }
   ],
   "source": [
    "a.span()       # start-end index of matched substring\n",
    "a.end()        # end-Index of matched substring\n",
    "a.start()      # start-index of matched substring\n",
    "a.group()      # Groups matched string\n",
    "a.string       # Returns string   \n",
    "\n",
    "#a.endpos\n",
    "#a.expand()      # Return the string obtained by doing backslash substitution on the string template, as done by the sub() method\n",
    "#a.groupdict()   # dictionary containing all the named subgroups of the match, keyed by the subgroup name\n",
    "#a.groups()      # Gets tuple(all match subgroups) ,from 1\n",
    "#a.lastgroup\n",
    "#a.lastindex\n",
    "#a.pos\n",
    "#a.regs\n"
   ]
  },
  {
   "cell_type": "code",
   "execution_count": null,
   "metadata": {},
   "outputs": [],
   "source": []
  },
  {
   "cell_type": "code",
   "execution_count": null,
   "metadata": {},
   "outputs": [],
   "source": []
  },
  {
   "cell_type": "code",
   "execution_count": null,
   "metadata": {},
   "outputs": [],
   "source": []
  },
  {
   "cell_type": "code",
   "execution_count": null,
   "metadata": {},
   "outputs": [],
   "source": []
  },
  {
   "cell_type": "code",
   "execution_count": null,
   "metadata": {},
   "outputs": [],
   "source": [
    "regular expression is a compact notation for representing a collection of\n",
    "strings\n",
    " single regular\n",
    "expression can represent an unlimited number of strings\n",
    "\n",
    "Pattern matching : consists of finding a \"section\" of text that is described (matched) by a \"re\"\n",
    "                   code that searches  \"text/pattern\" is the \"re-engine\"\n",
    "        \n",
    "Re engines :\n",
    "    1) DFA - Faster\n",
    "           - lack behinds NFA (capturing,lookaround,non-greedy quantifiers)\n",
    "           - compare each character of \"input string\" to \"regular expression\"\n",
    "           - keeping track of \"all matches\" in progress\n",
    "           - each character is examined at most once, the DFA engine is the fastest. \n",
    "           - In \"alternation match\" longest  selected\n",
    "            eg- (foo|foobar) matches, the \"foobar\" is selected\n",
    "        NFA \n",
    "        a) Traditional NFA engines:\n",
    "              - compare \"each element\" of \"regex\" to input string\n",
    "              - keeping track of positions \" it chose between two options i) If option fails,engine backtracks to most recently saved position\"\n",
    "              - Alternation(ordered) each option tried sequentially. \n",
    "            longer match may be ignored if an earlier option leads to a successful match. \n",
    "            \n",
    "        b) POSIX NFA engines :\n",
    "              - work similarly to Traditional NFAs  \n",
    "              - (exception) always picks the longest of the leftmost matches\n",
    "               eg: cat|category would match the full word “category” whenever possible, even if the first alternative (“cat”) matched and appeared earlier in the alternation. \n",
    "        \n",
    "Rules : \n",
    "    1) Earliest #leftmost match wins\n",
    "        - It starts \"finding match\" from \"starting\" & proceed towards \"last\"\n",
    "        - As soon as it finds a match it, returns\n",
    "     2) Standard \n",
    "        - \"quantifiers\" specify \"how many times some thing can be reeated\"\n",
    "        - \"standard quantifiers\" attempt to \"match\" as many times as possible\n",
    "        - They settle for <than \"maximum\" only if this is necessary for the success of the match. The process of giving up characters and trying less-greedy matches is called backtracking\n",
    "main purpose :\n",
    "    1) parsing:identifies & extract \"part of tex\" that matches to \"regex\"\n",
    "               python uses \"ad hoc & traditional parser\"\n",
    "        \n",
    "    2) Searching : \"locating \" \"substrings\"  that can have more than one form\n",
    "        ex- \"bg.png\",\"bg.jpeg\",\"bg.jpg\",\"bg.svg\" are in morethan one form .\n",
    "    3) Searching & Replace :  replacing everywhere the regex matches with\n",
    "a string.\n",
    "        ex- finding \"bike\" or \"car\" or \"bus\" & replace them with \"vehicle\"\n",
    "    \n",
    "    4) Splitting Strings :  splitting a string at each place the regex matches\n",
    "        ex- splitting every where occurs ( \":\"or\";\"or\".\")\n",
    "        \n",
    "    5) Validation :  checking whether a piece of text meets some criteria\n",
    "        ex- \"phone no.\" must contain all digits \n",
    "    6) It can also used as \"parser\" for \"XML\""
   ]
  },
  {
   "cell_type": "code",
   "execution_count": null,
   "metadata": {},
   "outputs": [],
   "source": [
    "mission success\n",
    "\n",
    "# use raw byte strings if input is of byte data type\n",
    ">>> \n",
    "True\n",
    "difference between string and line anchors\n",
    "# string anchors\n",
    ">>> bool(re.search(r'\\Ahi', 'hi hello\\ntop spot'))\n",
    "True\n",
    ">>> words = ['surrender', 'up', 'newer', 'do', 'ear', 'eel', 'pest']\n",
    ">>> [w for w in words if re.search(r'er\\Z', w)]\n",
    "['surrender', 'newer']\n",
    "\n",
    "# line anchors\n",
    ">>> bool(re.search(r'^par$', 'spare\\npar\\ndare', flags=re.M))\n",
    "True\n",
    "examples for re.findall\n",
    "# whole word par with optional s at start and optional e at end\n",
    ">>> re.findall(r'\\bs?pare?\\b', 'par spar apparent spare part pare')\n",
    "['par', 'spar', 'spare', 'pare']\n",
    "\n",
    "# numbers >= 100 with optional leading zeros\n",
    ">>> re.findall(r'\\b0*[1-9]\\d{2,}\\b', '0501 035 154 12 26 98234')\n",
    "['0501', '154', '98234']\n",
    "\n",
    "# if multiple capturing groups are used, each element of output\n",
    "# will be a tuple of strings of all the capture groups\n",
    ">>> re.findall(r'([^/]+)/([^/,]+),?', '2020/04,1986/Mar')\n",
    "[('2020', '04'), ('1986', 'Mar')]\n",
    "\n",
    "# normal capture group will hinder ability to get whole match\n",
    "# non-capturing group to the rescue\n",
    ">>> re.findall(r'\\b\\w*(?:st|in)\\b', 'cost akin more east run')\n",
    "['cost', 'akin', 'east']\n",
    "\n",
    "# useful for debugging purposes as well\n",
    ">>> re.findall(r't.*?a', 'that is quite a fabricated tale')\n",
    "['tha', 't is quite a', 'ted ta']\n",
    "examples for re.split\n",
    "# split based on one or more digit characters\n",
    ">>> re.split(r'\\d+', 'Sample123string42with777numbers')\n",
    "['Sample', 'string', 'with', 'numbers']\n",
    "\n",
    "# split based on digit or whitespace characters\n",
    ">>> re.split(r'[\\d\\s]+', '**1\\f2\\n3star\\t7 77\\r**')\n",
    "['**', 'star', '**']\n",
    "\n",
    "# to include the matching delimiter strings as well in the output\n",
    ">>> re.split(r'(\\d+)', 'Sample123string42with777numbers')\n",
    "['Sample', '123', 'string', '42', 'with', '777', 'numbers']\n",
    "\n",
    "# use non-capturing group if capturing is not needed\n",
    ">>> re.split(r'hand(?:y|ful)', '123handed42handy777handful500')\n",
    "['123handed42', '777', '500']\n",
    "backreferencing within search pattern\n",
    "# whole words that have at least one consecutive repeated character\n",
    ">>> words = ['effort', 'flee', 'facade', 'oddball', 'rat', 'tool']\n",
    "\n",
    ">>> [w for w in words if re.search(r'\\b\\w*(\\w)\\1\\w*\\b', w)]\n",
    "['effort', 'flee', 'oddball', 'tool']\n",
    "working with matched portions\n",
    ">>> re.search(r'b.*d', 'abc ac adc abbbc')\n",
    "<re.Match object; span=(1, 9), match='bc ac ad'>\n",
    "# retrieving entire matched portion, note the use of [0]\n",
    ">>> re.search(r'b.*d', 'abc ac adc abbbc')[0]\n",
    "'bc ac ad'\n",
    "\n",
    "# capture group example\n",
    ">>> m = re.search(r'a(.*)d(.*a)', 'abc ac adc abbbc')\n",
    "# to get matched portion of second capture group\n",
    ">>> m[2]\n",
    "'c a'\n",
    "# to get a tuple of all the capture groups\n",
    ">>> m.groups()\n",
    "('bc ac a', 'c a')\n",
    "examples for re.finditer\n",
    "# numbers < 350\n",
    ">>> m_iter = re.finditer(r'[0-9]+', '45 349 651 593 4 204')\n",
    ">>> [m[0] for m in m_iter if int(m[0]) < 350]\n",
    "['45', '349', '4', '204']\n",
    "\n",
    "# start and end+1 index of each matching portion\n",
    ">>> m_iter = re.finditer(r'ab+c', 'abc ac adc abbbc')\n",
    ">>> for m in m_iter:\n",
    "...     print(m.span())\n",
    "... \n",
    "(0, 3)\n",
    "(11, 16)\n",
    "examples for re.sub\n",
    ">>> ip_lines = \"catapults\\nconcatenate\\ncat\"\n",
    ">>> print(re.sub(r'^', r'* ', ip_lines, flags=re.M))\n",
    "* catapults\n",
    "* concatenate\n",
    "* cat\n",
    "\n",
    "# replace 'par' only at start of word\n",
    ">>> re.sub(r'\\bpar', r'X', 'par spar apparent spare part')\n",
    "'X spar apparent spare Xt'\n",
    "\n",
    "# same as: r'part|parrot|parent'\n",
    ">>> re.sub(r'par(en|ro)?t', r'X', 'par part parrot parent')\n",
    "'par X X X'\n",
    "\n",
    "# remove first two columns where : is delimiter\n",
    ">>> re.sub(r'\\A([^:]+:){2}', r'', 'foo:123:bar:baz', count=1)\n",
    "'bar:baz'\n",
    "backreferencing in replacement section\n",
    "# remove consecutive duplicate words separated by space\n",
    ">>> re.sub(r'\\b(\\w+)( \\1)+\\b', r'\\1', 'aa a a a 42 f_1 f_1 f_13.14')\n",
    "'aa a 42 f_1 f_13.14'\n",
    "\n",
    "# add something around the matched strings\n",
    ">>> re.sub(r'\\d+', r'(\\g<0>0)', '52 apples and 31 mangoes')\n",
    "'(520) apples and (310) mangoes'\n",
    "\n",
    "# swap words that are separated by a comma\n",
    ">>> re.sub(r'(\\w+),(\\w+)', r'\\2,\\1', 'good,bad 42,24')\n",
    "'bad,good 24,42'\n",
    "using functions in replacement section of re.sub\n",
    ">>> from math import factorial\n",
    ">>> numbers = '1 2 3 4 5'\n",
    ">>> def fact_num(n):\n",
    "...     return str(factorial(int(n[0])))\n",
    "... \n",
    ">>> re.sub(r'\\d+', fact_num, numbers)\n",
    "'1 2 6 24 120'\n",
    "\n",
    "# using lambda\n",
    ">>> re.sub(r'\\d+', lambda m: str(factorial(int(m[0]))), numbers)\n",
    "'1 2 6 24 120'\n",
    "examples for lookarounds\n",
    "# change 'foo' only if it is not followed by a digit character\n",
    "# note that end of string satisfies the given assertion\n",
    "# foofoo has 2 matches as the assertion doesn't consume characters\n",
    ">>> re.sub(r'foo(?!\\d)', r'baz', 'hey food! foo42 foot5 foofoo')\n",
    "'hey bazd! foo42 bazt5 bazbaz'\n",
    "\n",
    "# change whole word only if it is not preceded by : or -\n",
    ">>> re.sub(r'(?<![:-])\\b\\w+\\b', r'X', ':cart <apple -rest ;tea')\n",
    "':cart <X -rest ;X'\n",
    "\n",
    "# match digits only if it is preceded by - and followed by ; or :\n",
    ">>> re.findall(r'(?<=-)\\d+(?=[:;])', 'fo-5, ba3; x-83, y-20: f12')\n",
    "['20']\n",
    "\n",
    "# words containing 'b' and 'e' and 't' in any order\n",
    ">>> words = ['sequoia', 'questionable', 'exhibit', 'equation']\n",
    ">>> [w for w in words if re.search(r'(?=.*b)(?=.*e).*t', w)]\n",
    "['questionable', 'exhibit']\n",
    "\n",
    "# match if 'do' is not there between 'at' and 'par'\n",
    ">>> bool(re.search(r'at((?!do).)*par', 'fox,cat,dog,parrot'))\n",
    "False\n",
    "# match if 'go' is not there between 'at' and 'par'\n",
    ">>> bool(re.search(r'at((?!go).)*par', 'fox,cat,dog,parrot'))\n",
    "True\n",
    "examples for re.compile\n",
    "Regular expressions can be compiled using re.compile function, which gives back a re.Pattern object. The top level re module functions are all available as methods for this object. Compiling a regular expression helps if the RE has to be used in multiple places or called upon multiple times inside a loop (speed benefit). By default, Python maintains a small list of recently used RE, so the speed benefit doesn't apply for trivial use cases.\n",
    "\n",
    ">>> pet = re.compile(r'dog')\n",
    ">>> type(pet)\n",
    "<class 're.Pattern'>\n",
    ">>> bool(pet.search('They bought a dog'))\n",
    "True\n",
    ">>> bool(pet.search('A cat crossed their path'))\n",
    "False\n",
    "\n",
    ">>> pat = re.compile(r'\\([^)]*\\)')\n",
    ">>> pat.sub('', 'a+b(addition) - foo() + c%d(#modulo)')\n",
    "'a+b - foo + c%d'\n",
    ">>> pat.sub('', 'Hi there(greeting). Nice day(a(b)')\n",
    "'Hi there. Nice day'"
   ]
  }
 ],
 "metadata": {
  "hide_input": false,
  "kernelspec": {
   "display_name": "Python 3",
   "language": "python",
   "name": "python3"
  },
  "language_info": {
   "codemirror_mode": {
    "name": "ipython",
    "version": 3
   },
   "file_extension": ".py",
   "mimetype": "text/x-python",
   "name": "python",
   "nbconvert_exporter": "python",
   "pygments_lexer": "ipython3",
   "version": "3.8.8"
  },
  "latex_envs": {
   "LaTeX_envs_menu_present": true,
   "autoclose": false,
   "autocomplete": true,
   "bibliofile": "biblio.bib",
   "cite_by": "apalike",
   "current_citInitial": 1,
   "eqLabelWithNumbers": true,
   "eqNumInitial": 1,
   "hotkeys": {
    "equation": "Ctrl-E",
    "itemize": "Ctrl-I"
   },
   "labels_anchors": false,
   "latex_user_defs": false,
   "report_style_numbering": false,
   "user_envs_cfg": false
  },
  "toc": {
   "base_numbering": 1,
   "nav_menu": {},
   "number_sections": true,
   "sideBar": true,
   "skip_h1_title": false,
   "title_cell": "Table of Contents",
   "title_sidebar": "Contents",
   "toc_cell": true,
   "toc_position": {},
   "toc_section_display": true,
   "toc_window_display": false
  },
  "varInspector": {
   "cols": {
    "lenName": 16,
    "lenType": 16,
    "lenVar": 40
   },
   "kernels_config": {
    "python": {
     "delete_cmd_postfix": "",
     "delete_cmd_prefix": "del ",
     "library": "var_list.py",
     "varRefreshCmd": "print(var_dic_list())"
    },
    "r": {
     "delete_cmd_postfix": ") ",
     "delete_cmd_prefix": "rm(",
     "library": "var_list.r",
     "varRefreshCmd": "cat(var_dic_list()) "
    }
   },
   "position": {
    "height": "144.222px",
    "left": "517.222px",
    "right": "20px",
    "top": "119px",
    "width": "350px"
   },
   "types_to_exclude": [
    "module",
    "function",
    "builtin_function_or_method",
    "instance",
    "_Feature"
   ],
   "window_display": false
  }
 },
 "nbformat": 4,
 "nbformat_minor": 2
}
