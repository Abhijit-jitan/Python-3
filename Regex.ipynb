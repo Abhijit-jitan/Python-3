{
 "cells": [
  {
   "cell_type": "markdown",
   "metadata": {
    "toc": true
   },
   "source": [
    "<h1>Table of Contents<span class=\"tocSkip\"></span></h1>\n",
    "<div class=\"toc\"><ul class=\"toc-item\"><li><span><a href=\"#Regular-Expression-:\" data-toc-modified-id=\"Regular-Expression-:-1\"><span class=\"toc-item-num\">1&nbsp;&nbsp;</span>Regular Expression :</a></span></li></ul></div>"
   ]
  },
  {
   "cell_type": "markdown",
   "metadata": {},
   "source": [
    "## Regular Expression :\n",
    "\n",
    "\n"
   ]
  },
  {
   "cell_type": "code",
   "execution_count": 40,
   "metadata": {
    "ExecuteTime": {
     "end_time": "2020-10-13T09:12:58.054780Z",
     "start_time": "2020-10-13T09:12:58.040514Z"
    }
   },
   "outputs": [
    {
     "name": "stdout",
     "output_type": "stream",
     "text": [
      "Help on function subn in module re:\n",
      "\n",
      "subn(pattern, repl, string, count=0, flags=0)\n",
      "    Return a 2-tuple containing (new_string, number).\n",
      "    new_string is the string obtained by replacing the leftmost\n",
      "    non-overlapping occurrences of the pattern in the source\n",
      "    string by the replacement repl.  number is the number of\n",
      "    substitutions that were made. repl can be either a string or a\n",
      "    callable; if a string, backslash escapes in it are processed.\n",
      "    If it is a callable, it's passed the match object and must\n",
      "    return a replacement string to be used.\n",
      "\n"
     ]
    },
    {
     "data": {
      "text/plain": [
       "['restricts', 'the', 'match', 'to', 'the start of string']"
      ]
     },
     "execution_count": 40,
     "metadata": {},
     "output_type": "execute_result"
    }
   ],
   "source": [
    "import re\n",
    "help(re.subn) \n",
    "text='restricts the match to the start of string'\n",
    "\n",
    "\n",
    "\n",
    "\n"
   ]
  },
  {
   "cell_type": "code",
   "execution_count": 41,
   "metadata": {
    "ExecuteTime": {
     "end_time": "2020-10-13T09:16:37.402459Z",
     "start_time": "2020-10-13T09:16:37.382440Z"
    }
   },
   "outputs": [
    {
     "name": "stdout",
     "output_type": "stream",
     "text": [
      "restricts\n",
      "the\n",
      "match\n",
      "to\n",
      "the start of string\n"
     ]
    }
   ],
   "source": []
  },
  {
   "cell_type": "code",
   "execution_count": 30,
   "metadata": {
    "ExecuteTime": {
     "end_time": "2020-10-13T02:19:10.302219Z",
     "start_time": "2020-10-13T02:19:10.298215Z"
    }
   },
   "outputs": [
    {
     "name": "stdout",
     "output_type": "stream",
     "text": [
      "Help on function fullmatch in module re:\n",
      "\n",
      "fullmatch(pattern, string, flags=0)\n",
      "    Try to apply the pattern to all of the string, returning\n",
      "    a match object, or None if no match was found.\n",
      "\n"
     ]
    }
   ],
   "source": [
    "help(re.fullmatch)"
   ]
  },
  {
   "cell_type": "code",
   "execution_count": null,
   "metadata": {},
   "outputs": [],
   "source": [
    "                      ----------a) Compile Pattern ----------\n",
    "## compile(): Compile 'regular expression pattern',returns 'pattern object'\n",
    "@ re.compile(pattern,flags=0)\n"
   ]
  },
  {
   "cell_type": "code",
   "execution_count": null,
   "metadata": {},
   "outputs": [],
   "source": [
    "                      ---------- b) Match Pattern ----------\n",
    "\n",
    "# b.1) match() : Search for 'pattern' @ beginning of 'string' & gets Match Object(else return None)\n",
    "@ re.match(pattern,string,flags=0)\n",
    "\n",
    "## b.2) fullmatch() :Apply the pattern to all of string,returns match object(None if no match was found)\n",
    "@ re.fullmatch(pattern,string,flags=0)\n",
    "\n"
   ]
  },
  {
   "cell_type": "code",
   "execution_count": null,
   "metadata": {},
   "outputs": [],
   "source": [
    "                      ---------- c) Search for Pattern ----------\n",
    "#c.1) search(): Scan through 'string' looking for match to pattern,return 'match object'(None if no match was found)\n",
    "@ re.search(pattern,string,flags=0)\n",
    "\n",
    "m=re.search()\n",
    "if m!=None:\n",
    "    print('Match present')\n",
    "    print('Start position :',m.start())   ## Start index of match\n",
    "    print('End position :',m.end())       ## (End+1) index of match\n",
    "    print('Group :',m.group())            ## Returns matched string\n",
    "else:\n",
    "    print('Full String not matched')    \n",
    "    \n",
    "# c.2) finditer() :Return iterator over all non-overlapping matches in 'string'(For each match,iterator returns match object)\n",
    "@ re.finditer(pattern,string,flags=0)\n",
    "\n",
    "\n",
    "# c.3) findall(): Return list of all non-overlapping matches in 'string'\n",
    "@ re.findall(pattern,string,flags=0)\n"
   ]
  },
  {
   "cell_type": "code",
   "execution_count": 6,
   "metadata": {
    "ExecuteTime": {
     "end_time": "2020-10-11T01:44:59.859505Z",
     "start_time": "2020-10-11T01:44:59.855509Z"
    }
   },
   "outputs": [
    {
     "name": "stdout",
     "output_type": "stream",
     "text": [
      "Help on function findall in module re:\n",
      "\n",
      "findall(pattern, string, flags=0)\n",
      "    Return a list of all non-overlapping matches in the string.\n",
      "    \n",
      "    If one or more capturing groups are present in the pattern, return\n",
      "    a list of groups; this will be a list of tuples if the pattern\n",
      "    has more than one group.\n",
      "    \n",
      "    Empty matches are included in the result.\n",
      "\n"
     ]
    }
   ],
   "source": [
    "                      ---------- d) Replace Pattern ----------\n",
    "# d.1) sub():non-overlapping pattern in 'string' replace with 'repl'\n",
    "@ re.sub(pattern,repl,string,count=0,flags=0)\n",
    "\n",
    "# d.2) subn() :\n",
    "@ re.subn(pattern,repl,string,count=0,flags=0)"
   ]
  },
  {
   "cell_type": "code",
   "execution_count": null,
   "metadata": {},
   "outputs": [],
   "source": [
    "                      ---------- e) Split through Pattern ----------\n",
    "# e.1) split():\n",
    "@ re.split(pattern,string,maxsplit=0,flags=0)\n",
    " *pattern:how to split   *string:text strings  *maxsplit:(int) no. of split(left to right) *flag:\n",
    "                    \n",
    "import re\n",
    "spliter=re.split(pattern=' ',string=text,maxsplit=4)\n",
    "for i in spliter:\n",
    "    print(i)"
   ]
  },
  {
   "cell_type": "code",
   "execution_count": null,
   "metadata": {},
   "outputs": [],
   "source": []
  },
  {
   "cell_type": "code",
   "execution_count": null,
   "metadata": {},
   "outputs": [],
   "source": [
    "## match & fullmatch\n",
    "import re\n",
    "txt=''\n",
    "matcher=re.match()\n",
    "if m!=None:\n",
    "    print('Match present in Beggining of String')\n",
    "    print('Start position :',m.start())   ## Start index of match\n",
    "    print('End position :',m.end())       ## (End+1) index of match\n",
    "    print('Group :',m.group())            ## Returns matched string\n",
    "else:\n",
    "    print('Match Not-present in Beggining of String')"
   ]
  },
  {
   "cell_type": "code",
   "execution_count": null,
   "metadata": {},
   "outputs": [],
   "source": [
    "'Easy$' '^Home' '[^Home]' "
   ]
  },
  {
   "cell_type": "code",
   "execution_count": null,
   "metadata": {},
   "outputs": [],
   "source": [
    "## \n",
    "import re\n",
    "cnt=0\n",
    "txt=''\n",
    "matcher=re.finditer()\n",
    "for m in matcher:\n",
    "    c+=1\n",
    "    print('Start position :',m.start())   ## Start index of match\n",
    "    print('End position :',m.end())       ## (End+1) index of match\n",
    "    print('Group :',m.group())            ## Returns matched string\n",
    "print('No of Occurance :',m.start())    "
   ]
  },
  {
   "cell_type": "code",
   "execution_count": null,
   "metadata": {},
   "outputs": [],
   "source": [
    "'[0-9]'"
   ]
  },
  {
   "cell_type": "code",
   "execution_count": 18,
   "metadata": {
    "ExecuteTime": {
     "end_time": "2020-10-11T02:01:19.871027Z",
     "start_time": "2020-10-11T02:01:19.865028Z"
    }
   },
   "outputs": [
    {
     "name": "stdout",
     "output_type": "stream",
     "text": [
      "Help on function split in module re:\n",
      "\n",
      "split(pattern, string, maxsplit=0, flags=0)\n",
      "    Split the source string by the occurrences of the pattern,\n",
      "    returning a list containing the resulting substrings.  If\n",
      "    capturing parentheses are used in pattern, then the text of all\n",
      "    groups in the pattern are also returned as part of the resulting\n",
      "    list.  If maxsplit is nonzero, at most maxsplit splits occur,\n",
      "    and the remainder of the string is returned as the final element\n",
      "    of the list.\n",
      "\n"
     ]
    }
   ],
   "source": [
    "## re.split():\n",
    "Split source string by occurrences of pattern,returning list containing resulting substrings.\n",
    "    If capturing parentheses are used in pattern,then text of all groups in pattern are also returned as part of resulting list.\n",
    "    If maxsplit is nonzero, at most maxsplit splits occur,and remainder of string is returned as final element of list\n",
    "@ split(pattern,string,maxsplit=0,flags=0)"
   ]
  },
  {
   "cell_type": "code",
   "execution_count": null,
   "metadata": {},
   "outputs": [],
   "source": [
    "regular expression is a compact notation for representing a collection of\n",
    "strings\n",
    " single regular\n",
    "expression can represent an unlimited number of strings\n",
    "\n",
    "Pattern matching : consists of finding a \"section\" of text that is described (matched) by a \"re\"\n",
    "                   code that searches  \"text/pattern\" is the \"re-engine\"\n",
    "        \n",
    "Re engines :\n",
    "    1) DFA - Faster\n",
    "           - lack behinds NFA (capturing,lookaround,non-greedy quantifiers)\n",
    "           - compare each character of \"input string\" to \"regular expression\"\n",
    "           - keeping track of \"all matches\" in progress\n",
    "           - each character is examined at most once, the DFA engine is the fastest. \n",
    "           - In \"alternation match\" longest  selected\n",
    "            eg- (foo|foobar) matches, the \"foobar\" is selected\n",
    "        NFA \n",
    "        a) Traditional NFA engines:\n",
    "              - compare \"each element\" of \"regex\" to input string\n",
    "              - keeping track of positions \" it chose between two options i) If option fails,engine backtracks to most recently saved position\"\n",
    "              - Alternation(ordered) each option tried sequentially. \n",
    "            longer match may be ignored if an earlier option leads to a successful match. \n",
    "            \n",
    "        b) POSIX NFA engines :\n",
    "              - work similarly to Traditional NFAs  \n",
    "              - (exception) always picks the longest of the leftmost matches\n",
    "               eg: cat|category would match the full word “category” whenever possible, even if the first alternative (“cat”) matched and appeared earlier in the alternation. \n",
    "        \n",
    "Rules : \n",
    "    1) Earliest #leftmost match wins\n",
    "        - It starts \"finding match\" from \"starting\" & proceed towards \"last\"\n",
    "        - As soon as it finds a match it, returns\n",
    "     2) Standard \n",
    "        - \"quantifiers\" specify \"how many times some thing can be reeated\"\n",
    "        - \"standard quantifiers\" attempt to \"match\" as many times as possible\n",
    "        - They settle for <than \"maximum\" only if this is necessary for the success of the match. The process of giving up characters and trying less-greedy matches is called backtracking\n",
    "main purpose :\n",
    "    1) parsing:identifies & extract \"part of tex\" that matches to \"regex\"\n",
    "               python uses \"ad hoc & traditional parser\"\n",
    "        \n",
    "    2) Searching : \"locating \" \"substrings\"  that can have more than one form\n",
    "        ex- \"bg.png\",\"bg.jpeg\",\"bg.jpg\",\"bg.svg\" are in morethan one form .\n",
    "    3) Searching & Replace :  replacing everywhere the regex matches with\n",
    "a string.\n",
    "        ex- finding \"bike\" or \"car\" or \"bus\" & replace them with \"vehicle\"\n",
    "    \n",
    "    4) Splitting Strings :  splitting a string at each place the regex matches\n",
    "        ex- splitting every where occurs ( \":\"or\";\"or\".\")\n",
    "        \n",
    "    5) Validation :  checking whether a piece of text meets some criteria\n",
    "        ex- \"phone no.\" must contain all digits \n",
    "    6) It can also used as \"parser\" for \"XML\""
   ]
  },
  {
   "cell_type": "code",
   "execution_count": null,
   "metadata": {},
   "outputs": [],
   "source": [
    "mission success\n",
    "\n",
    "# use raw byte strings if input is of byte data type\n",
    ">>> \n",
    "True\n",
    "difference between string and line anchors\n",
    "# string anchors\n",
    ">>> bool(re.search(r'\\Ahi', 'hi hello\\ntop spot'))\n",
    "True\n",
    ">>> words = ['surrender', 'up', 'newer', 'do', 'ear', 'eel', 'pest']\n",
    ">>> [w for w in words if re.search(r'er\\Z', w)]\n",
    "['surrender', 'newer']\n",
    "\n",
    "# line anchors\n",
    ">>> bool(re.search(r'^par$', 'spare\\npar\\ndare', flags=re.M))\n",
    "True\n",
    "examples for re.findall\n",
    "# whole word par with optional s at start and optional e at end\n",
    ">>> re.findall(r'\\bs?pare?\\b', 'par spar apparent spare part pare')\n",
    "['par', 'spar', 'spare', 'pare']\n",
    "\n",
    "# numbers >= 100 with optional leading zeros\n",
    ">>> re.findall(r'\\b0*[1-9]\\d{2,}\\b', '0501 035 154 12 26 98234')\n",
    "['0501', '154', '98234']\n",
    "\n",
    "# if multiple capturing groups are used, each element of output\n",
    "# will be a tuple of strings of all the capture groups\n",
    ">>> re.findall(r'([^/]+)/([^/,]+),?', '2020/04,1986/Mar')\n",
    "[('2020', '04'), ('1986', 'Mar')]\n",
    "\n",
    "# normal capture group will hinder ability to get whole match\n",
    "# non-capturing group to the rescue\n",
    ">>> re.findall(r'\\b\\w*(?:st|in)\\b', 'cost akin more east run')\n",
    "['cost', 'akin', 'east']\n",
    "\n",
    "# useful for debugging purposes as well\n",
    ">>> re.findall(r't.*?a', 'that is quite a fabricated tale')\n",
    "['tha', 't is quite a', 'ted ta']\n",
    "examples for re.split\n",
    "# split based on one or more digit characters\n",
    ">>> re.split(r'\\d+', 'Sample123string42with777numbers')\n",
    "['Sample', 'string', 'with', 'numbers']\n",
    "\n",
    "# split based on digit or whitespace characters\n",
    ">>> re.split(r'[\\d\\s]+', '**1\\f2\\n3star\\t7 77\\r**')\n",
    "['**', 'star', '**']\n",
    "\n",
    "# to include the matching delimiter strings as well in the output\n",
    ">>> re.split(r'(\\d+)', 'Sample123string42with777numbers')\n",
    "['Sample', '123', 'string', '42', 'with', '777', 'numbers']\n",
    "\n",
    "# use non-capturing group if capturing is not needed\n",
    ">>> re.split(r'hand(?:y|ful)', '123handed42handy777handful500')\n",
    "['123handed42', '777', '500']\n",
    "backreferencing within search pattern\n",
    "# whole words that have at least one consecutive repeated character\n",
    ">>> words = ['effort', 'flee', 'facade', 'oddball', 'rat', 'tool']\n",
    "\n",
    ">>> [w for w in words if re.search(r'\\b\\w*(\\w)\\1\\w*\\b', w)]\n",
    "['effort', 'flee', 'oddball', 'tool']\n",
    "working with matched portions\n",
    ">>> re.search(r'b.*d', 'abc ac adc abbbc')\n",
    "<re.Match object; span=(1, 9), match='bc ac ad'>\n",
    "# retrieving entire matched portion, note the use of [0]\n",
    ">>> re.search(r'b.*d', 'abc ac adc abbbc')[0]\n",
    "'bc ac ad'\n",
    "\n",
    "# capture group example\n",
    ">>> m = re.search(r'a(.*)d(.*a)', 'abc ac adc abbbc')\n",
    "# to get matched portion of second capture group\n",
    ">>> m[2]\n",
    "'c a'\n",
    "# to get a tuple of all the capture groups\n",
    ">>> m.groups()\n",
    "('bc ac a', 'c a')\n",
    "examples for re.finditer\n",
    "# numbers < 350\n",
    ">>> m_iter = re.finditer(r'[0-9]+', '45 349 651 593 4 204')\n",
    ">>> [m[0] for m in m_iter if int(m[0]) < 350]\n",
    "['45', '349', '4', '204']\n",
    "\n",
    "# start and end+1 index of each matching portion\n",
    ">>> m_iter = re.finditer(r'ab+c', 'abc ac adc abbbc')\n",
    ">>> for m in m_iter:\n",
    "...     print(m.span())\n",
    "... \n",
    "(0, 3)\n",
    "(11, 16)\n",
    "examples for re.sub\n",
    ">>> ip_lines = \"catapults\\nconcatenate\\ncat\"\n",
    ">>> print(re.sub(r'^', r'* ', ip_lines, flags=re.M))\n",
    "* catapults\n",
    "* concatenate\n",
    "* cat\n",
    "\n",
    "# replace 'par' only at start of word\n",
    ">>> re.sub(r'\\bpar', r'X', 'par spar apparent spare part')\n",
    "'X spar apparent spare Xt'\n",
    "\n",
    "# same as: r'part|parrot|parent'\n",
    ">>> re.sub(r'par(en|ro)?t', r'X', 'par part parrot parent')\n",
    "'par X X X'\n",
    "\n",
    "# remove first two columns where : is delimiter\n",
    ">>> re.sub(r'\\A([^:]+:){2}', r'', 'foo:123:bar:baz', count=1)\n",
    "'bar:baz'\n",
    "backreferencing in replacement section\n",
    "# remove consecutive duplicate words separated by space\n",
    ">>> re.sub(r'\\b(\\w+)( \\1)+\\b', r'\\1', 'aa a a a 42 f_1 f_1 f_13.14')\n",
    "'aa a 42 f_1 f_13.14'\n",
    "\n",
    "# add something around the matched strings\n",
    ">>> re.sub(r'\\d+', r'(\\g<0>0)', '52 apples and 31 mangoes')\n",
    "'(520) apples and (310) mangoes'\n",
    "\n",
    "# swap words that are separated by a comma\n",
    ">>> re.sub(r'(\\w+),(\\w+)', r'\\2,\\1', 'good,bad 42,24')\n",
    "'bad,good 24,42'\n",
    "using functions in replacement section of re.sub\n",
    ">>> from math import factorial\n",
    ">>> numbers = '1 2 3 4 5'\n",
    ">>> def fact_num(n):\n",
    "...     return str(factorial(int(n[0])))\n",
    "... \n",
    ">>> re.sub(r'\\d+', fact_num, numbers)\n",
    "'1 2 6 24 120'\n",
    "\n",
    "# using lambda\n",
    ">>> re.sub(r'\\d+', lambda m: str(factorial(int(m[0]))), numbers)\n",
    "'1 2 6 24 120'\n",
    "examples for lookarounds\n",
    "# change 'foo' only if it is not followed by a digit character\n",
    "# note that end of string satisfies the given assertion\n",
    "# foofoo has 2 matches as the assertion doesn't consume characters\n",
    ">>> re.sub(r'foo(?!\\d)', r'baz', 'hey food! foo42 foot5 foofoo')\n",
    "'hey bazd! foo42 bazt5 bazbaz'\n",
    "\n",
    "# change whole word only if it is not preceded by : or -\n",
    ">>> re.sub(r'(?<![:-])\\b\\w+\\b', r'X', ':cart <apple -rest ;tea')\n",
    "':cart <X -rest ;X'\n",
    "\n",
    "# match digits only if it is preceded by - and followed by ; or :\n",
    ">>> re.findall(r'(?<=-)\\d+(?=[:;])', 'fo-5, ba3; x-83, y-20: f12')\n",
    "['20']\n",
    "\n",
    "# words containing 'b' and 'e' and 't' in any order\n",
    ">>> words = ['sequoia', 'questionable', 'exhibit', 'equation']\n",
    ">>> [w for w in words if re.search(r'(?=.*b)(?=.*e).*t', w)]\n",
    "['questionable', 'exhibit']\n",
    "\n",
    "# match if 'do' is not there between 'at' and 'par'\n",
    ">>> bool(re.search(r'at((?!do).)*par', 'fox,cat,dog,parrot'))\n",
    "False\n",
    "# match if 'go' is not there between 'at' and 'par'\n",
    ">>> bool(re.search(r'at((?!go).)*par', 'fox,cat,dog,parrot'))\n",
    "True\n",
    "examples for re.compile\n",
    "Regular expressions can be compiled using re.compile function, which gives back a re.Pattern object. The top level re module functions are all available as methods for this object. Compiling a regular expression helps if the RE has to be used in multiple places or called upon multiple times inside a loop (speed benefit). By default, Python maintains a small list of recently used RE, so the speed benefit doesn't apply for trivial use cases.\n",
    "\n",
    ">>> pet = re.compile(r'dog')\n",
    ">>> type(pet)\n",
    "<class 're.Pattern'>\n",
    ">>> bool(pet.search('They bought a dog'))\n",
    "True\n",
    ">>> bool(pet.search('A cat crossed their path'))\n",
    "False\n",
    "\n",
    ">>> pat = re.compile(r'\\([^)]*\\)')\n",
    ">>> pat.sub('', 'a+b(addition) - foo() + c%d(#modulo)')\n",
    "'a+b - foo + c%d'\n",
    ">>> pat.sub('', 'Hi there(greeting). Nice day(a(b)')\n",
    "'Hi there. Nice day'"
   ]
  },
  {
   "cell_type": "markdown",
   "metadata": {},
   "source": [
    "4) how to use the language’s assertions and flags"
   ]
  },
  {
   "cell_type": "code",
   "execution_count": 22,
   "metadata": {
    "ExecuteTime": {
     "end_time": "2020-10-13T01:33:22.640255Z",
     "start_time": "2020-10-13T01:33:22.625262Z"
    }
   },
   "outputs": [
    {
     "ename": "TypeError",
     "evalue": "finditer() missing 2 required positional arguments: 'pattern' and 'string'",
     "output_type": "error",
     "traceback": [
      "\u001b[1;31m---------------------------------------------------------------------------\u001b[0m",
      "\u001b[1;31mTypeError\u001b[0m                                 Traceback (most recent call last)",
      "\u001b[1;32m<ipython-input-22-aa3fa61abe63>\u001b[0m in \u001b[0;36m<module>\u001b[1;34m\u001b[0m\n\u001b[0;32m      3\u001b[0m \u001b[0mcnt\u001b[0m\u001b[1;33m=\u001b[0m\u001b[1;36m0\u001b[0m\u001b[1;33m\u001b[0m\u001b[1;33m\u001b[0m\u001b[0m\n\u001b[0;32m      4\u001b[0m \u001b[0mtxt\u001b[0m\u001b[1;33m=\u001b[0m\u001b[1;34m''\u001b[0m\u001b[1;33m\u001b[0m\u001b[1;33m\u001b[0m\u001b[0m\n\u001b[1;32m----> 5\u001b[1;33m \u001b[0mmatcher\u001b[0m\u001b[1;33m=\u001b[0m\u001b[0mre\u001b[0m\u001b[1;33m.\u001b[0m\u001b[0mfinditer\u001b[0m\u001b[1;33m(\u001b[0m\u001b[1;33m)\u001b[0m\u001b[1;33m\u001b[0m\u001b[1;33m\u001b[0m\u001b[0m\n\u001b[0m\u001b[0;32m      6\u001b[0m \u001b[1;32mfor\u001b[0m \u001b[0mm\u001b[0m \u001b[1;32min\u001b[0m \u001b[0mmatcher\u001b[0m\u001b[1;33m:\u001b[0m\u001b[1;33m\u001b[0m\u001b[1;33m\u001b[0m\u001b[0m\n\u001b[0;32m      7\u001b[0m     \u001b[0mc\u001b[0m\u001b[1;33m+=\u001b[0m\u001b[1;36m1\u001b[0m\u001b[1;33m\u001b[0m\u001b[1;33m\u001b[0m\u001b[0m\n",
      "\u001b[1;31mTypeError\u001b[0m: finditer() missing 2 required positional arguments: 'pattern' and 'string'"
     ]
    }
   ],
   "source": []
  },
  {
   "cell_type": "code",
   "execution_count": null,
   "metadata": {},
   "outputs": [],
   "source": []
  },
  {
   "cell_type": "code",
   "execution_count": null,
   "metadata": {},
   "outputs": [],
   "source": []
  }
 ],
 "metadata": {
  "hide_input": false,
  "kernelspec": {
   "display_name": "Python 3",
   "language": "python",
   "name": "python3"
  },
  "language_info": {
   "codemirror_mode": {
    "name": "ipython",
    "version": 3
   },
   "file_extension": ".py",
   "mimetype": "text/x-python",
   "name": "python",
   "nbconvert_exporter": "python",
   "pygments_lexer": "ipython3",
   "version": "3.8.8"
  },
  "latex_envs": {
   "LaTeX_envs_menu_present": true,
   "autoclose": false,
   "autocomplete": true,
   "bibliofile": "biblio.bib",
   "cite_by": "apalike",
   "current_citInitial": 1,
   "eqLabelWithNumbers": true,
   "eqNumInitial": 1,
   "hotkeys": {
    "equation": "Ctrl-E",
    "itemize": "Ctrl-I"
   },
   "labels_anchors": false,
   "latex_user_defs": false,
   "report_style_numbering": false,
   "user_envs_cfg": false
  },
  "toc": {
   "base_numbering": 1,
   "nav_menu": {},
   "number_sections": true,
   "sideBar": true,
   "skip_h1_title": false,
   "title_cell": "Table of Contents",
   "title_sidebar": "Contents",
   "toc_cell": true,
   "toc_position": {},
   "toc_section_display": true,
   "toc_window_display": false
  },
  "varInspector": {
   "cols": {
    "lenName": 16,
    "lenType": 16,
    "lenVar": 40
   },
   "kernels_config": {
    "python": {
     "delete_cmd_postfix": "",
     "delete_cmd_prefix": "del ",
     "library": "var_list.py",
     "varRefreshCmd": "print(var_dic_list())"
    },
    "r": {
     "delete_cmd_postfix": ") ",
     "delete_cmd_prefix": "rm(",
     "library": "var_list.r",
     "varRefreshCmd": "cat(var_dic_list()) "
    }
   },
   "position": {
    "height": "144.222px",
    "left": "517.222px",
    "right": "20px",
    "top": "119px",
    "width": "350px"
   },
   "types_to_exclude": [
    "module",
    "function",
    "builtin_function_or_method",
    "instance",
    "_Feature"
   ],
   "window_display": false
  }
 },
 "nbformat": 4,
 "nbformat_minor": 2
}
