{
 "cells": [
  {
   "cell_type": "markdown",
   "id": "rolled-moses",
   "metadata": {
    "toc": true
   },
   "source": [
    "<h1>Table of Contents<span class=\"tocSkip\"></span></h1>\n",
    "<div class=\"toc\"><ul class=\"toc-item\"><li><span><a href=\"#General-Inroduction-To-Python-:\" data-toc-modified-id=\"General-Inroduction-To-Python-:-1\"><span class=\"toc-item-num\">1&nbsp;&nbsp;</span>General Inroduction To Python :</a></span></li><li><span><a href=\"#Input-:\" data-toc-modified-id=\"Input-:-2\"><span class=\"toc-item-num\">2&nbsp;&nbsp;</span>Input :</a></span></li><li><span><a href=\"#Output-:\" data-toc-modified-id=\"Output-:-3\"><span class=\"toc-item-num\">3&nbsp;&nbsp;</span>Output :</a></span></li><li><span><a href=\"#variable|Identifier-:\" data-toc-modified-id=\"variable|Identifier-:-4\"><span class=\"toc-item-num\">4&nbsp;&nbsp;</span>variable|Identifier :</a></span></li><li><span><a href=\"#Keywords\" data-toc-modified-id=\"Keywords-5\"><span class=\"toc-item-num\">5&nbsp;&nbsp;</span>Keywords</a></span></li><li><span><a href=\"#Operators-:\" data-toc-modified-id=\"Operators-:-6\"><span class=\"toc-item-num\">6&nbsp;&nbsp;</span>Operators :</a></span><ul class=\"toc-item\"><li><span><a href=\"#Arithmetic-Operators-:\" data-toc-modified-id=\"Arithmetic-Operators-:-6.1\"><span class=\"toc-item-num\">6.1&nbsp;&nbsp;</span>Arithmetic Operators :</a></span></li><li><span><a href=\"#\" data-toc-modified-id=\"-6.2\"><span class=\"toc-item-num\">6.2&nbsp;&nbsp;</span></a></span></li><li><span><a href=\"#Relational-Operator-:\" data-toc-modified-id=\"Relational-Operator-:-6.3\"><span class=\"toc-item-num\">6.3&nbsp;&nbsp;</span>Relational Operator :</a></span></li><li><span><a href=\"#Logical-Operator-:\" data-toc-modified-id=\"Logical-Operator-:-6.4\"><span class=\"toc-item-num\">6.4&nbsp;&nbsp;</span>Logical Operator :</a></span></li><li><span><a href=\"#Bit-wise-Operator-:-Executed-Bit-by-Bit\" data-toc-modified-id=\"Bit-wise-Operator-:-Executed-Bit-by-Bit-6.5\"><span class=\"toc-item-num\">6.5&nbsp;&nbsp;</span>Bit-wise Operator : Executed Bit by Bit</a></span></li><li><span><a href=\"#Agumented-Assignment-Operator-:\" data-toc-modified-id=\"Agumented-Assignment-Operator-:-6.6\"><span class=\"toc-item-num\">6.6&nbsp;&nbsp;</span>Agumented Assignment Operator :</a></span></li><li><span><a href=\"#Ternary-Operator-:\" data-toc-modified-id=\"Ternary-Operator-:-6.7\"><span class=\"toc-item-num\">6.7&nbsp;&nbsp;</span>Ternary Operator :</a></span></li><li><span><a href=\"#Identity-Operator-:\" data-toc-modified-id=\"Identity-Operator-:-6.8\"><span class=\"toc-item-num\">6.8&nbsp;&nbsp;</span>Identity Operator :</a></span></li><li><span><a href=\"#Membership-Operator-:\" data-toc-modified-id=\"Membership-Operator-:-6.9\"><span class=\"toc-item-num\">6.9&nbsp;&nbsp;</span>Membership Operator :</a></span></li><li><span><a href=\"#Operator-Precedence-:\" data-toc-modified-id=\"Operator-Precedence-:-6.10\"><span class=\"toc-item-num\">6.10&nbsp;&nbsp;</span>Operator Precedence :</a></span></li></ul></li><li><span><a href=\"#Python-Data-types-:\" data-toc-modified-id=\"Python-Data-types-:-7\"><span class=\"toc-item-num\">7&nbsp;&nbsp;</span>Python Data-types :</a></span><ul class=\"toc-item\"><li><span><a href=\"#Data-type-Conversion-:\" data-toc-modified-id=\"Data-type-Conversion-:-7.1\"><span class=\"toc-item-num\">7.1&nbsp;&nbsp;</span>Data-type Conversion :</a></span></li><li><span><a href=\"#Numbers-:\" data-toc-modified-id=\"Numbers-:-7.2\"><span class=\"toc-item-num\">7.2&nbsp;&nbsp;</span>Numbers :</a></span></li><li><span><a href=\"#Boolean-:\" data-toc-modified-id=\"Boolean-:-7.3\"><span class=\"toc-item-num\">7.3&nbsp;&nbsp;</span>Boolean :</a></span></li><li><span><a href=\"#String:\" data-toc-modified-id=\"String:-7.4\"><span class=\"toc-item-num\">7.4&nbsp;&nbsp;</span>String:</a></span><ul class=\"toc-item\"><li><span><a href=\"#String-Indexing-,-Slicing-,-Concatenation-,-Repeation-&amp;-Iteration-:\" data-toc-modified-id=\"String-Indexing-,-Slicing-,-Concatenation-,-Repeation-&amp;-Iteration-:-7.4.1\"><span class=\"toc-item-num\">7.4.1&nbsp;&nbsp;</span>String Indexing , Slicing , Concatenation , Repeation &amp; Iteration :</a></span></li><li><span><a href=\"#Escape-Sequence-:\" data-toc-modified-id=\"Escape-Sequence-:-7.4.2\"><span class=\"toc-item-num\">7.4.2&nbsp;&nbsp;</span>Escape Sequence :</a></span></li><li><span><a href=\"#Relational--&amp;-Membership-Operators\" data-toc-modified-id=\"Relational--&amp;-Membership-Operators-7.4.3\"><span class=\"toc-item-num\">7.4.3&nbsp;&nbsp;</span>Relational  &amp; Membership Operators</a></span></li><li><span><a href=\"#String-Methods-:\" data-toc-modified-id=\"String-Methods-:-7.4.4\"><span class=\"toc-item-num\">7.4.4&nbsp;&nbsp;</span>String Methods :</a></span></li></ul></li></ul></li><li><span><a href=\"#Control-Flow-:-if-,-elif-,-else-,-break-,-continue\" data-toc-modified-id=\"Control-Flow-:-if-,-elif-,-else-,-break-,-continue-8\"><span class=\"toc-item-num\">8&nbsp;&nbsp;</span>Control Flow : if , elif , else , break , continue</a></span><ul class=\"toc-item\"><li><span><a href=\"#Loop-:-for-,-while\" data-toc-modified-id=\"Loop-:-for-,-while-8.1\"><span class=\"toc-item-num\">8.1&nbsp;&nbsp;</span>Loop : for , while</a></span></li><li><span><a href=\"#function-:\" data-toc-modified-id=\"function-:-8.2\"><span class=\"toc-item-num\">8.2&nbsp;&nbsp;</span>function :</a></span><ul class=\"toc-item\"><li><span><a href=\"#Decorator:\" data-toc-modified-id=\"Decorator:-8.2.1\"><span class=\"toc-item-num\">8.2.1&nbsp;&nbsp;</span>Decorator:</a></span></li></ul></li><li><span><a href=\"#Function-Ex:\" data-toc-modified-id=\"Function-Ex:-8.3\"><span class=\"toc-item-num\">8.3&nbsp;&nbsp;</span>Function Ex:</a></span></li><li><span><a href=\"#Python-Module-:\" data-toc-modified-id=\"Python-Module-:-8.4\"><span class=\"toc-item-num\">8.4&nbsp;&nbsp;</span>Python Module :</a></span></li><li><span><a href=\"#Data-structures-:\" data-toc-modified-id=\"Data-structures-:-8.5\"><span class=\"toc-item-num\">8.5&nbsp;&nbsp;</span>Data structures :</a></span><ul class=\"toc-item\"><li><span><a href=\"#List-:\" data-toc-modified-id=\"List-:-8.5.1\"><span class=\"toc-item-num\">8.5.1&nbsp;&nbsp;</span>List :</a></span><ul class=\"toc-item\"><li><span><a href=\"#Creation-:\" data-toc-modified-id=\"Creation-:-8.5.1.1\"><span class=\"toc-item-num\">8.5.1.1&nbsp;&nbsp;</span>Creation :</a></span></li><li><span><a href=\"#Indexing-,-Slicing-,-Traversing-:\" data-toc-modified-id=\"Indexing-,-Slicing-,-Traversing-:-8.5.1.2\"><span class=\"toc-item-num\">8.5.1.2&nbsp;&nbsp;</span>Indexing , Slicing , Traversing :</a></span></li><li><span><a href=\"#Methods-For-List-:\" data-toc-modified-id=\"Methods-For-List-:-8.5.1.3\"><span class=\"toc-item-num\">8.5.1.3&nbsp;&nbsp;</span>Methods For List :</a></span></li><li><span><a href=\"#Addition-,-Delete-,--join---Split-&amp;-Modification-:\" data-toc-modified-id=\"Addition-,-Delete-,--join---Split-&amp;-Modification-:-8.5.1.4\"><span class=\"toc-item-num\">8.5.1.4&nbsp;&nbsp;</span>Addition , Delete ,  join - Split &amp; Modification :</a></span></li><li><span><a href=\"#Packing-&amp;-Unpacking-List-Items--:\" data-toc-modified-id=\"Packing-&amp;-Unpacking-List-Items--:-8.5.1.5\"><span class=\"toc-item-num\">8.5.1.5&nbsp;&nbsp;</span>Packing &amp; Unpacking List-Items  :</a></span></li></ul></li><li><span><a href=\"#Tuple-:\" data-toc-modified-id=\"Tuple-:-8.5.2\"><span class=\"toc-item-num\">8.5.2&nbsp;&nbsp;</span>Tuple :</a></span><ul class=\"toc-item\"><li><span><a href=\"#Creation-:\" data-toc-modified-id=\"Creation-:-8.5.2.1\"><span class=\"toc-item-num\">8.5.2.1&nbsp;&nbsp;</span>Creation :</a></span></li><li><span><a href=\"#Indexing-,-Slicing-,-Traversing-:\" data-toc-modified-id=\"Indexing-,-Slicing-,-Traversing-:-8.5.2.2\"><span class=\"toc-item-num\">8.5.2.2&nbsp;&nbsp;</span>Indexing , Slicing , Traversing :</a></span></li><li><span><a href=\"#Methods-of-Tuple-:\" data-toc-modified-id=\"Methods-of-Tuple-:-8.5.2.3\"><span class=\"toc-item-num\">8.5.2.3&nbsp;&nbsp;</span>Methods of Tuple :</a></span></li><li><span><a href=\"#Operations-:-Packing-,-Unpacking-,-Membership\" data-toc-modified-id=\"Operations-:-Packing-,-Unpacking-,-Membership-8.5.2.4\"><span class=\"toc-item-num\">8.5.2.4&nbsp;&nbsp;</span>Operations : Packing , Unpacking , Membership</a></span></li></ul></li><li><span><a href=\"#Set-:\" data-toc-modified-id=\"Set-:-8.5.3\"><span class=\"toc-item-num\">8.5.3&nbsp;&nbsp;</span>Set :</a></span><ul class=\"toc-item\"><li><span><a href=\"#Creation-:\" data-toc-modified-id=\"Creation-:-8.5.3.1\"><span class=\"toc-item-num\">8.5.3.1&nbsp;&nbsp;</span>Creation :</a></span></li><li><span><a href=\"#Methods-in-Set-:\" data-toc-modified-id=\"Methods-in-Set-:-8.5.3.2\"><span class=\"toc-item-num\">8.5.3.2&nbsp;&nbsp;</span>Methods in Set :</a></span></li><li><span><a href=\"#Operation-:-Addition-,-Remove-,-Union-,-Intersection-,-Difference-,-Membership\" data-toc-modified-id=\"Operation-:-Addition-,-Remove-,-Union-,-Intersection-,-Difference-,-Membership-8.5.3.3\"><span class=\"toc-item-num\">8.5.3.3&nbsp;&nbsp;</span>Operation : Addition , Remove , Union , Intersection , Difference , Membership</a></span></li><li><span><a href=\"#Set-Comprehansion-:\" data-toc-modified-id=\"Set-Comprehansion-:-8.5.3.4\"><span class=\"toc-item-num\">8.5.3.4&nbsp;&nbsp;</span>Set Comprehansion :</a></span></li></ul></li><li><span><a href=\"#Frozenset-:\" data-toc-modified-id=\"Frozenset-:-8.5.4\"><span class=\"toc-item-num\">8.5.4&nbsp;&nbsp;</span>Frozenset :</a></span></li><li><span><a href=\"#Dictionary-:\" data-toc-modified-id=\"Dictionary-:-8.5.5\"><span class=\"toc-item-num\">8.5.5&nbsp;&nbsp;</span>Dictionary :</a></span><ul class=\"toc-item\"><li><span><a href=\"#Creation-:\" data-toc-modified-id=\"Creation-:-8.5.5.1\"><span class=\"toc-item-num\">8.5.5.1&nbsp;&nbsp;</span>Creation :</a></span></li><li><span><a href=\"#Accessing-Dict.-items\" data-toc-modified-id=\"Accessing-Dict.-items-8.5.5.2\"><span class=\"toc-item-num\">8.5.5.2&nbsp;&nbsp;</span>Accessing Dict. items</a></span></li><li><span><a href=\"#Methods-:\" data-toc-modified-id=\"Methods-:-8.5.5.3\"><span class=\"toc-item-num\">8.5.5.3&nbsp;&nbsp;</span>Methods :</a></span></li><li><span><a href=\"#Operations:-Insert-,-Remove-,-Update\" data-toc-modified-id=\"Operations:-Insert-,-Remove-,-Update-8.5.5.4\"><span class=\"toc-item-num\">8.5.5.4&nbsp;&nbsp;</span>Operations: Insert , Remove , Update</a></span></li><li><span><a href=\"#Dictionary-Comprehension-:\" data-toc-modified-id=\"Dictionary-Comprehension-:-8.5.5.5\"><span class=\"toc-item-num\">8.5.5.5&nbsp;&nbsp;</span>Dictionary Comprehension :</a></span></li><li><span><a href=\"#Dictionary-Comprehension\" data-toc-modified-id=\"Dictionary-Comprehension-8.5.5.6\"><span class=\"toc-item-num\">8.5.5.6&nbsp;&nbsp;</span>Dictionary Comprehension</a></span></li></ul></li></ul></li></ul></li><li><span><a href=\"#Object-Oriented-Programing-:\" data-toc-modified-id=\"Object-Oriented-Programing-:-9\"><span class=\"toc-item-num\">9&nbsp;&nbsp;</span>Object Oriented Programing :</a></span><ul class=\"toc-item\"><li><span><a href=\"#Types-of-variable-:\" data-toc-modified-id=\"Types-of-variable-:-9.1\"><span class=\"toc-item-num\">9.1&nbsp;&nbsp;</span>Types of variable :</a></span></li><li><span><a href=\"#Types-of-methods:\" data-toc-modified-id=\"Types-of-methods:-9.2\"><span class=\"toc-item-num\">9.2&nbsp;&nbsp;</span>Types of methods:</a></span></li><li><span><a href=\"#Declare-setter-method\" data-toc-modified-id=\"Declare-setter-method-9.3\"><span class=\"toc-item-num\">9.3&nbsp;&nbsp;</span>Declare setter method</a></span></li><li><span><a href=\"#call\" data-toc-modified-id=\"call-9.4\"><span class=\"toc-item-num\">9.4&nbsp;&nbsp;</span>call</a></span></li></ul></li><li><span><a href=\"#OS-Module\" data-toc-modified-id=\"OS-Module-10\"><span class=\"toc-item-num\">10&nbsp;&nbsp;</span>OS Module</a></span><ul class=\"toc-item\"><li><ul class=\"toc-item\"><li><span><a href=\"#Basic-Operations\" data-toc-modified-id=\"Basic-Operations-10.0.1\"><span class=\"toc-item-num\">10.0.1&nbsp;&nbsp;</span>Basic Operations</a></span></li><li><span><a href=\"#Create-&amp;-Remove-&amp;-Rename\" data-toc-modified-id=\"Create-&amp;-Remove-&amp;-Rename-10.0.2\"><span class=\"toc-item-num\">10.0.2&nbsp;&nbsp;</span>Create &amp; Remove &amp; Rename</a></span></li><li><span><a href=\"#Content-of-directories\" data-toc-modified-id=\"Content-of-directories-10.0.3\"><span class=\"toc-item-num\">10.0.3&nbsp;&nbsp;</span>Content of directories</a></span></li><li><span><a href=\"#os.system\" data-toc-modified-id=\"os.system-10.0.4\"><span class=\"toc-item-num\">10.0.4&nbsp;&nbsp;</span>os.system</a></span></li></ul></li></ul></li><li><span><a href=\"#Random-Module\" data-toc-modified-id=\"Random-Module-11\"><span class=\"toc-item-num\">11&nbsp;&nbsp;</span>Random Module</a></span></li><li><span><a href=\"#math-Module-:\" data-toc-modified-id=\"math-Module-:-12\"><span class=\"toc-item-num\">12&nbsp;&nbsp;</span>math Module :</a></span></li></ul></div>"
   ]
  },
  {
   "cell_type": "code",
   "execution_count": 66,
   "id": "biblical-bread",
   "metadata": {
    "ExecuteTime": {
     "end_time": "2021-06-10T20:53:58.116957Z",
     "start_time": "2021-06-10T20:53:58.075577Z"
    }
   },
   "outputs": [
    {
     "name": "stdout",
     "output_type": "stream",
     "text": [
      "40\n",
      "40\n",
      "642898\n"
     ]
    }
   ],
   "source": [
    "a,b=10,20\n",
    "c=30 if a>b else 40\n",
    "print(c)\n",
    "\n",
    "\n",
    "x=30 if 10>20 else 40\n",
    "print(x)\n",
    "\n",
    "20 is 30\n",
    "\n",
    "## WAp to generate 6 digit OTP \n",
    "from random import randint\n",
    "print(randint(0,9),randint(0,9),randint(0,9),randint(0,9),randint(0,9),randint(0,9),sep=\"\")"
   ]
  },
  {
   "cell_type": "code",
   "execution_count": null,
   "id": "interior-craps",
   "metadata": {},
   "outputs": [],
   "source": [
    "Everything in python is a Object"
   ]
  },
  {
   "cell_type": "markdown",
   "id": "smart-stereo",
   "metadata": {},
   "source": [
    "# General Inroduction To Python :"
   ]
  },
  {
   "cell_type": "code",
   "execution_count": null,
   "id": "ahead-voluntary",
   "metadata": {},
   "outputs": [],
   "source": [
    "Guido Van Rossum Devloped Python in year 1989 while working @ National Research Institute of Netherlands\n",
    "Officially Lunched in marked in year Feb 20 1991\n",
    "Most Concepts are Borrowed From C & ABC\n",
    "What is Python ?  \n",
    "* widely-used\n",
    "* Dynamically Typed : No need to declare d-type explicitely\n",
    "* interpreted\n",
    "* object-oriented\n",
    "* high-level : Coder friendely\n",
    "* General-purpose : Used In Many types of Applications\n",
    "* programming Language\n",
    "\n",
    "Python as All-rounder?\n",
    "- Functional Features from C\n",
    "- OOP Features from C++\n",
    "- Scripting Features From Perl & Shell Scripting(Execute one by one line)\n",
    "- Modular Features From Modula-3\n",
    "\n",
    "\n",
    "**Where To Use Python :**\n",
    "* Web & Internet development(ex: Django & Pyramid frameworks,Flask & Bottle micro-frameworks)\n",
    "* Scientific & numeric computing(ex: SciPy(packages for mathematics,science,engineering) Ipython(interactive shell fror editing & recording of work sessions)\n",
    "* Education(brilliant language for teaching programming)\n",
    "* Desktop GUIs(ex: wxWidgets,Kivy,Qt)\n",
    "* Software Development(build control,management,testing(Scons,Buildbot,Apache Gump,Roundup,Trac))\n",
    "* Business applications(ERP & e-commerce systems(Odoo,Tryton))\n",
    "* Networking Application (ex: chatting , client-server)\n",
    "* Game Development\n",
    "* AI , DataScience , ML, DL , Data Analysis\n",
    "* IOT Development \n",
    "Source: https://www.python.org/about/apps\n",
    "\n",
    "                                 \n"
   ]
  },
  {
   "cell_type": "code",
   "execution_count": null,
   "id": "amino-feature",
   "metadata": {},
   "outputs": [],
   "source": [
    "Python Features \n",
    "* simple & concise code & easy to learn : Only 33 Keywords\n",
    "    \n",
    "* High level language : Coder frienly language ; Low-level works like Security , Memory management etc. handled by PVM \n",
    "\n",
    "* freeware & open-source : Free of cost to use , Source-code is available for everyone\n",
    "    \n",
    "* Platform Independent : Python Aplication can run in any platform(platform independant) but PVM is Dependant\n",
    "\n",
    "* Dynamically typed: Don't need to declare variable type\n",
    "    \n",
    "* Both procedure & Object oriented: We can use function oriented | object oriented | Scripting paradigmam\n",
    "    \n",
    "* Interpreted LANGUAGE:\n",
    "    : NOT REQUIRED TO INTERPRETE EXPLECITILY\n",
    " \n",
    "* Portability:\n",
    "    without performing any changes / without minimal changes we can use same python code in any other environment\n",
    "    \n",
    "* Extensible: can be use other language programm in python as requirement\n",
    "    use-case: requirement of performance(from 'c' code)\n",
    "                     \n",
    "* Embedded: pythonhon code can be used in other language(jython,cython,iron python)    \n",
    "\n",
    "* Extensive Libraries: huge libraries for any task     \n",
    "    \n",
    "\n",
    "## Limitation:\n",
    "    i) mobile app\n",
    "    ii) Enterprise app(banking,telecom)\n",
    "    iii) Not good in performance (As interpted language)\n",
    "    \n",
    "low-level programming (sometimes called \"close to metal\" programming): if you want to implement an extremely effective driver or graphical engine, you wouldn't use Python;\n",
    "    \n",
    "    \n",
    "    \n",
    "## Flavour of python (Customized Python):\n",
    "    i) Cpython (work with c language)\n",
    "    ii) Jpython|jython (work with java language)\n",
    "    iii)Iron Python (work with C# .Net)\n",
    "    iv) Ruby Python (work with python)\n",
    "    v) Anaconda Python(work with data science & Bigdata)\n",
    "    vi) Stackless (multi threading & concurency)\n",
    "    vii) PyPy (for speed)"
   ]
  },
  {
   "cell_type": "code",
   "execution_count": null,
   "id": "informative-pioneer",
   "metadata": {},
   "outputs": [],
   "source": [
    "           \n",
    "**Process of Converting 'High-Level' to 'Machine Language' :**\n",
    "- ***Compilation :***\n",
    "    - Source Program is translated only onece by getting a file                               \n",
    "    - Program that performs translation is called compiler or translator  \n",
    "                                 \n",
    "- ***Interpretation :***\n",
    " - translate the source program each time it has to be run; the program performing this kind of transformation is called an interpreter\n",
    "                                 \n",
    "**Interpreter actually do :**\n",
    "- You have program(as a computer file)\n",
    "- Interpreter reads source code from top to bottom & from left to right(some exceptions)\n",
    "- First,Interpreter checks 'if lines are correct' & If error found,it terminated immediately with 'Error code'&'Error Location'\n",
    "- If code is correct,Interpreter tries to execute(each line executed separately,so \"read-check-execute\" can be repeated many time)\n",
    "- It is also possible that significant part of code may be executed successfully before Interpreter finds an error.\n",
    "\n",
    "                                 \n",
    "                              \n",
    "                                 \n",
    "                                 \n",
    "\n",
    "\n",
    "    \n",
    "## Python Version: Newer Version Doesn't support Old Version (No Backward compability)\n",
    "0.9.0 : feb 20 1991\n",
    "1.0 : Jan 1994\n",
    "2.0: Oct 16 2000 (version py2k)\n",
    "3.0: Dec 3 2008 (version py3k)\n",
    "\n"
   ]
  },
  {
   "cell_type": "markdown",
   "id": "genetic-stand",
   "metadata": {
    "heading_collapsed": true
   },
   "source": [
    "# Input : \n",
    " - **input()**  ,  **type-casting**  ,  **eval()**  , **argv**"
   ]
  },
  {
   "cell_type": "code",
   "execution_count": 14,
   "id": "banned-buyer",
   "metadata": {
    "ExecuteTime": {
     "end_time": "2021-06-01T17:01:19.328602Z",
     "start_time": "2021-06-01T17:01:19.319557Z"
    },
    "hidden": true,
    "run_control": {
     "marked": true
    }
   },
   "outputs": [
    {
     "name": "stdout",
     "output_type": "stream",
     "text": [
      "My Name is Khan\n",
      "My Name is Khan\n",
      "My Name is Khan\n",
      "My*Name*is*Khan\n",
      "My Name:Khan\n",
      "lol :\n",
      "lol\n"
     ]
    }
   ],
   "source": [
    "                                \"\"\" Input \"\"\"\n",
    "----- For single User-Input:\n",
    "input(\"Enter input :\")           # input in \"string\"\n",
    "int(input(\"Enter input :\"))      # input in \"integer\"\n",
    "float(input(\"Enter input :\"))    # input in \"float\"\n",
    "\n",
    "----- For multiple User-Input:\n",
    "a,b=input(\"Enter 2 inputs :\").split()                        # Multiple input of \"string\"\n",
    "\n",
    "a,b=[int(x) for x in input(\"Enter 2 inputs :\").split(\" \")]     # Multiple input of \"integer\"\n",
    "or\n",
    "a,b=input(\"Enter input :\").split(\" \")                          # Multiple input of \"integer\" without loop\n",
    "int(a),int(a)\n",
    "    \n",
    "a,b=[float(x) for x in input(\"Enter 2 inputs :\").split( )]    # Multiple input of \"float\"\n",
    "\n",
    "----- Multiple input of multiple d-types: \n",
    "a,b=[eval(x) for x in input(\"Enter 2 inputs :\").split(\" \")]   \n",
    "type(a),type(b)    # int , float\n",
    "\n",
    "----- eval() : Evaluates the string-expressions \n",
    "eval(\"40+10-33*2\")                # -16 \n",
    "eval(\"'str'*2\")                   # 'strstr'\n",
    "eval(input(\"Enter Expression :\")) # Evaluates Given Expression & Type-cast accordingly    \n",
    "\n",
    "----- Command line Arguments : passed in cmd during program\n",
    "# argv :- Holds all the command-line Arguments in 'list'\n",
    "        - It's in 'sys module'\n",
    "        - Can handle indexing & Slicing \n",
    "from sys import argv\n",
    "print(argv[1:])    # print from 2nd argv item\n",
    "----- waiting for user-input :\n",
    "input(\"\\n\\nPress the enter key to exit.\")\n",
    "\n",
    " "
   ]
  },
  {
   "cell_type": "code",
   "execution_count": 32,
   "id": "0cb04e37",
   "metadata": {
    "hidden": true
   },
   "outputs": [
    {
     "name": "stdout",
     "output_type": "stream",
     "text": [
      "Enter a list :[1,2,3,4,5]\n"
     ]
    },
    {
     "data": {
      "text/plain": [
       "str"
      ]
     },
     "execution_count": 32,
     "metadata": {},
     "output_type": "execute_result"
    }
   ],
   "source": [
    "### input() VS eval() :\n",
    "# input() : We have to specify data-type using type-casting(int(),float(),str()) & we can get Sequence(list,tuple,...)\n",
    "a=input('Enter a list :') # if we enter list\n",
    "type(a)   # str\n",
    "\n",
    "# eval(): We don't need to specify Data-type,As it automatically detects\n",
    "a=eval(input('Enter a list :')) # if we enter list; \n",
    "type(a)    # list"
   ]
  },
  {
   "cell_type": "markdown",
   "id": "e8df40bd",
   "metadata": {},
   "source": [
    "# Output :"
   ]
  },
  {
   "cell_type": "code",
   "execution_count": null,
   "id": "bfd1b9bd",
   "metadata": {},
   "outputs": [],
   "source": [
    "                               \"\"\" Output \"\"\"\n",
    " - String Output can be expressed in single|double|triple-quotes \n",
    "# @ print(value,...,sep=' ',end='\\n',file=sys.stdout,flush=False)\n",
    "print(\"My Name is Khan\")\n",
    "print(\"My\",\"Name\",\"is\",\"Khan\")\n",
    "print(\"My\",\n",
    "      \"Name\",\n",
    "      \"is\",\n",
    "      \"Khan\")\n",
    "\n",
    "\n",
    "print(\"My\",\"Name\",\"is\",\"Khan\",sep=\"*\")   # str inserted between values (separate with sep=\"char\") \n",
    "# My*Name*is*Khan        \n",
    "\n",
    "#@ print(\" \",end:\"char\")  # 'char' append after last-value ; \n",
    "# if another print() below that,then both are 'joined'  \n",
    "print(\"My Name\",end=\":\")   #  end=\"str\" appended after last value\n",
    "print(\"Khan\")    \n",
    "# My Name:Khan\n",
    "\n",
    "----- Continuation character:\n",
    "print(\"My Name is Khan\"\\\n",
    "     \"My Name is Khan\")   # My Name is KhanMy Name is Khan\n",
    "\n",
    "----- String Formatting : With replacement operator{}\n",
    "name,age,salary=\"Abhijit\",23,70000    \n",
    "print(\"Name : {} & Age : {} & Salary : {}\".format(name,age,salary))             # Order is important\n",
    "print(\"Name : {0} & Age : {1} & Salary : {2}\".format(name,age,salary))          # Order isn't important(positional)\n",
    "print(\"Name : {n} & Age : {a} & Salary : {s}\".format(n=name,s=salary,a=age))    # Order isn't important(keyword)\n"
   ]
  },
  {
   "cell_type": "markdown",
   "id": "senior-retirement",
   "metadata": {},
   "source": [
    "# variable|Identifier :\n",
    " - Container to store value in \"memory\"\n",
    " - When value assigned to variable(e.g: a=14): Memory Space reserved for variable(a)\n",
    "\n",
    "**Variable Name in python**\n",
    " * Variable names must be in(a-z,A-Z,0-9,_) \n",
    " * Can be start with '_'\n",
    " * Can't be start with '0-9'\n",
    " * Casesensitive (ex: profit != Profit != PROFIT)\n",
    " * No length limit for identifier(Lenghty-variable not recomended)\n",
    " * Must not be a 'keyword'\n",
    "\n",
    "**Conventions for variables :**\n",
    "- ***Choose Descriptive Names:*** Variable name should be clear enough,so that others can recognize \n",
    "- ***Be consistent:*** Follow same convention|style (ex: high_score,highScore) \n",
    "- ***Follow Tradition of Language:*** In python avoid \"_\" in start & startwith \"lower-case\" \n",
    "- ***Check Length:*** Avoid long variable names  \n"
   ]
  },
  {
   "cell_type": "code",
   "execution_count": 38,
   "id": "national-venice",
   "metadata": {
    "ExecuteTime": {
     "end_time": "2021-06-03T10:57:21.571726Z",
     "start_time": "2021-06-03T10:57:21.563732Z"
    }
   },
   "outputs": [
    {
     "data": {
      "text/plain": [
       "1401389264"
      ]
     },
     "execution_count": 38,
     "metadata": {},
     "output_type": "execute_result"
    }
   ],
   "source": [
    "a=4           # Single Variable \n",
    "a,b=2,4       # Multiple|Positional Ordered Variable (a=2 & b=4)\n",
    "a=b=c=9       # Multiple Variable & Reserve same Location(a=9 & b=9 & c=9)  \n",
    "id(a)         # Address of variable in \"Memory\" \n",
    "type(a)       # Data-type of variable "
   ]
  },
  {
   "cell_type": "markdown",
   "id": "revolutionary-alloy",
   "metadata": {},
   "source": [
    "# Keywords\n",
    " - There are **33 Reserve** words in python,that can't allow to use as variables. \n",
    " - All **keywords** lower case(except True,False,None) & Must starswith(a-z)\n"
   ]
  },
  {
   "cell_type": "code",
   "execution_count": null,
   "id": "liked-arbor",
   "metadata": {},
   "outputs": [],
   "source": [
    "import keyword\n",
    "keyword.kwlist     # Return all Keywords\n",
    "\n",
    "#### keyword list:\n",
    "import   from      as     True     False   None       and        or      not      is     try   \n",
    "  if     elif     else    while     for    break    continue     in      yield    def   return      \n",
    "assert  global   lambda    del     with   nonlocal   except    finally   raise    pass   class \n",
    "\n",
    "\n",
    "#### General use of \"Keywords\"\n",
    "import , from , as                          # module/library\n",
    "True , False , None                         # Boolean value\n",
    "and , or                                    # Logical Operator\n",
    "not , is , in                               # Membership Operator\n",
    "if , elif , else                            # Control-flow\n",
    "while , for , break , continue , yield      # loop\n",
    "def, return , pass , global , lambda        # Function\n",
    "class, nonlocal                             # OOp\n",
    "try , except , finally , raise              # Exception  \n",
    "assert , del , with                         # Methods"
   ]
  },
  {
   "cell_type": "markdown",
   "id": "selective-houston",
   "metadata": {},
   "source": [
    "# Operators :"
   ]
  },
  {
   "cell_type": "markdown",
   "id": "adaptive-nightlife",
   "metadata": {
    "heading_collapsed": true
   },
   "source": [
    "## Arithmetic Operators :"
   ]
  },
  {
   "cell_type": "code",
   "execution_count": 6,
   "id": "becoming-adoption",
   "metadata": {
    "ExecuteTime": {
     "end_time": "2021-06-04T20:48:25.663236Z",
     "start_time": "2021-06-04T20:48:25.648234Z"
    },
    "hidden": true
   },
   "outputs": [
    {
     "data": {
      "text/plain": [
       "3.3333333333333335"
      ]
     },
     "execution_count": 6,
     "metadata": {},
     "output_type": "execute_result"
    }
   ],
   "source": [
    "10 + 8        # Adds operands\n",
    ">>> 18\n",
    "\n",
    "10 - 3        # subtracts operands\n",
    ">>> 7\n",
    "\n",
    "10 * 8        # multiply operands\n",
    ">>> 80\n",
    "\n",
    "10 / 3        # division (Always get float value) \n",
    ">>> 3.3333\n",
    "\n",
    "10 // 5       # Floor division (Maybe int|float value)\n",
    ">>> 2\n",
    "\n",
    "10 % 4        # Modulus   \n",
    ">>> 2\n",
    "\n",
    "10 ** 3       # Exponent (a**b) \n",
    ">>> 1000\n"
   ]
  },
  {
   "cell_type": "markdown",
   "id": "minute-cheat",
   "metadata": {
    "heading_collapsed": true
   },
   "source": [
    "## "
   ]
  },
  {
   "cell_type": "markdown",
   "id": "strong-pharmaceutical",
   "metadata": {},
   "source": [
    "## Relational Operator :"
   ]
  },
  {
   "cell_type": "code",
   "execution_count": 9,
   "id": "phantom-graphics",
   "metadata": {},
   "outputs": [
    {
     "data": {
      "text/plain": [
       "True"
      ]
     },
     "execution_count": 9,
     "metadata": {},
     "output_type": "execute_result"
    }
   ],
   "source": [
    "5 < 6             # is less than \n",
    "11 > 3            # is greater than\n",
    "3 <= 7            # is less than or equal to\n",
    "14 >= 33          # is greater than or equal to\n",
    "22 == 2           # is equal to   (Contain Comparision)\n",
    "13!=3             # is not equal to \n",
    "\n",
    "## channing of Relational Operators: Return True->if all conditions are 'True' Else 'False' \n",
    "10<20<30        # True-> As all conditions 'True'\n",
    "10==20==30==40  # False-> As all conditions 'False'"
   ]
  },
  {
   "cell_type": "markdown",
   "id": "blond-customs",
   "metadata": {},
   "source": [
    "## Logical Operator :"
   ]
  },
  {
   "cell_type": "code",
   "execution_count": null,
   "id": "tropical-marketplace",
   "metadata": {},
   "outputs": [],
   "source": [
    "# 0 -> False\n",
    "# Non-Zero -> True\n",
    "# Empty-String -> False\n",
    "\n",
    "#### and   \n",
    "# True:If Only Both arguments are True\n",
    "# In (x and y) if x=False:Returns 'x' Else 'y' \n",
    "True and True     # True\n",
    "True and False    # True\n",
    "10 and 20         # 20 ; As '10'=True  \n",
    "0 and 20          # 0 ; As '0'=False\n",
    "\"str\" and \"STR\"   # \"STR\" ; As 'str'=True\n",
    "\"\" and \"STR\"      # '' ; As ''=False\n",
    "\n",
    "\n",
    "#### or    \n",
    "# False:If Only Both arguments are False\n",
    "# In (x or y) if x=True:Returns 'x' Else 'y' \n",
    "True or True     # True\n",
    "False or False   # False\n",
    "10 or 20         # 10 ; As '10'=True  \n",
    "0 or 20          # 20 ; As '0'=False\n",
    "\"str\" or \"STR\"   # \"str\" ; As 'str'=True\n",
    "\"\" or \"STR\"      # \"STR\" ; As ''=False\n",
    "\n",
    "\n",
    "#### not   \n",
    "# Returns Only Boolean Value \n",
    "# Returns the Compliment Value\n",
    "not True   # False\n",
    "not False  # True\n",
    "not 10     # False\n",
    "not 0      # True\n",
    "not \"str\"  # False\n",
    "not \"\"     # True\n",
    "\n"
   ]
  },
  {
   "cell_type": "markdown",
   "id": "spanish-dairy",
   "metadata": {},
   "source": [
    "## Bit-wise Operator : Executed Bit by Bit"
   ]
  },
  {
   "cell_type": "code",
   "execution_count": null,
   "id": "suffering-military",
   "metadata": {},
   "outputs": [],
   "source": [
    "# Used Only for 'Integer' & 'Boolean'\n",
    "# False-> 0  , True-> 1\n",
    "# Check Both bits & Return '0'|'1'\n",
    "\n",
    "\n",
    "#### & :Bitwise Conjuction        \n",
    "# 1: If Only Both binary-bits are '1'\n",
    "4 & 5          # 100 & 101 -> 100 (1: If only both bits are '1')\n",
    ">>> 4(100)      \n",
    "\n",
    "\n",
    "#### | :Bitwise Disjuction        \n",
    "# 0: If Only Both binary-bits are '0'\n",
    "4 | 5          # 100 | 101 -> 101 (0: If only both bits are '0')  \n",
    ">>> 5(100)  \n",
    "\n",
    "\n",
    "#### ^ :Bitwise Exclusive|xor     \n",
    "# 0: If Only Both binary-bits are '0' or '1'\n",
    "4 ^ 5          # 100 ^ 101 -> 001 (0: If only both bits are '0'|'1')\n",
    ">>> 1(001)  \n",
    "\n",
    "\n",
    "#### ~ : Bitwise negation not \n",
    "# Convert binary-bit '0'->'1' & '1' -> '0' \n",
    "# If Sign bit +ve(0):then remain as it is  & -ve(1):then 2's compliment form \n",
    "~3       # ~011 -> 100 (Convert '0'->'1' & '1' ->'0')\n",
    ">>> -4   # As Sign-bit=-ve(1): 2's compliment form taken  \n",
    "\n",
    "\n",
    "#### >> : bitwise Right-Shift\n",
    "# Shifts 'n'bits to 'left-side' & fill 'Empty space' with 'sign-bits(for +ve(0)->'0' & -ve(1)->'1')'\n",
    "4>>2    # 100 >> 2 -> 001\n",
    ">>> 1\n",
    "\n",
    "\n",
    "#### << : bitwise Left-Shift\n",
    "# Shifts 'n' bit to 'Right-Side' & 'empty' space filled with \"o's\"\n",
    "4<<2    # 100 << 2 -> 10000\n",
    ">>> 16\n",
    "\n",
    "\n",
    "\n"
   ]
  },
  {
   "cell_type": "markdown",
   "id": "c5d0b68c",
   "metadata": {},
   "source": [
    "## Agumented Assignment Operator :\n"
   ]
  },
  {
   "cell_type": "code",
   "execution_count": 27,
   "id": "9793dbc6",
   "metadata": {},
   "outputs": [
    {
     "data": {
      "text/plain": [
       "16"
      ]
     },
     "execution_count": 27,
     "metadata": {},
     "output_type": "execute_result"
    }
   ],
   "source": [
    "Operator       Example       Is Equivalent To\n",
    "   +=          x += 5           x = x + 5\n",
    "   -=          x -= 5           x = x - 5\n",
    "   *=          x *= 5           x = x * 5\n",
    "   /=          x /= 5           x = x / 5\n",
    "   %=          x %= 5           x = x % 5\n",
    "   &=          x &= 5           x = x & 5           \n",
    "   |=          x |= 5           x = x | 5\n",
    "   ^=          x ^= 5           x = x ^ 5 \n"
   ]
  },
  {
   "cell_type": "markdown",
   "id": "71150fe4",
   "metadata": {},
   "source": [
    "## Ternary Operator :"
   ]
  },
  {
   "cell_type": "code",
   "execution_count": null,
   "id": "1357030f",
   "metadata": {},
   "outputs": [],
   "source": [
    "###### Simple Ternary Operator :\n",
    "@ x=value_1 if(condition) else value_2    # if Condition=True: Return 'value_1' Else 'value_2' \n",
    "\n",
    "x=30 if(10>20) else 40\n",
    ">>> 40     # As condition is False\n",
    "\n",
    "###### Nested Ternary Operator :\n",
    "@ x=value_1 if(condition_1) else value_2 if(condition_2) else value_3  # if Con_1=T: Get 'val_1';Else-if con_2=T: Get 'val_2';Else val_3 \n",
    "\n",
    "x=10 if(20<30) else 40 if(50<60) else 70    #  10 : As condition_1=True\n",
    "print(\"Equal\" if(a==b) else \"1st is Bigger\" if(a>b) else \"2nd is Bigger\") "
   ]
  },
  {
   "cell_type": "code",
   "execution_count": 72,
   "id": "e3a976ab",
   "metadata": {},
   "outputs": [
    {
     "name": "stdout",
     "output_type": "stream",
     "text": [
      "2nd is Bigger\n"
     ]
    }
   ],
   "source": [
    "a=10\n",
    "b=20\n",
    "c=40\n"
   ]
  },
  {
   "cell_type": "markdown",
   "id": "3ef14523",
   "metadata": {},
   "source": [
    "## Identity Operator : \n",
    " - compares Address of multiple Variables"
   ]
  },
  {
   "cell_type": "code",
   "execution_count": 4,
   "id": "155c3159",
   "metadata": {},
   "outputs": [
    {
     "data": {
      "text/plain": [
       "False"
      ]
     },
     "execution_count": 4,
     "metadata": {},
     "output_type": "execute_result"
    }
   ],
   "source": [
    "#### is : Returns True: If Both are pointing to same object(Address) Else False\n",
    "a is b         # id(a)==id(b)\n",
    "\n",
    "#### is not : Returns True: If Both are not pointing to same object(Address) Else False\n",
    "a is not b     # id(a)!=id(b)\n"
   ]
  },
  {
   "cell_type": "markdown",
   "id": "f8f8b6e6",
   "metadata": {},
   "source": [
    "## Membership Operator :\n",
    " - Check if the item inside in a Sequences or not "
   ]
  },
  {
   "cell_type": "code",
   "execution_count": null,
   "id": "6d76b944",
   "metadata": {},
   "outputs": [],
   "source": [
    "#### in : Returns True: If item present in the Sequence Else False\n",
    "a in list_1         \n",
    "\n",
    "#### not in :  Returns True: If item not present in the Sequence Else False\n",
    "a not in list_2     \n"
   ]
  },
  {
   "cell_type": "markdown",
   "id": "0bb27297",
   "metadata": {},
   "source": [
    "## Operator Precedence :"
   ]
  },
  {
   "cell_type": "code",
   "execution_count": null,
   "id": "8273a674",
   "metadata": {},
   "outputs": [],
   "source": [
    "()\n",
    "Unary Operator :\n",
    "Binary Operator :\n",
    "Ternary Operator :\n",
    "    \n",
    "    \n",
    "()  \n",
    "**  \n",
    "~,-         # Unary \n",
    "*,/,%,//\n",
    "+,-\n",
    "<<,>>\n",
    "&\n",
    "^\n",
    "|\n",
    ">,>=,<,<=,==,!=\n",
    "=,+=,-=,*=,.....\n",
    "is,is not\n",
    "in,not in\n",
    "not\n",
    "and\n",
    "or\n"
   ]
  },
  {
   "cell_type": "code",
   "execution_count": 8,
   "id": "d1c455f0",
   "metadata": {},
   "outputs": [
    {
     "name": "stdout",
     "output_type": "stream",
     "text": [
      "100.0\n",
      "100\n",
      "70.0\n"
     ]
    }
   ],
   "source": [
    "print((30+20)*10/5)      # 100.0\n",
    "print((30+20)*(10//5))    # 100.0\n",
    "print(30+(20*10)/5)      # 70.0\n"
   ]
  },
  {
   "cell_type": "markdown",
   "id": "sonic-baghdad",
   "metadata": {},
   "source": [
    "# Python Data-types :\n",
    " - Type of data represented in program\n",
    " - We don't need to Specify ***data-type*** while declaring variable(As Python is Dynamically typed) \n",
    " \n",
    "int , float complex bool str\n",
    "list tuple set frozenset dict\n",
    "bytes bytearray range \n",
    "None"
   ]
  },
  {
   "cell_type": "markdown",
   "id": "irish-muscle",
   "metadata": {},
   "source": [
    "## Data-type Conversion :\n"
   ]
  },
  {
   "cell_type": "code",
   "execution_count": 32,
   "id": "parliamentary-remainder",
   "metadata": {
    "ExecuteTime": {
     "end_time": "2021-06-01T21:45:47.207778Z",
     "start_time": "2021-06-01T21:45:47.184766Z"
    }
   },
   "outputs": [
    {
     "data": {
      "text/plain": [
       "5.0"
      ]
     },
     "execution_count": 32,
     "metadata": {},
     "output_type": "execute_result"
    }
   ],
   "source": [
    "## To string: str() \n",
    "str(5)          # int to str\n",
    "str(5.032)      # float to str\n",
    "\n",
    "## To Integer: int() \n",
    "int(5.33)        # float to int\n",
    "int(\"5\")         # str to int\n",
    "\n",
    "## To Float: float() \n",
    "float(5)             # int to float\n",
    "float(\"5.33\")        # str to float\n",
    "\n",
    "## To Binary & Octal & Hexa-Deciaml & Decimal:\n",
    "bin(18)                           # Decimal to Binary\n",
    "oct(55)                           # Decimal to Octal \n",
    "hex(33)                           # Decimal to Hexa-Decimal\n",
    "print(Binary|Octal|Hexa-Decimal)  # Binary|Octal|Hexa-Decimal to Decimal\n",
    "\n",
    "\n",
    "## Type Casting:\n",
    "int()           # Any type to 'integer'\n",
    "float()         # Any type to 'float'\n",
    "complex()       # Any type to 'complex'  (can't convert to 'int','float')\n",
    "str()           # Any type to 'string'   \n",
    "bool()          # Any type to 'boolean'  (non-zero & Empty-string:True   &   Zero & Any string:False )\n",
    "\n",
    "type(var_name)   ## type of variable \n",
    "id(var_name)   ## id of variable\n",
    "print(var_name)   ## print variable\n"
   ]
  },
  {
   "cell_type": "markdown",
   "id": "expressed-demographic",
   "metadata": {},
   "source": [
    " ## Numbers : \n",
    " - In python, Number Refers to **Decimal**,**float**,**complex**,**Binary**,**Octal**,**Hexa-Decimal**"
   ]
  },
  {
   "cell_type": "code",
   "execution_count": 30,
   "id": "posted-black",
   "metadata": {
    "ExecuteTime": {
     "end_time": "2021-06-01T21:44:24.578421Z",
     "start_time": "2021-06-01T21:44:24.568389Z"
    }
   },
   "outputs": [
    {
     "data": {
      "text/plain": [
       "5"
      ]
     },
     "execution_count": 30,
     "metadata": {},
     "output_type": "execute_result"
    }
   ],
   "source": [
    "                                    \"\"\" Integer|Whole Number \"\"\"\n",
    " - Positive|negative whole numbers (no decimal point allowed)\n",
    " - Python can have unlimited size of integer(Depends upon Memory of system)\n",
    " - Represented in 'Decimal'|'Binary'|'Octal'|'Hexa-Decimal' but 'Decimal' is default\n",
    "\n",
    "ex: 44 , -545 , 0 ,...\n",
    "    \n",
    "### Decimal(base-10)\n",
    " - Range => 0,1,2,3,4,5,6,7,8,9                                      # Range = base-1\n",
    " ex: 1324 , 954 , 39411 etc    \n",
    "       \n",
    "### Binary(base-2)\n",
    " - Range => 0,1                                                     # Range = base-1\n",
    " ex: 0b101011 , 0b110001 , 0b001111 etc    \n",
    "\n",
    "print(0b10110011101)             # Binary to Decimal\n",
    "    \n",
    "\n",
    "### Octal(base-8)\n",
    " - Range => 0,1,2,3,4,5,6,7                                         # Range = base-1\n",
    " ex: 0O223147 , 0O334235 , 0O76124 etc\n",
    "\n",
    "print(0O40)                      # Octal to Decimal\n",
    "\n",
    "\n",
    "### Hexa-Decimal(base-16)\n",
    " - Range => 0,1,2,3,4,5,6,7,8,9,A(10),B(11),C(12),D(13),E(14),F(15) # Range = base-1 \n",
    " ex: 0X981AFEA , 0XCB345E , 0X15F4AC etc  \n",
    "    \n",
    "print(0X40)                      # Hexa-Decimal to Decimal\n",
    "\n",
    "\n",
    "\n",
    "                                        \"\"\" Float \"\"\"\n",
    " - Real No. written with decimal points that divides it to Integer-part & Decimal-part\n",
    " - Floating point numbers ony represented in 'Decimal' but can not by 'Binary'|'Octal'|'Hexa-Decimal'\n",
    " ex: 0.67 , 6. , .17 , 1.2e16(12*10^15)\n",
    "\n",
    "    \n",
    "                                        \"\"\" Complex \"\"\"\n",
    " - Consists of Real-part(a) & imarginary-part(bj)\n",
    " - Real part: Can be Decimal|Binary|Octal|Hexa-Decimal|Float  (ex: -2 , 3 , 2/3 , root(15) etc)\n",
    " - Imarginary part: Only float|Decimal (ex: 0j , -5j etc)  (where j=root(-1) ) \n",
    "ex: 1.3+3j , 3+44.2j ,14.3+3.5j\n",
    "    \n",
    "complex(10+20j)     # 10+20j\n",
    "complex(1)          # 1+0j\n",
    "complex(4j)         # 0+4j\n",
    "\n",
    "complex(10+20j).real     # real part\n",
    "complex(10+20j).imag     # imarginary part \n"
   ]
  },
  {
   "cell_type": "code",
   "execution_count": null,
   "id": "liberal-impossible",
   "metadata": {
    "run_control": {
     "marked": true
    }
   },
   "outputs": [],
   "source": [
    "##### Arithmetic Operations\n",
    "Add(+) : int+int=int ; int|float+float=float ; float|int|complex+complex=complex\n",
    "Sub(-) : int-int=int ; int|float-float=float ; float|int|complex-complex=complex\n",
    "mul(*) : int*int=int ; int|float*float=float ; float|int|complex*complex=complex\n",
    "division(/): int/int=float ; int|float/float=float ; float|int|complex*complex=complex\n",
    "floor div(//): int//int=int ; int|float//float=float ; float|int|complex//complex=complex\n",
    "Modulos(%) : int%int=int ; int|float%float=float ; float|int|complex%complex=complex \n",
    "\n",
    "\n",
    "##### Python in-built functions:\n",
    "abs(X)               # Get Absolute int-values of X ( ex: abs(-3.676)=>3.676 )\n",
    "max(x,y,z)           # Get Max-value\n",
    "min(x,y,z)           # Get Min-value\n",
    "round(X,[n])         # Get rounded decimal points of 'n' no. ( ex: round(3.6765765,2)=>3.68 )\n",
    "type(X)              # Data-type of X\n",
    "id(X)                # Memory Address of X\n",
    "\n",
    "##### Math Methods\n",
    "import math \n",
    "math.ceil(X)  # Get Smallest-int that isn't less than X ( ex: ceil(4.23)=>5 )\n",
    "math.floor(X) # Get largest-int that isn't greater than X ( ex: floor(5.443)=>5 )\n",
    "math.fabs(X)  # Get Absolute float-value of X ( ex: fabs(-33)=>33.0 ) \n",
    "math.pow(X,Y) # Get X**Y (exponential value)\n",
    "math.log(X)   # Natural Logarithim of X ; where X>0"
   ]
  },
  {
   "cell_type": "markdown",
   "id": "needed-jersey",
   "metadata": {
    "ExecuteTime": {
     "end_time": "2021-06-03T12:45:39.532419Z",
     "start_time": "2021-06-03T12:45:39.523024Z"
    },
    "heading_collapsed": true
   },
   "source": [
    "## Boolean :\n",
    " - Consists of ***True*** & ***False***          ***(where True = 1 & False = 0 )***"
   ]
  },
  {
   "cell_type": "code",
   "execution_count": 8,
   "id": "still-therapist",
   "metadata": {
    "ExecuteTime": {
     "end_time": "2021-06-03T15:51:23.143216Z",
     "start_time": "2021-06-03T15:51:23.129834Z"
    },
    "hidden": true
   },
   "outputs": [
    {
     "data": {
      "text/plain": [
       "True"
      ]
     },
     "execution_count": 8,
     "metadata": {},
     "output_type": "execute_result"
    }
   ],
   "source": [
    "## Arithmetic Operations:\n",
    "False+True         # 1 (0+1=1)\n",
    "False*True         # 0 (1*0=0)\n",
    "\n",
    "## Relational Operations: \n",
    "True > False      # True (1>0=True)"
   ]
  },
  {
   "cell_type": "markdown",
   "id": "billion-mississippi",
   "metadata": {
    "hide_input": false
   },
   "source": [
    "## String:\n",
    " - Sequence of Characters consists of letters , numbers , special-character etc\n",
    " "
   ]
  },
  {
   "cell_type": "markdown",
   "id": "eastern-flight",
   "metadata": {},
   "source": [
    "### String Indexing , Slicing , Concatenation , Repeation & Iteration :"
   ]
  },
  {
   "cell_type": "code",
   "execution_count": 1,
   "id": "tribal-stock",
   "metadata": {
    "ExecuteTime": {
     "end_time": "2021-06-05T09:09:49.888009Z",
     "start_time": "2021-06-05T09:09:49.873012Z"
    },
    "run_control": {
     "marked": true
    }
   },
   "outputs": [
    {
     "ename": "SyntaxError",
     "evalue": "invalid syntax (<ipython-input-1-b9071fc8e630>, line 9)",
     "output_type": "error",
     "traceback": [
      "\u001b[1;36m  File \u001b[1;32m\"<ipython-input-1-b9071fc8e630>\"\u001b[1;36m, line \u001b[1;32m9\u001b[0m\n\u001b[1;33m    => It's Fun\u001b[0m\n\u001b[1;37m    ^\u001b[0m\n\u001b[1;31mSyntaxError\u001b[0m\u001b[1;31m:\u001b[0m invalid syntax\n"
     ]
    }
   ],
   "source": [
    "### String Representation : we can use single|double|triple-quote\n",
    "\n",
    "'sring'        # Single quote\n",
    "\"string\"       # Double quote\n",
    "'''string'''   # triple-single quote\n",
    "\"\"\"string\"\"\"   # triple-double quote(Multi-line str,Docstring,use ' & \" inside )\n",
    "\n",
    "print('It\"s Fun')        # double-quote inside single-quote \n",
    "=> It's Fun\n",
    "print(\"It's Fun\")        # single-quote inside double-quote  \n",
    "=>It's Fun\n",
    "print(\"\"\"It's Fun \"being\" this\"\"\") # single|double-quote inside tripple-quote \n",
    "=>It's Fun \"being\" this\n",
    "\n",
    "\n",
    "### Indexing :\n",
    "# \"String\"  : -ve indexing: right to left [-6,-5,-4,-3,-2,-1]   & +ve indexing: left to right [0,1,2,3,4,5]  \n",
    "s[0]                # a[index]    (+ve or -ve indexing)\n",
    "\n",
    "\n",
    "### Slicing : part of a string\n",
    "s[1:3]              # s[start : (end-1) : step]\n",
    "s[::-1]             # string in reverse format\n",
    "# Note: there is no Index:Out of Range Error in Slicing\n",
    "\n",
    "### String Concatenation:   @ print(\"str1\"+\"str2\"+\"str3\"+.......) \n",
    "print(\"String\"+\"Concatenation\")  # StringConcatenation\n",
    "\n",
    "\n",
    "### String Repeation:    @ print(\"str\" * integer)\n",
    "print(\"String \"*5)  # StringStringStringStringString\n",
    "print(5*\"String \")  # StringStringStringStringString\n",
    "\n",
    "### Iteration over String:\n",
    "s=\"Last is the new start\"\n",
    "for i in s:\n",
    "    print(i)"
   ]
  },
  {
   "cell_type": "code",
   "execution_count": 8,
   "id": "greater-garlic",
   "metadata": {
    "ExecuteTime": {
     "end_time": "2021-06-14T22:32:32.017640Z",
     "start_time": "2021-06-14T22:32:31.996282Z"
    }
   },
   "outputs": [
    {
     "data": {
      "text/plain": [
       "'DurgA'"
      ]
     },
     "execution_count": 8,
     "metadata": {},
     "output_type": "execute_result"
    }
   ],
   "source": [
    "a=\"hhghgpoiftd\"\n",
    "a[3:177]\n",
    "# No Index:Out of Range Error in Slicing\n",
    "\n",
    "\n",
    "# make 'durga' to 'durgA'\n",
    "a='durga'\n",
    "a[0:len(a)-1]+a[-1].upper()\n",
    "\n",
    "# make 'durga' to 'DurgA'\n",
    "a='durga'\n",
    "a[0:len(a)-1].title()+a[-1].upper()\n"
   ]
  },
  {
   "cell_type": "code",
   "execution_count": 1,
   "id": "limiting-seeking",
   "metadata": {
    "ExecuteTime": {
     "end_time": "2021-06-14T22:03:15.783450Z",
     "start_time": "2021-06-14T22:03:15.772291Z"
    }
   },
   "outputs": [
    {
     "ename": "SyntaxError",
     "evalue": "EOL while scanning string literal (<ipython-input-1-9c43836402d0>, line 1)",
     "output_type": "error",
     "traceback": [
      "\u001b[1;36m  File \u001b[1;32m\"<ipython-input-1-9c43836402d0>\"\u001b[1;36m, line \u001b[1;32m1\u001b[0m\n\u001b[1;33m    d=\" this\u001b[0m\n\u001b[1;37m             ^\u001b[0m\n\u001b[1;31mSyntaxError\u001b[0m\u001b[1;31m:\u001b[0m EOL while scanning string literal\n"
     ]
    }
   ],
   "source": [
    "d=\" this \n",
    "ia \n",
    "he \n",
    "or \n",
    "she\"\n",
    "print(d)"
   ]
  },
  {
   "cell_type": "code",
   "execution_count": 2,
   "id": "swiss-senate",
   "metadata": {
    "ExecuteTime": {
     "end_time": "2021-06-14T22:03:59.017506Z",
     "start_time": "2021-06-14T22:03:58.999198Z"
    }
   },
   "outputs": [
    {
     "name": "stdout",
     "output_type": "stream",
     "text": [
      " this \n",
      "ia \n",
      "he \n",
      "or \n",
      "she\n"
     ]
    }
   ],
   "source": [
    "## multiline str\n",
    "d=\"\"\" this \n",
    "ia \n",
    "he \n",
    "or \n",
    "she\"\"\"\n",
    "print(d)"
   ]
  },
  {
   "cell_type": "markdown",
   "id": "neural-delicious",
   "metadata": {},
   "source": [
    "### Escape Sequence :"
   ]
  },
  {
   "cell_type": "code",
   "execution_count": null,
   "id": "center-wagon",
   "metadata": {},
   "outputs": [],
   "source": [
    "\\\\      # Prints one 'backslash'\n",
    "\\'      # Prints one 'single quote'  \n",
    "\\\"      # Prints one 'double quote'  \n",
    "\\a      # Bell\n",
    "\\n      # Newline (beginning of next line)\n",
    "\\t      # Horizontal tab (forward one tab)\n",
    "\n",
    "print(\"my name is \\\\Khan\\\\ \")   #  my name is \\Khan\\ \n",
    "print(\"my name is \\'Khan\\' \")   #  my name is 'Khan'\n",
    "print(\"my name is \\\"Khan\\\" \")   #  \n"
   ]
  },
  {
   "cell_type": "markdown",
   "id": "bottom-essex",
   "metadata": {},
   "source": [
    "### Relational  & Membership Operators"
   ]
  },
  {
   "cell_type": "code",
   "execution_count": null,
   "id": "coral-stuff",
   "metadata": {},
   "outputs": [],
   "source": [
    "### Relational Operators : Considers Alphabatecal Order(unicode)\n",
    "> ,< , = , >= ,<= , == , === ,!=\n",
    "\n",
    "### Membership: Wether a item is in String or not\n",
    "\"i\" in \"string\"         # True: if item in String\n",
    "\"i\" not in \"string\"     # True: if item not in String\n",
    "\n"
   ]
  },
  {
   "cell_type": "markdown",
   "id": "extraordinary-profile",
   "metadata": {},
   "source": [
    "### String Methods :\n"
   ]
  },
  {
   "cell_type": "code",
   "execution_count": null,
   "id": "lined-courage",
   "metadata": {},
   "outputs": [],
   "source": [
    "## String Methods:                            # Styling\n",
    "a.capitalize()   # Capitalize 1st character\n",
    "a.upper()        # Upper-cased string\n",
    "a.lower()        # lower-cased string\n",
    "a.casefold()     # Convert to Lower-case\n",
    "a.title()        # title-cased (This Is Known As Title-Case)\n",
    "a.swapcase()     # Convert Lower-case to upper-case & viceversa\n",
    "\n",
    "                                             # Boolean Filtering :\n",
    "a.isnumeric()    # True:if all characters in text are numeric\n",
    "a.isidentifier() # True:if string is valid identifier(variable_name)\n",
    "a.isdecimal()    # True:if all are decimals\n",
    "a.isalpha()      # True:if all alphabetic characters[A-Z][a-z]\n",
    "a.isalnum()      # True:if all characters in text are alphanumeric\n",
    "a.isdigit()      # True:if all digits\n",
    "a.isspace()      # True:if whitespace characters \n",
    "a.isupper()      # True:if uppercased string \n",
    "a.islower()      # True:if characters in lowercase\n",
    "a.istitle()      # True:if titlecased string \n",
    "a.isprintable()  # True:if all characters in text are printable\n",
    "\n",
    "                                            # Searching Substring:\n",
    "a.count(\"i\")   # count occurance   @ count(value,start,(end-1))\n",
    "a.find(\"i\")    # Find 1st-occourance(-1:if not found)  @ find(value,start,(end-1))\n",
    "a.rfind(\"y\")   # if ends-with substring @ rfind(str,start,(end-1))\n",
    "\n",
    "a.index(\"i\")   # Find 1st-occourance(Error:if not found)  @ index(value,start,(end-1))\n",
    "a.rindex(\"y\")  # if ends-with substring @ rindex(value,start,(end-1))\n",
    "\n",
    "a.endswith('se')     # String ends-with sub-string or not\n",
    "a.startswith('T')     # String starts-with sub-string or not\n",
    "\n",
    "a.partition('okay')  # find match & Return (part before string,string,part after string)\n",
    "a.rpartition('okay')  # find match & Return (part before string,string,part after string)\n",
    "\n",
    "                                    # Replacement :\n",
    "a.replace('okay','ok') # Replaces sub-string  @ replace(old,new,count=max no. of replacement)\n",
    "\n",
    "table=a.maketrans(\"SmHo\",\"PMNO\",\"l!\")   # Returns Mapping table @ maketrans(char,replacement,remove)\n",
    "a.translate(table)     # Char replaced with char described in dict.|mapping table @ translate(table)  \n",
    "\n",
    "                                             # Transformation :\n",
    "a.split(\" \")        # Split using Separator  @ split(separator,maxsplit)\n",
    "a.lsplit(\" \")       # Split using Separator  @ lsplit(separator,maxsplit)\n",
    "a.rsplit(\" \")       # Split using Separator  @ rsplit(separator,maxsplit)\n",
    "a.splitlines()      # Split using line breakers @ splitlines(keeplinebreaks)\n",
    "\n",
    "lstrip()            # Remove from left-side @ lstrip(char to be removed)\n",
    "rstrip()            # Remove from right-side @ rstrip(char to be removed)\n",
    "strip()             # Remove from both-side @ strip(char to be removed)\n",
    "\n",
    "a.rjust(50,'a')     #  left-paded string  @ rjust(length,\"char\")\n",
    "a.ljust(50,'a')     #  right-paded string  @ ljust(length,\"char\")\n",
    "\n",
    "a.center(20,\" \")    # Make string to centre  @ a.center(length,\"char\")\n",
    "a.zfill()           # Add Zeros starting of string,until specified len @ zfill(len)\n",
    "\n",
    "a.join()           # Takes items in an iterable & joins them into one string @ join(iterable)\n",
    "\n",
    "a.expandtabs(2)   # Sets specified no. of whitespaces  @ expandtabs(tabsize)\n",
    "a.encode()        # Encode String @ encode(encoding=encoding,errors=errors)\n",
    "a.decode()        # Encode String @ encode(encoding=encoding,errors=errors)\n",
    "a.len()"
   ]
  },
  {
   "cell_type": "code",
   "execution_count": null,
   "id": "australian-focus",
   "metadata": {},
   "outputs": [],
   "source": [
    "Every fundamental variable can hold only one data"
   ]
  },
  {
   "cell_type": "code",
   "execution_count": 3,
   "id": "2427e4e9",
   "metadata": {},
   "outputs": [
    {
     "name": "stdout",
     "output_type": "stream",
     "text": [
      "Enter No 1 : 12\n",
      "Enter No 2 : 13\n",
      "13 Is Bigger Number !!!\n"
     ]
    }
   ],
   "source": [
    "########## Q1) Return biggest no. among 2 no:\n",
    "n_1=int(input(\"Enter No 1 : \"))\n",
    "n_2=int(input(\"Enter No 2 : \"))\n",
    "\n",
    "if(n_1>n_2):\n",
    "    print(\"{} Is Bigger Number !!!\".format(n_1))\n",
    "elif(n_1==n_2):\n",
    "    print(\"{} & {} Is Same Number !!!\".format(n_1,n_2))\n",
    "else:\n",
    "    print(\"{} Is Bigger Number !!!\".format(n_2))\n",
    "    \n",
    "## or\n",
    "n_1,n_2=input(\"Enter 2 No.s :\").split(\",\")\n",
    "\n",
    "if(int(n_1)>int(n_2)):\n",
    "    print(\"{} Is Bigger Number !!!\".format(n_1))\n",
    "elif(int(n_1)==int(n_2)):\n",
    "    print(\"{} & {} Is Same Number !!!\".format(n_1,n_2))\n",
    "else:\n",
    "    print(\"{} Is Bigger Number !!!\".format(n_2))\n",
    "\n",
    "## or\n",
    "n_1,n_2=input(\"Enter 2 No.s :\").split(\",\")\n",
    "\n",
    "x=n_1 if(int(n_1)>int(n_2)) else n_2\n",
    "print(\"{} Is Bigger Number !!!\".format(x))\n",
    "\n",
    "########## Q2) Return biggest no. among 3 no:\n",
    "n_1,n_2,n_3=input(\"Enter 3 No.s :\").split(\",\")\n",
    "\n",
    "if(int(n_1)>int(n_2)) and (int(n_1)>int(n_3)):\n",
    "    print(\"{} Is Bigger Number !!!\".format(n_1))\n",
    "elif(int(n_2)>int(n_3)):\n",
    "    print(\"{} Is Same Number !!!\".format(n_2))\n",
    "else:\n",
    "    print(\"{} Is Bigger Number !!!\".format(n_3))\n",
    "\n",
    "## or\n",
    "n_1,n_2,n_3=input(\"Enter 3 No.s :\").split(\",\")\n",
    "\n",
    "x=n_1 if((int(n_1)>int(n_2)) and (int(n_1)>int(n_3))) else n_2 if(int(n_2)>int(n_3)) else n_3\n",
    "print(\"{} Is Bigger Number !!!\".format(x))\n",
    "\n",
    "\n",
    "########## If a number is in 0-100 or not\n",
    "n=int(input(\"Enter a number you want to check :\"))\n",
    "x=True if((n>0) and (n<100)) else False\n",
    "print(\"'{}' is present in between '1 - 100' : {} \".format(n,x))"
   ]
  },
  {
   "cell_type": "code",
   "execution_count": 37,
   "id": "22b87626",
   "metadata": {},
   "outputs": [
    {
     "name": "stdout",
     "output_type": "stream",
     "text": [
      "S @ Even-index:0\n",
      "t @ Odd-index:1\n",
      "r @ Even-index:2\n",
      "i @ Odd-index:3\n",
      "n @ Even-index:4\n",
      "g @ Odd-index:5\n",
      "c @ Even-index:6\n",
      "r @ Odd-index:7\n",
      "o @ Even-index:8\n",
      "s @ Odd-index:9\n",
      "s @ Even-index:10\n",
      "10\n"
     ]
    }
   ],
   "source": [
    "########## 3) Separate odd-positioned char & even-positioned char from a string:\n",
    "n=\"Stringcross\"\n",
    "index=0\n",
    "for i in n:\n",
    "    if(index%2==0):\n",
    "        print(\"{} @ Even-index:{}\".format(i,index))\n",
    "    else:\n",
    "        print(\"{} @ Odd-index:{}\".format(i,index))\n",
    "    index+=1\n",
    "\n"
   ]
  },
  {
   "cell_type": "code",
   "execution_count": 53,
   "id": "0c8b8fdc",
   "metadata": {},
   "outputs": [
    {
     "name": "stdout",
     "output_type": "stream",
     "text": [
      "Char's @ Even-indeces : S r n c o s \n",
      "Char's @ Odd-indeces : t i g r s "
     ]
    }
   ],
   "source": [
    "## or \n",
    "n=\"Stringcross\"\n",
    "\n",
    "print(\"Char's @ Even-indeces :\",end=\" \")\n",
    "for i in range(0,len(n),2):\n",
    "    print(n[i],end=\" \")\n",
    "    \n",
    "print()\n",
    "\n",
    "print(\"Char's @ Odd-indeces :\",end=\" \")\n",
    "for i in range(1,len(n),2):\n",
    "    print(n[i],end=\" \")"
   ]
  },
  {
   "cell_type": "code",
   "execution_count": 55,
   "id": "b9df9791",
   "metadata": {},
   "outputs": [
    {
     "name": "stdout",
     "output_type": "stream",
     "text": [
      "Char's @ Even-indeces : "
     ]
    },
    {
     "ename": "TypeError",
     "evalue": "'bool' object is not iterable",
     "output_type": "error",
     "traceback": [
      "\u001b[1;31m---------------------------------------------------------------------------\u001b[0m",
      "\u001b[1;31mTypeError\u001b[0m                                 Traceback (most recent call last)",
      "\u001b[1;32m<ipython-input-55-fe6fef34a104>\u001b[0m in \u001b[0;36m<module>\u001b[1;34m\u001b[0m\n\u001b[0;32m      3\u001b[0m \u001b[1;33m\u001b[0m\u001b[0m\n\u001b[0;32m      4\u001b[0m \u001b[0mprint\u001b[0m\u001b[1;33m(\u001b[0m\u001b[1;34m\"Char's @ Even-indeces :\"\u001b[0m\u001b[1;33m,\u001b[0m\u001b[0mend\u001b[0m\u001b[1;33m=\u001b[0m\u001b[1;34m\" \"\u001b[0m\u001b[1;33m)\u001b[0m\u001b[1;33m\u001b[0m\u001b[1;33m\u001b[0m\u001b[0m\n\u001b[1;32m----> 5\u001b[1;33m \u001b[1;32mfor\u001b[0m \u001b[0mi\u001b[0m \u001b[1;32min\u001b[0m \u001b[0mrange\u001b[0m\u001b[1;33m(\u001b[0m\u001b[1;36m0\u001b[0m\u001b[1;33m,\u001b[0m\u001b[0mlen\u001b[0m\u001b[1;33m(\u001b[0m\u001b[0mn\u001b[0m\u001b[1;33m)\u001b[0m\u001b[1;33m,\u001b[0m\u001b[1;36m2\u001b[0m\u001b[1;33m)\u001b[0m \u001b[1;32mand\u001b[0m \u001b[0mj\u001b[0m \u001b[1;32min\u001b[0m \u001b[0mrange\u001b[0m\u001b[1;33m(\u001b[0m\u001b[1;36m1\u001b[0m\u001b[1;33m,\u001b[0m\u001b[0mlen\u001b[0m\u001b[1;33m(\u001b[0m\u001b[0mn\u001b[0m\u001b[1;33m)\u001b[0m\u001b[1;33m,\u001b[0m\u001b[1;36m2\u001b[0m\u001b[1;33m)\u001b[0m\u001b[1;33m:\u001b[0m\u001b[1;33m\u001b[0m\u001b[1;33m\u001b[0m\u001b[0m\n\u001b[0m\u001b[0;32m      6\u001b[0m     \u001b[0mprint\u001b[0m\u001b[1;33m(\u001b[0m\u001b[0mn\u001b[0m\u001b[1;33m[\u001b[0m\u001b[0mi\u001b[0m\u001b[1;33m]\u001b[0m\u001b[1;33m,\u001b[0m\u001b[0mend\u001b[0m\u001b[1;33m=\u001b[0m\u001b[1;34m\" \"\u001b[0m\u001b[1;33m)\u001b[0m\u001b[1;33m\u001b[0m\u001b[1;33m\u001b[0m\u001b[0m\n\u001b[0;32m      7\u001b[0m     \u001b[0mprint\u001b[0m\u001b[1;33m(\u001b[0m\u001b[0mn\u001b[0m\u001b[1;33m[\u001b[0m\u001b[0mj\u001b[0m\u001b[1;33m]\u001b[0m\u001b[1;33m,\u001b[0m\u001b[0mend\u001b[0m\u001b[1;33m=\u001b[0m\u001b[1;34m\" \"\u001b[0m\u001b[1;33m)\u001b[0m\u001b[1;33m\u001b[0m\u001b[1;33m\u001b[0m\u001b[0m\n",
      "\u001b[1;31mTypeError\u001b[0m: 'bool' object is not iterable"
     ]
    }
   ],
   "source": []
  },
  {
   "cell_type": "markdown",
   "id": "meaningful-saudi",
   "metadata": {},
   "source": [
    "# Control Flow : if , elif , else , break , continue"
   ]
  },
  {
   "cell_type": "code",
   "execution_count": null,
   "id": "explicit-exhibit",
   "metadata": {},
   "outputs": [],
   "source": [
    "                                \"\"\" if \"\"\"\n",
    "if (condition1):\n",
    "    execute this # condition1=True\n",
    "\n",
    "    \n",
    "                            \"\"\" if-else \"\"\"\n",
    "if (condition1):\n",
    "    execute this # if (condition1=True)\n",
    "else:\n",
    "    execute this # if (condition1=False)\n",
    "    \n",
    "    \n",
    "                         \"\"\" if-elif-else \"\"\"\n",
    "if (condition1):\n",
    "    execute this # if (condition1=True)\n",
    "elif (condition2):\n",
    "    execute this # if (condition1=False) &  elif (condition2=True) \n",
    "else:\n",
    "    execute this #  if (condition1=False) &  elif (condition2=False)\n",
    "    \n",
    "\n",
    "                            \"\"\" Nested \"\"\"\n",
    "if (condition1):\n",
    "    if (condition2): # if (condition1=True)\n",
    "        execute this   # if (condition1=True) & if (condition2=True)\n",
    "    else:\n",
    "        execute this   # if (condition1=True) & if (condition2=False)\n",
    "elif (condition3):   \n",
    "    execute this  # if (condition1=False) & elif (condition3=True) \n",
    "else:\n",
    "    execute this #  if (condition1=False) &  elif (condition3=False)"
   ]
  },
  {
   "cell_type": "code",
   "execution_count": null,
   "id": "destroyed-regression",
   "metadata": {},
   "outputs": [],
   "source": [
    "                       \"\"\" break \"\"\"\n",
    "\n",
    "### break: Unconditionally immediate exit from loop\n",
    "\n",
    "                      \"\"\" continue \"\"\"\n",
    "### continue: sudden reached to End\n"
   ]
  },
  {
   "cell_type": "markdown",
   "id": "integrated-trade",
   "metadata": {},
   "source": [
    "## Loop : for , while "
   ]
  },
  {
   "cell_type": "code",
   "execution_count": null,
   "id": "rental-toner",
   "metadata": {},
   "outputs": [],
   "source": [
    "                                 \"\"\" for loop \"\"\" \n",
    "# Used to iterate over sequence|iterable objects(list,dict,tuple,set,str,range)\n",
    "for i in range(start,(stop-1),step): \n",
    "     do_something()\n",
    "    pass\n",
    "\n",
    "\n",
    "                                \"\"\" for-else \"\"\"\n",
    "# else block must execute\n",
    "for i in range(start,(stop-1),step)\n",
    "    execute this              # if & till for(condition=True)\n",
    "else:\n",
    "    execute this              # must execute once , irrespective of while\n",
    "\n"
   ]
  },
  {
   "cell_type": "code",
   "execution_count": null,
   "id": "authorized-warning",
   "metadata": {},
   "outputs": [],
   "source": [
    "                                \"\"\" while loop \"\"\"\n",
    "# executes a statement or a set of statements as long as a specified boolean condition is true\n",
    "while (condition):\n",
    "    execute this    # till while(condition=True)\n",
    "\n",
    "\n",
    "i = 0\n",
    "while i < 100:\n",
    "    # do_something()\n",
    "    i += 1\n",
    "\n",
    "\n",
    "                                \"\"\" while-else \"\"\"\n",
    "while (condition):\n",
    "    execute this          # till while(condition=True)\n",
    "else:\n",
    "    exectue this          # must execute once , irrespective of while\n",
    "    \n",
    "    \n"
   ]
  },
  {
   "cell_type": "markdown",
   "id": "checked-rhythm",
   "metadata": {},
   "source": [
    "## function :\n",
    "\n",
    "**function type :**\n",
    "***built-in :***\n",
    "sum() , eval() , print() etc.\n",
    "\n",
    "***user-defined :***\n",
    "\n",
    "***Scope :***\n",
    "** Local Variable :**\n",
    " can only used inside of function\n",
    "\n",
    "**Global Variable :**\n",
    " can be used Globally\n",
    "\n",
    "global function_name\n",
    "\n",
    "<p><b>Defination :</b></p>\n",
    " <p>- A group of statements,Repeatedly required & used multiple times</p>\n",
    "    - Written Once but can be used multiple times\n",
    "<p><b>Goal :</b> Code re-useibility </p>\n",
    "\n",
    "<b>Types of function :</b>\n",
    "<p><b>* inbuilt:</b> pre_builted functions,that can be called</p>   \n",
    "<p><b>* user_defiend:</b> Custom functions,that needed in our code</p>  "
   ]
  },
  {
   "cell_type": "code",
   "execution_count": null,
   "id": "8080709f",
   "metadata": {},
   "outputs": [],
   "source": [
    "# Function Declaration:\n",
    "def function_name(Arguments):\n",
    "    function Body\n",
    "    return \n",
    "print(\"statement\")\n",
    "\n",
    "\n",
    "# function invocation:After function-invocation , python jumps inside function\n",
    "function_name(parameters)       # Function invocation \n",
    " \n",
    "\n",
    "### "
   ]
  },
  {
   "cell_type": "code",
   "execution_count": null,
   "id": "52f1b717",
   "metadata": {},
   "outputs": [],
   "source": [
    "def Person(Name=None,Age=None,Address=None,Contact=None):\n",
    "    print('Name of Person',Name)\n",
    "    print('Name of Person',Age)\n",
    "    print('Name of Person',Address)\n",
    "    print('Name of Person',Contact)\n",
    "    return print(\"thank you\")    \n",
    "Person('jitan',22,None)"
   ]
  },
  {
   "cell_type": "code",
   "execution_count": null,
   "id": "a3abd586",
   "metadata": {},
   "outputs": [],
   "source": [
    "### Types Of Arguments\n",
    "a) Positional Arguments: position of parameters & arguments must be same\n",
    "    - must be  i) 'same size' ii)'same order' \n",
    "def my_function(a,b,c):\n",
    "    print(a,b,c)\n",
    "\n",
    "my_function(1,2,3)\n",
    "    \n",
    "\n",
    "b) Default Arguments: Assigns default values to parameter during function-Declaration\n",
    "    - if not given in argument then uses default value (order matters) \n",
    "\n",
    "c) keyword Arguments:\n",
    "    - must be same size & must have same name &  order is't important & argument name must be specified\n",
    "def introduction(first_name,last_name):\n",
    "    print(first_name,last_name)\n",
    "\n",
    "introduction(first_name=\"James\",last_name=\"Bond\")\n",
    "    \n",
    "\n",
    "d) Variable-Length Arguments:\n",
    "    - We can have any numbers of arguments during 'function-call'\n",
    "    - arguments are stored inside 'tuple'\n",
    "e) Variable-Length Arguments:\n",
    "    - "
   ]
  },
  {
   "cell_type": "code",
   "execution_count": null,
   "id": "60879fb7",
   "metadata": {},
   "outputs": [],
   "source": [
    "## a) Positional Arguments: \n",
    "def func1(a,b):         ## defining function with 'Positional Arguments' \n",
    "    return a+b\n",
    "\n",
    "func1(12,30)            ## Calling 'Function'\n",
    "       \n",
    "## b) Default Arguments:\n",
    "def func2(a=30,b=50):   ## defining function with 'Default Arguments' \n",
    "    return a+b\n",
    "\n",
    "func2()                 ## Calling 'Function' with 'default argument values'\n",
    "func2(80,90)            ## Calling 'Function' with 'new-argument values'\n",
    "       \n",
    "## c) keyword Arguments:\n",
    "def func3(a,b):             ## defining function with 'keyword Arguments' \n",
    "    return a+b\n",
    "\n",
    "func3(a=12,b=90)            ## Calling 'Function' with 'keyword Arguments'\n",
    "  \n",
    "## d) Variable-Length Arguments:\n",
    "def func4(*args):         ## defining function with 'var-length Arguments' \n",
    "    #type(args)\n",
    "    sum=0\n",
    "    for i in args:\n",
    "        sum+=i\n",
    "    return sum \n",
    "\n",
    "func4(12,30,20,34,56,77,99)               ## Calling 'Function'\n",
    "\n",
    " \n",
    "## e) Variable-Length Arguments:\n",
    "def func4(*args):\n",
    "    print(type(*args))\n",
    "    for i in *args:\n",
    "        print(sum=sum+i)\n",
    "        \n",
    "func4(3,4,444,43,2,3,4,2,1)"
   ]
  },
  {
   "cell_type": "code",
   "execution_count": null,
   "id": "sized-anaheim",
   "metadata": {},
   "outputs": [],
   "source": [
    "### "
   ]
  },
  {
   "cell_type": "code",
   "execution_count": null,
   "id": "e4881f90",
   "metadata": {},
   "outputs": [],
   "source": [
    "############# a) Function \n",
    "def function_name(Arguments):   # Defining 'Function'\n",
    "    body\n",
    "    return \n",
    "\n",
    "function_name(Arguments)        # calling 'Function'\n",
    "\n",
    "############# b) Anonymos Function(Lambda Function)\n",
    "-Function without 'name' & used for 'one time' or 'instant use'\n",
    "var=lambda arguments:return      # Defining 'Function'\n",
    "\n",
    "var(arguments)                   # calling 'Function'\n",
    "\n",
    "############# C) Recursion Function\n",
    "- A function Calls itself\n",
    "\n",
    "############# d) Nested Function\n",
    "- Function inside a function"
   ]
  },
  {
   "cell_type": "markdown",
   "id": "5a0272ba",
   "metadata": {},
   "source": [
    "### Decorator:\n",
    " * ***Modify functionality*** of a ***main-function*** without changing ***main-function***\n"
   ]
  },
  {
   "cell_type": "code",
   "execution_count": 15,
   "id": "f91905de",
   "metadata": {},
   "outputs": [
    {
     "name": "stdout",
     "output_type": "stream",
     "text": [
      "Hello Abhi : Welcome to hell\n",
      "Hello ABHI : Welcome to hell\n",
      "Hello Guest : Welcome to hell\n",
      "UnAuthorized Access\n",
      "Hello Abhijit : Welcome to hell\n"
     ]
    }
   ],
   "source": [
    "## Adds more functionality to 'access()' without modifying it\n",
    "\n",
    "def decor(func):\n",
    "    def inner(user):\n",
    "        print(\"UnAuthorized Access\") if(user not in [\"Abhi\",\"Abhijit\",\"jitan\",\"JITAN\",\"ABHIJIT\",\"ABHI\"]) else func(user)\n",
    "    return inner\n",
    "\n",
    "@decor                                                 # modification=decor(access)\n",
    "def access(user):\n",
    "    print(\"Hello {} : Welcome to hell\".format(user))\n",
    "\n",
    "access(\"Abhi\")\n",
    "access(\"ABHI\")\n",
    "access(\"Guest\")\n",
    "\n",
    "# modification=decor(access)       # @decor\n",
    "# modification(\"Guest\")\n",
    "# modification(\"Abhijit\")\n"
   ]
  },
  {
   "cell_type": "markdown",
   "id": "1bf28616",
   "metadata": {
    "heading_collapsed": true
   },
   "source": [
    "## Function Ex:"
   ]
  },
  {
   "cell_type": "code",
   "execution_count": null,
   "id": "9610bc7d",
   "metadata": {
    "hidden": true
   },
   "outputs": [],
   "source": [
    "def function_name(parameteres):\n",
    "    function body\n",
    "    return\n",
    "\n",
    "function_name(arguments)\n",
    "\n",
    "# parameters: works inside function during function-declaration\n",
    "# we can have as many parameters we want but we have to use same no. of arguments\n",
    "# Arguments: Work outside on function\n",
    "\n",
    "# variable name canbe of parameter name : shadowing- as parameter only have access inside function so we can use that as variable\n",
    "# those 2 things are different\n",
    "def message(number):\n",
    "    print(\"Value of 'number' inside function as parameter:\", number)\n",
    "\n",
    "number = 1234\n",
    "message(1)\n",
    "print(\"Value of number-variable  outside function\"number)\n",
    "\n",
    "\n",
    "\n",
    "\n",
    "# fun1 takes (year) returns True:if leap Year   & False:if common yr\n",
    "# fun2 takes (yr,mnth) returns days of that month (30,31,28(if comn yr),29(leap yr))\n",
    "\n",
    "def is_year_leap(year):\n",
    "    if (year%4!=0):\n",
    "        return False\n",
    "    elif (year%100!=0):\n",
    "        return True\n",
    "    elif (year%400!=0):\n",
    "        return False\n",
    "    else:\n",
    "        return True\n",
    "        \n",
    " \n",
    "def days_in_month(year,month):\n",
    "    mon_lst=[1,2,3,4,5,6,7,8,9,10,11,12]\n",
    "# 31   : 1,3,5,7,8,10,12\n",
    "# 30   : 4,6,8,9,11,\n",
    "# 28/29: 2\n",
    "    if mon_lst==[1,3,5,7,8,10,12]:\n",
    "        return int(31)\n",
    "    elif mon_lst==[4,6,8,9,11]:\n",
    "        return int(30)\n",
    "    else:\n",
    "        if is_year_leap(year)==True:\n",
    "            return int(29)\n",
    "        else:\n",
    "            return int(28)\n",
    "        \n",
    "\n",
    "test_years = [1900, 2000, 2016, 1987]\n",
    "test_months = [2, 2, 1, 11]\n",
    "test_results = [28, 29, 31, 30]\n",
    "for i in range(len(test_years)):\n",
    "    yr = test_years[i]\n",
    "\tmo = test_months[i]\n",
    "\tprint(yr, mo, \"->\", end=\"\")\n",
    "\tresult = days_in_month(yr, mo)\n",
    "\tprint(\"test\",test_results[i])\n",
    "\tif result == test_results[i]:\n",
    "\t\tprint(result,\"OK\")\n",
    "\telse:\n",
    "\t\tprint(result,\"Failed\")\n",
    "\n",
    "        \n",
    "        \n",
    "        \n",
    "        ## \"mile per gallon\" to \"lit per 100km\"  & viceversa \n",
    "\n",
    "# 1 American mile = 1609.344 metres\n",
    "# 1 American gallon = 3.785411784 litres\n",
    "\n",
    "def liters_100km_to_miles_gallon(liters):\n",
    "    # gal=3.785411784lit \n",
    "    # lit=lit/3.785411784 gal   \n",
    "    # mile=1.609344 km    \n",
    "    # km=1/1.609344 mile \n",
    "\n",
    "    lit_gallon=liters/3.785411784    \n",
    "    km_mile=(1/1.609344)*100     # as per 100km\n",
    "    \n",
    "    return km_mile/lit_gallon\n",
    "    \n",
    "    \n",
    "def miles_gallon_to_liters_100km(miles): \n",
    "    # gal=3.785411784lit    \n",
    "    # mile=1609.344 meters = 1.609344km    \n",
    "\n",
    "    gal_lit=3.785411784\n",
    "    mile_100km=(miles*1.609344)/100   ## As 100km\n",
    "    return gal_lit/mile_100km\n",
    "\n",
    "\n",
    "print(liters_100km_to_miles_gallon(3.9))\n",
    "print(liters_100km_to_miles_gallon(7.5))\n",
    "print(liters_100km_to_miles_gallon(10.))\n",
    "print(miles_gallon_to_liters_100km(60.3))\n",
    "print(miles_gallon_to_liters_100km(31.4))\n",
    "print(miles_gallon_to_liters_100km(23.5))\n",
    "\n",
    "\n",
    "\n",
    "\n",
    "\n",
    "# var that exists outside function has a scope inside function body\n",
    "var = 2\n",
    "\n",
    "def mult_by_var(x):\n",
    "    return x * var\n",
    "\n",
    "print(mult_by_var(7))    # outputs: 14\n",
    "\n",
    "## var exists outside function has a scope inside function body (Example 1) unless the function defines a variable of the same name (Example 2, and Example 3)\n",
    "def mult(x):\n",
    "    var = 5\n",
    "    return x * var\n",
    "\n",
    "print(mult(7))    # outputs: 35\n",
    "\n",
    "##\n",
    "def mult(x):\n",
    "    var = 7\n",
    "    return x * var\n",
    "\n",
    "var = 3\n",
    "print(mult(7))    # outputs: 49\n",
    "\n",
    "## var exists inside function: scope inside function body\n",
    "def adding(x):\n",
    "    var = 7\n",
    "    return x + var\n",
    "\n",
    "print(adding(4))    # outputs: 11\n",
    "print(var)    # NameError\n",
    "\n",
    "## \n",
    "\n",
    "\n",
    "## BMI Calculator :\n",
    "def ft_and_inch_to_m(ft, inch = 0.0):\n",
    "    return ft*0.3048+inch*0.0254\n",
    "\n",
    "def lb_to_kg(lb):\n",
    "    return lb*0.45359237\n",
    "\n",
    "def bmi(weight,height):\n",
    "    if height<1.0 or height>2.5 or weight<20 or weight>200:\n",
    "        return None\n",
    "    return weight/height**2\n",
    "\n",
    "print(bmi(weight=lb_to_kg(176),height=ft_and_inch_to_m(5,7)))\n",
    "\n",
    "\n",
    "## Can some arbitrary lengths can built a triangle\n",
    "# For creating Triangle : sum of 2 sides must less than or equall to 3rd one\n",
    "def is_a_triangle(a, b, c):\n",
    "    return a+b>c and b+c>a and c+a>b\n",
    "\n",
    "print(is_a_triangle(1, 1, 1))\n",
    "print(is_a_triangle(1, 1, 3))\n",
    "\n",
    "\n",
    "## If a Triangle is Right_angled or not \n",
    "def is_a_triangle(a, b, c):\n",
    "    return a + b > c and b + c > a and c + a > b\n",
    "\n",
    "def is_a_right_triangle(a, b, c):\n",
    "    if not is_a_triangle(a, b, c):\n",
    "        return False\n",
    "    if c > a and c > b:\n",
    "        return c ** 2 == a ** 2 + b ** 2\n",
    "    if a > b and a > c:\n",
    "        return a ** 2 == b ** 2 + c ** 2\n",
    "\n",
    "\n",
    "print(is_a_right_triangle(5, 3, 4))\n",
    "print(is_a_right_triangle(1, 3, 4))\n",
    "\n",
    "\n",
    "## Triangle area by \"Heron's Formula\"\n",
    "# Heron's Formula: s=(a+b+c)/2  & A=[s(s-a)(s-b)(s-c)]**0.5\n",
    "    \n",
    "def is_a_triangle(a,b,c):\n",
    "    return a+b>c and b+c>a and c+a>b\n",
    "\n",
    "def heron(a,b,c):\n",
    "    s=(a+b+c)/2\n",
    "    return (s*(s-a)*(s-b)*(s-c))**0.5\n",
    "\n",
    "def area_of_triangle(a,b,c):\n",
    "    if not is_a_triangle(a,b,c):\n",
    "        return None\n",
    "    return heron(a,b,c)\n",
    "\n",
    "print(area_of_triangle(3,4,5))\n",
    "\n",
    "\n",
    "\n",
    "## Factorial \n",
    "def factorial(num):\n",
    "    fact=1\n",
    "\n",
    "    if num<0:\n",
    "        return \"Enter a valid number !!!\"\n",
    "    elif num<2:\n",
    "        return 1\n",
    "    else:\n",
    "        for i in range (2,num+1):\n",
    "            fact=fact*i\n",
    "        return fact\n",
    "            \n",
    "\n",
    "#n=int(input(\"Enter a number : \"))\n",
    "#print(n,\"!=\",factorial(n))\n",
    "\n",
    "for i in range(0,11):\n",
    "    print(i,\"!=\",factorial(i))\n",
    "# or with recurssion\n",
    "def factorial_function(n):\n",
    "    if n < 0:\n",
    "        return None\n",
    "    if n < 2:\n",
    "        return 1\n",
    "    return n * factorial_function(n - 1)    ## 4 * 3 * 2 * 1 = 24\n",
    "\n",
    "    \n",
    "    \n",
    "    \n",
    "## Fibonacci numbers Series\n",
    "def fibonacci_series(n):\n",
    "    prv=nxt=1\n",
    "    fibo=0\n",
    "    \n",
    "    if n<0:\n",
    "        return \"Enter A valid Number !!!\"\n",
    "    elif n<3:\n",
    "        return 1\n",
    "    else:\n",
    "        for i in range(3,n+1):\n",
    "            fibo=prv+nxt\n",
    "            prv,nxt=nxt,fibo\n",
    "        return fibo\n",
    "    \n",
    "    \n",
    "for i in range(1,11):\n",
    "    print(\"Fibonacci Number Series of\",i,\":\",fibonacci_series(i))\n",
    "    \n",
    "## or\n",
    "def fibonacci_series(n):\n",
    "    if n < 1:\n",
    "        return None\n",
    "    if n < 3:\n",
    "        return 1\n",
    "    return fib(n - 1) + fib(n - 2)\n",
    "\n",
    "for i in range(1,11):\n",
    "    print(\"Fibonacci Number Series of\",i,\":\",fibonacci_series(i))\n",
    "    \n",
    "    \n",
    "    \n",
    "    \n",
    "    \n",
    "    \n",
    "    \n",
    "# predict op\n",
    "def fun(a):\n",
    "    if a > 30:\n",
    "        return 3\n",
    "    else:\n",
    "        return a + fun(a + 3)\n",
    "\n",
    "print(fun(25))       # 25+28+3"
   ]
  },
  {
   "cell_type": "markdown",
   "id": "ac76310c",
   "metadata": {},
   "source": [
    "## Python Module :\n",
    "* Group of **functions** , **Variables** , **classes** saved into **file** \n",
    "\n",
    "    **Advantages:**\n",
    "     * Code Reuseibility\n",
    "     * Code Readibility\n",
    "<br> \n",
    " \n",
    " \n",
    "**Working :**\n",
    " * When a module imported in python ,***PVM***  generates  ***pyc***  file & saved in  ***__pycache__***  file\n",
    " * If same ***module imported*** several times but only ***loaded*** once\n",
    " \n",
    "<br> \n",
    "\n",
    "**Load & Reload Module :**\n",
    " * In Python,module just loaded once irrespective of how many times same module imported \n",
    " \n",
    "  ***Advantage :*** As module load once, Saves Memory , Speed Code Execution , Optimized Processing\n",
    "  \n",
    "  ***Drawback :*** Once the module loaded & then it modified outside but modified module not available (cuz old-module already loaded)"
   ]
  },
  {
   "cell_type": "code",
   "execution_count": 1,
   "id": "bd9f2257",
   "metadata": {},
   "outputs": [
    {
     "ename": "SyntaxError",
     "evalue": "invalid syntax (<ipython-input-1-e1ee82a3a81e>, line 1)",
     "output_type": "error",
     "traceback": [
      "\u001b[1;36m  File \u001b[1;32m\"<ipython-input-1-e1ee82a3a81e>\"\u001b[1;36m, line \u001b[1;32m1\u001b[0m\n\u001b[1;33m    ---------- Import modules ----------\u001b[0m\n\u001b[1;37m                      ^\u001b[0m\n\u001b[1;31mSyntaxError\u001b[0m\u001b[1;31m:\u001b[0m invalid syntax\n"
     ]
    }
   ],
   "source": [
    "---------- Import modules ----------\n",
    "import module_name\n",
    "import module1_name,module2_name\n",
    "import module_name as m1\n",
    "from module1 import function_name as f\n",
    "\n",
    "\n",
    "\n",
    "---------- Re-Load Module ----------\n",
    "# Explicitly Reload Modeule in Python \n",
    "import imp\n",
    "\n",
    "imp.reload(module_name)\n",
    "\n",
    "\n",
    "\n",
    "---------- Members of module ----------\n",
    "import module_name\n",
    "\n",
    "dir(module_name)\n",
    "\n",
    "# When module imported & loaded , then PVM addes some file to it\n",
    "\n",
    "\n",
    "---------- Help in module ----------\n",
    "import module_name\n",
    "\n",
    "help(module_name)"
   ]
  },
  {
   "cell_type": "code",
   "execution_count": null,
   "id": "f43be1d4",
   "metadata": {},
   "outputs": [],
   "source": []
  },
  {
   "cell_type": "code",
   "execution_count": null,
   "id": "fc3bad7f",
   "metadata": {},
   "outputs": [],
   "source": []
  },
  {
   "cell_type": "code",
   "execution_count": 5,
   "id": "61513f5a",
   "metadata": {},
   "outputs": [
    {
     "data": {
      "text/plain": [
       "['__doc__',\n",
       " '__loader__',\n",
       " '__name__',\n",
       " '__package__',\n",
       " '__spec__',\n",
       " 'acos',\n",
       " 'acosh',\n",
       " 'asin',\n",
       " 'asinh',\n",
       " 'atan',\n",
       " 'atan2',\n",
       " 'atanh',\n",
       " 'ceil',\n",
       " 'comb',\n",
       " 'copysign',\n",
       " 'cos',\n",
       " 'cosh',\n",
       " 'degrees',\n",
       " 'dist',\n",
       " 'e',\n",
       " 'erf',\n",
       " 'erfc',\n",
       " 'exp',\n",
       " 'expm1',\n",
       " 'fabs',\n",
       " 'factorial',\n",
       " 'floor',\n",
       " 'fmod',\n",
       " 'frexp',\n",
       " 'fsum',\n",
       " 'gamma',\n",
       " 'gcd',\n",
       " 'hypot',\n",
       " 'inf',\n",
       " 'isclose',\n",
       " 'isfinite',\n",
       " 'isinf',\n",
       " 'isnan',\n",
       " 'isqrt',\n",
       " 'ldexp',\n",
       " 'lgamma',\n",
       " 'log',\n",
       " 'log10',\n",
       " 'log1p',\n",
       " 'log2',\n",
       " 'modf',\n",
       " 'nan',\n",
       " 'perm',\n",
       " 'pi',\n",
       " 'pow',\n",
       " 'prod',\n",
       " 'radians',\n",
       " 'remainder',\n",
       " 'sin',\n",
       " 'sinh',\n",
       " 'sqrt',\n",
       " 'tan',\n",
       " 'tanh',\n",
       " 'tau',\n",
       " 'trunc']"
      ]
     },
     "execution_count": 5,
     "metadata": {},
     "output_type": "execute_result"
    }
   ],
   "source": [
    "import math\n",
    "\n"
   ]
  },
  {
   "cell_type": "markdown",
   "id": "prepared-mixture",
   "metadata": {},
   "source": [
    "## Data structures :"
   ]
  },
  {
   "cell_type": "markdown",
   "id": "pressed-commonwealth",
   "metadata": {},
   "source": [
    "### List :\n",
    "**Properties**\n",
    "  - Mutabele(Items can't changed,after list Creation) \n",
    "  - Dynamic in nature (List size Updated according to Item size)\n",
    "  - Order important  ex: [1,2,3,4] != [4,3,2,1]\n",
    "  - Allow Duplicate items & Different data-types   ex: [\"a\",2,3.4,None,2,True,\"a\"]\n",
    "  - Supports indexing & slicing "
   ]
  },
  {
   "cell_type": "markdown",
   "id": "pediatric-charm",
   "metadata": {},
   "source": [
    "#### Creation :"
   ]
  },
  {
   "cell_type": "code",
   "execution_count": 17,
   "id": "integral-circuit",
   "metadata": {
    "ExecuteTime": {
     "end_time": "2021-06-07T11:22:56.895253Z",
     "start_time": "2021-06-07T11:22:56.869475Z"
    }
   },
   "outputs": [
    {
     "data": {
      "text/plain": [
       "[33, 43, 15, [45, 5, 6, 7], [9, 0, 6, 7, 44], 67, 789, 578, 362]"
      ]
     },
     "execution_count": 17,
     "metadata": {},
     "output_type": "execute_result"
    }
   ],
   "source": [
    "#### Simple List Creation \n",
    "lst=[]                          # Empty list Created(where value is unknown)\n",
    "lst=[12,34,24,15,45,56,47]      # (Where value is known)\n",
    "lst=list([23,43,23,42,56,76])   # Using list()\n",
    "lst=[None,2,True,\"str\",2,0.33]  # multiple data-types\n",
    "\n",
    "#### Nested List : tuple , dict. , list inside List\n",
    "lst=[33,43,15,[45,5,6,7],[9,0,6,7,44],67,789,578,362]    # list inside list \n",
    "lst=[33,43,15,(45,5,6),7,(9,0,6,7,),44,67,789,578,362]   # tuple inside list  \n"
   ]
  },
  {
   "cell_type": "markdown",
   "id": "local-preservation",
   "metadata": {},
   "source": [
    "#### Indexing , Slicing , Traversing :"
   ]
  },
  {
   "cell_type": "code",
   "execution_count": null,
   "id": "framed-richards",
   "metadata": {},
   "outputs": [],
   "source": [
    "#### 2.a) Indexing : Both +ve & -ve indexig possible\n",
    "lst[index_number]                 # Accessing simple list \n",
    "lst[ith_row][jth_col]             # Accessing nested list\n",
    "\n",
    "#### 2.b) Slicing:\n",
    "lst[start:(end-1):step]          \n",
    "\n",
    "#### 2.c) Traversing item of list:\n",
    "# Traversing Using while loop :\n",
    "i=0\n",
    "while(i<len(l)):\n",
    "    print(l[i])\n",
    "    i+=1\n",
    "    \n",
    "# Traversing Using for Loop :\n",
    "for i in l:\n",
    "    print(i)\n",
    "    \n",
    "# Traversing through Reversed-List :\n",
    "for i in reversed(list_name):\n",
    "    print(i)\n",
    "        \n",
    "# Traversing through sorted-List :\n",
    "for i in sorted(list_name):\n",
    "    print(i)"
   ]
  },
  {
   "cell_type": "markdown",
   "id": "supposed-citation",
   "metadata": {},
   "source": [
    "#### Methods For List :"
   ]
  },
  {
   "cell_type": "code",
   "execution_count": null,
   "id": "understanding-jewelry",
   "metadata": {},
   "outputs": [],
   "source": [
    "len(lst)                           # Length of items\n",
    "lst.count(38)                      # Count Occurance of items\n",
    "lst.index(22)                      # Index of first occurance  @ index(item,start,(end-1)) \n",
    "lst.reverse()                      # Reverse list  \n",
    "lst.copy()                         # Sallow copy \n",
    "lst.clear()                        # Remove all items from list      \n",
    "lst.sort(key=None,reverse=False)   # Sort list Alphabatically|Numerically\n",
    "lst_1==lst_2                       # Compare item of lists\n",
    "max(lst)                           # Get maximum item\n",
    "min(lst)                           # Get minimum item  "
   ]
  },
  {
   "cell_type": "markdown",
   "id": "twenty-password",
   "metadata": {},
   "source": [
    "#### Addition , Delete ,  join - Split & Modification :"
   ]
  },
  {
   "cell_type": "code",
   "execution_count": 24,
   "id": "dynamic-explorer",
   "metadata": {
    "ExecuteTime": {
     "end_time": "2021-06-07T11:42:40.387960Z",
     "start_time": "2021-06-07T11:42:40.367733Z"
    }
   },
   "outputs": [
    {
     "data": {
      "text/plain": [
       "4"
      ]
     },
     "execution_count": 24,
     "metadata": {},
     "output_type": "execute_result"
    }
   ],
   "source": [
    "                                                            a) Insert Items :\n",
    "## a.A) append(item): Insert item to end index\n",
    "lst.append(34)             # append single item\n",
    "\n",
    "for i in items:\n",
    "    lst.append(i)  # append multiple items\n",
    "\n",
    "## a.B) insert(index,item): Insert items to given index\n",
    "lst.insert(2,45)\n",
    "\n",
    "## a.C) extend(list): Combine 2 lists\n",
    "lst1.extend(lst2)\n",
    "\n",
    "## a.D) using loop\n",
    "lst=[]                    # Creating an empty list\n",
    "for i in range(5):\n",
    "    lst.insert(0,i+1)\n",
    "\n",
    "## a.E) Using Add(+) Operator :\n",
    "lst_1 + lst_2        # Extend list items \n",
    "\n",
    "## a.F) Using Multiply(*) Operator :    \n",
    "lst * 6            # Repeat List Items\n",
    "\n",
    "---------------------------------------------------------------------------------------------------------------------------\n",
    "                                                            b) Remove Items :\n",
    "## b.A) .pop(index): Remove & return indexed item(Default remove last item) \n",
    "lst.pop(\"item\")\n",
    "\n",
    "## b.B) del lst[item]: Deletes Specific Items By index\n",
    "del lst[index]  # removes specific item\n",
    "del lst         # removes complete list\n",
    "\n",
    "## b.C) remove(): Remove item by 'item' (remove 1st occurance of that item)\n",
    "lst.remove()\n",
    "\n",
    "---------------------------------------------------------------------------------------------------------------------------\n",
    "                                                            c) join & split\n",
    "## c.A) join(): joinn multiple lists\n",
    "lst.join(l2)    \n",
    "\n",
    "## c.B) split(): split list using sepaators \n",
    "lst.split(\" \")\n",
    "\n",
    "---------------------------------------------------------------------------------------------------------------------------\n",
    "                                                            d) Membership\n",
    "## d.A) not in : True=> if 'item' not present in List  \n",
    "33 not in lst\n",
    "\n",
    "## d.B) in : True=> if 'item' present in List\n",
    "33 in lst\n",
    "\n",
    "---------------------------------------------------------------------------------------------------------------------------\n",
    "                                                            e) Modification\n",
    "l[index_no]==item           # modify item to existing one\n",
    "\n"
   ]
  },
  {
   "cell_type": "markdown",
   "id": "wired-solomon",
   "metadata": {},
   "source": [
    "#### Packing & Unpacking List-Items  :"
   ]
  },
  {
   "cell_type": "code",
   "execution_count": 31,
   "id": "sixth-enemy",
   "metadata": {
    "ExecuteTime": {
     "end_time": "2021-06-07T12:10:49.812561Z",
     "start_time": "2021-06-07T12:10:49.797656Z"
    }
   },
   "outputs": [
    {
     "data": {
      "text/plain": [
       "[1, 2, 3, 4, 5, 6, 1, 2, 3, 4, 5, 6]"
      ]
     },
     "execution_count": 31,
     "metadata": {},
     "output_type": "execute_result"
    }
   ],
   "source": [
    "## A) packing: Grouping into single List\n",
    "a=1\n",
    "b=2\n",
    "c=33\n",
    "d=6\n",
    "t=(a,b,c,d)\n",
    "\n",
    "## B) Unpacking: Spliting List-Items to multiple Items\n",
    "a,b,c,d=t"
   ]
  },
  {
   "cell_type": "code",
   "execution_count": null,
   "id": "conservative-practitioner",
   "metadata": {},
   "outputs": [],
   "source": []
  },
  {
   "cell_type": "code",
   "execution_count": null,
   "id": "existing-bolivia",
   "metadata": {},
   "outputs": [],
   "source": [
    "https://docs.python.org/3/tutorial/datastructures.html\n",
    "lst=s.split(\"i t j u s t\")               # Using split()\n",
    "\n",
    "list comprenamm\n",
    "nested list comp\n",
    "\n",
    "list as stack\n",
    "list as queue"
   ]
  },
  {
   "cell_type": "code",
   "execution_count": 55,
   "id": "italic-drinking",
   "metadata": {
    "ExecuteTime": {
     "end_time": "2021-06-09T10:29:54.097359Z",
     "start_time": "2021-06-09T10:29:54.087066Z"
    }
   },
   "outputs": [
    {
     "data": {
      "text/plain": [
       "'W'"
      ]
     },
     "execution_count": 55,
     "metadata": {},
     "output_type": "execute_result"
    }
   ],
   "source": [
    "lst=[\"WWW\",\"EDF\",\"WWQ\",\"GTD\",\"HHY\"]\n",
    "lst[2][1]"
   ]
  },
  {
   "cell_type": "markdown",
   "id": "yellow-color",
   "metadata": {},
   "source": [
    "### Tuple :\n",
    " - Immutabele(value can't be updated) \n",
    " - Oder important(supports indexing & slicing) \n",
    " - Allow Duplicate          ex: tup(12,32,12,55,33)\n",
    " - Can take different data-types ex: tup('a',32,'c',55,33)\n",
    " - Uses less memory\n",
    " - Faster access\n",
    "Note: Tuple is read only version of list"
   ]
  },
  {
   "cell_type": "markdown",
   "id": "historical-employer",
   "metadata": {},
   "source": [
    "#### Creation :"
   ]
  },
  {
   "cell_type": "code",
   "execution_count": null,
   "id": "established-norway",
   "metadata": {},
   "outputs": [],
   "source": [
    "## Single Tuple :\n",
    "t=()                           # empty tuple(where value is unknown)\n",
    "t=(12,)                        # single valued tuple    (Note: t=(12) type(t)=int)\n",
    "t=(12,34,24,15,45,56,47)   \n",
    "t=tuple([23,43,23,42,56,76])  # Using list()\n",
    "t=eval(input(\"Enter items of tuple: \"))\n",
    "\n",
    "## Nested tuple: List , Dict. , Tuple inside Tuple\n",
    "t=(33,43,15,(45,5,6,7),(9,0,6,7,44),67,789,578,362)    # tuple inside tuple    \n",
    "t=(33,43,15,[45,5,6,7,],[9,0,6,7,44],67,789,578,362)   # list inside tuple    \n"
   ]
  },
  {
   "cell_type": "markdown",
   "id": "moving-lighter",
   "metadata": {},
   "source": [
    "#### Indexing , Slicing , Traversing :"
   ]
  },
  {
   "cell_type": "code",
   "execution_count": null,
   "id": "optimum-banana",
   "metadata": {},
   "outputs": [],
   "source": [
    "                               \"\"\" Indexing \"\"\"\n",
    "t[index]       # Access simple Tuple(Both +ve & -ve Indexing possible)\n",
    "t[i][j]        # Access nested Tuple\n",
    "\n",
    "\n",
    "                                \"\"\" Slicing \"\"\"\n",
    "t[start:(stop-1):step]\n",
    "\n",
    "\n",
    "                                \"\"\" Traversing \"\"\"\n",
    "a) Using while loop\n",
    "i=0\n",
    "while(i<len(t)):\n",
    "    print(t[i])\n",
    "    i+=1\n",
    "    \n",
    "b) Using for Loop\n",
    "for i in t:\n",
    "    print(i)\n",
    "    \n",
    "c) Traversing through Reversed-Tuple :\n",
    "for i in reversed(tup):\n",
    "    print(i)\n",
    "    \n",
    "d) Traversing through sorted-Tuple :\n",
    "for i in sorted(tup):\n",
    "    print(i)"
   ]
  },
  {
   "cell_type": "markdown",
   "id": "careful-optimum",
   "metadata": {
    "ExecuteTime": {
     "end_time": "2021-06-08T20:31:06.891058Z",
     "start_time": "2021-06-08T20:31:06.879002Z"
    }
   },
   "source": [
    "#### Methods of Tuple :"
   ]
  },
  {
   "cell_type": "code",
   "execution_count": 47,
   "id": "regulated-politics",
   "metadata": {
    "ExecuteTime": {
     "end_time": "2021-06-08T20:39:15.850612Z",
     "start_time": "2021-06-08T20:39:15.837558Z"
    }
   },
   "outputs": [
    {
     "data": {
      "text/plain": [
       "1"
      ]
     },
     "execution_count": 47,
     "metadata": {},
     "output_type": "execute_result"
    }
   ],
   "source": [
    "len(t)                           # Length of items\n",
    "t.count(38)                      # Count Occurance of items\n",
    "t.index(3)                       # Index of first occurance  @ index(item,start,(end-1)) \n",
    "t_1==t_2                         # Compare item of tuples\n",
    "tuple(sorted(t,reverse=False))   # sort tuple & returns in list\n",
    "max(t)                           # Get maximum item\n",
    "min(t)                           # Get minimum item  \n",
    "\n"
   ]
  },
  {
   "cell_type": "markdown",
   "id": "attractive-polls",
   "metadata": {},
   "source": [
    "#### Operations : Packing , Unpacking , Membership"
   ]
  },
  {
   "cell_type": "code",
   "execution_count": 50,
   "id": "incorporated-plaintiff",
   "metadata": {
    "ExecuteTime": {
     "end_time": "2021-06-08T20:43:26.895135Z",
     "start_time": "2021-06-08T20:43:26.880140Z"
    }
   },
   "outputs": [
    {
     "ename": "TypeError",
     "evalue": "'tuple' object does not support item assignment",
     "output_type": "error",
     "traceback": [
      "\u001b[1;31m---------------------------------------------------------------------------\u001b[0m",
      "\u001b[1;31mTypeError\u001b[0m                                 Traceback (most recent call last)",
      "\u001b[1;32m<ipython-input-50-79c4934c2ce6>\u001b[0m in \u001b[0;36m<module>\u001b[1;34m\u001b[0m\n\u001b[0;32m      2\u001b[0m \u001b[1;33m\u001b[0m\u001b[0m\n\u001b[0;32m      3\u001b[0m \u001b[1;33m\u001b[0m\u001b[0m\n\u001b[1;32m----> 4\u001b[1;33m \u001b[0mtup\u001b[0m\u001b[1;33m[\u001b[0m\u001b[1;36m4\u001b[0m\u001b[1;33m]\u001b[0m\u001b[1;33m=\u001b[0m\u001b[1;36m3\u001b[0m\u001b[1;33m\u001b[0m\u001b[1;33m\u001b[0m\u001b[0m\n\u001b[0m",
      "\u001b[1;31mTypeError\u001b[0m: 'tuple' object does not support item assignment"
     ]
    }
   ],
   "source": [
    "                                   \"\"\" packing \"\"\"\n",
    "a=1\n",
    "b=2\n",
    "c=33\n",
    "d=6\n",
    "t=(a,b,c,d)\n",
    "\n",
    "                                    \"\"\" Unpacking\"\"\"\n",
    "a,b,c,d=t\n",
    "    \n",
    "\n",
    "                                    \"\"\" Membership \"\"\"\n",
    "33 not in t             # True:if item not in tuple\n",
    "33 in t                 # True:if item in tuple\n"
   ]
  },
  {
   "cell_type": "markdown",
   "id": "noticed-clock",
   "metadata": {
    "ExecuteTime": {
     "end_time": "2021-06-08T20:45:20.541205Z",
     "start_time": "2021-06-08T20:45:20.531218Z"
    }
   },
   "source": [
    "### Set :\n",
    " - mutabel(items can be updated)\n",
    " - Order is not important(No indexing & slicing)\n",
    " - Duplicates not Allowed(duplicate ignored)\n",
    " - Can take different data-types"
   ]
  },
  {
   "cell_type": "markdown",
   "id": "altered-stockholm",
   "metadata": {},
   "source": [
    "#### Creation :"
   ]
  },
  {
   "cell_type": "code",
   "execution_count": null,
   "id": "latin-boutique",
   "metadata": {},
   "outputs": [],
   "source": [
    "s=set()                        # Empty set  (s={} Refers 'Empty-dictionry')\n",
    "s={22,34,56,8,86,54}     \n",
    "s=set([1,2,34,5,64,3,8,9])     # from list\n",
    "s=set((1,2,34,5,64,3,8,9))     # From tuple"
   ]
  },
  {
   "cell_type": "markdown",
   "id": "athletic-young",
   "metadata": {},
   "source": [
    "#### Methods in Set :"
   ]
  },
  {
   "cell_type": "code",
   "execution_count": null,
   "id": "traditional-surfing",
   "metadata": {},
   "outputs": [],
   "source": [
    "s.copy()        # clone a set object\n",
    "s.clear()       # Remove all item from set"
   ]
  },
  {
   "cell_type": "markdown",
   "id": "graphic-style",
   "metadata": {},
   "source": [
    "#### Operation : Addition , Remove , Union , Intersection , Difference , Membership"
   ]
  },
  {
   "cell_type": "code",
   "execution_count": null,
   "id": "prepared-mileage",
   "metadata": {},
   "outputs": [],
   "source": [
    "                                 \"\"\" Addition \"\"\"\n",
    "s.add(34)                              # Add item (no order)\n",
    "s.update(range(5,15,2),range(5,15,-2)) # Add multiple items(in sequence)|list|string|range|tuple\n",
    "\n",
    "\n",
    "                                 \"\"\" Remove \"\"\"\n",
    "s.remove(34)                     # Remove Specified item(if not found,get error)\n",
    "s.discards()                     # Remove specified item(if not found,not get error)\n",
    "s.pop()                          # Remove & Return random item\n",
    "\n",
    "                        \"\"\" Union , Intersection , difference\"\"\"\n",
    "s1.union(s2)         # Union Operation s1|s2   (only Duplicate items)\n",
    "s1.intersection(s2)  # Intersection Operation s1&s2  (only common items)\n",
    "s1.difference(s2)    # Symmetric Difference s1^s2  ()\n",
    "\n",
    "                                \"\"\" Membership \"\"\"\n",
    "33 not in s    # True: If item not in set\n",
    "33 in s        # True: If item in set\n"
   ]
  },
  {
   "cell_type": "markdown",
   "id": "enclosed-generic",
   "metadata": {},
   "source": [
    "#### Set Comprehansion :"
   ]
  },
  {
   "cell_type": "code",
   "execution_count": null,
   "id": "modular-lesson",
   "metadata": {},
   "outputs": [],
   "source": [
    "# a={ expression for x in sequence if condition}\n",
    "a={ x*x for x in range(1,10) }\n",
    "b={ x*x for x in range(1,10) if (x%5==0) }\n"
   ]
  },
  {
   "cell_type": "markdown",
   "id": "subject-slope",
   "metadata": {},
   "source": [
    "### Frozenset :\n",
    "- "
   ]
  },
  {
   "cell_type": "code",
   "execution_count": null,
   "id": "imperial-setup",
   "metadata": {},
   "outputs": [],
   "source": []
  },
  {
   "cell_type": "markdown",
   "id": "nominated-french",
   "metadata": {},
   "source": [
    "### Dictionary :\n",
    " - Represents items in **key:value** pairs (ex: 'Name':'Abhijit')\n",
    " - Must Contain unique 'keys' but duplicate 'value'\n",
    " - Order is not Important "
   ]
  },
  {
   "cell_type": "markdown",
   "id": "antique-contest",
   "metadata": {},
   "source": [
    "#### Creation :"
   ]
  },
  {
   "cell_type": "code",
   "execution_count": null,
   "id": "narrative-louisville",
   "metadata": {},
   "outputs": [],
   "source": [
    "d={}                                       # Empty Dictionary ( d=dict() )\n",
    "d[\"key_name\"]=value                        # add value to Dict.   \n",
    "\n",
    "d={\"R\":233,\"G\":15,\"B\":150,\"S\":155}         # d={\"key\":value}\n",
    "\n",
    "## Using dict() :\n",
    "d=dict([(\"R\",233),(\"G\",15),(\"B\",150)])     # From list of tuples @ d=dict([(\"key\",value)])     \n",
    "d=dict(([\"R\",233],[\"G\",15],[\"B\",150]))     # From tuple of lists @ d=dict(([\"key\",value]))     \n",
    "d=dict(((\"R\",233),(\"G\",15),(\"B\",150)))     # From tuple of tuples @ d=dict(((\"key\",value)))     \n",
    "d=dict([[\"R\",233],[\"G\",15],[\"B\",150]])     # From list of lists @ d=dict([[\"key\",value]])"
   ]
  },
  {
   "cell_type": "markdown",
   "id": "mobile-shipping",
   "metadata": {},
   "source": [
    "#### Accessing Dict. items"
   ]
  },
  {
   "cell_type": "code",
   "execution_count": null,
   "id": "mathematical-bidding",
   "metadata": {},
   "outputs": [],
   "source": [
    "## Access Values\n",
    "d[\"key\"]                          # Access value by \"Key\" \n",
    "d.values()                        # Return all values \n",
    "d.fromkeys()\n",
    "\n",
    "## Access Keys\n",
    "d.keys()                          # Return all'Keys' (Can be iterate)\n",
    "d.setdefault(\"key\",\"value\")       # if 'key' present then get 'value' Else not present then add \"key:value\"\n",
    "\n",
    "## Access key:value\n",
    "d.get(\"Key\",\"default-value\")      # Return 'value' of \"Key\" if Not present return \"default-value\" \n",
    "d.items()                         # Return list(key,value)   (Can be iterate)\n"
   ]
  },
  {
   "cell_type": "markdown",
   "id": "expired-abortion",
   "metadata": {},
   "source": [
    "#### Methods :"
   ]
  },
  {
   "cell_type": "code",
   "execution_count": null,
   "id": "decimal-director",
   "metadata": {},
   "outputs": [],
   "source": [
    "d.copy()                       # Return clone of object\n",
    "len(d)                         # Number of 'key:value' pair \n"
   ]
  },
  {
   "cell_type": "markdown",
   "id": "paperback-offense",
   "metadata": {},
   "source": [
    "#### Operations: Insert , Remove , Update "
   ]
  },
  {
   "cell_type": "code",
   "execution_count": 53,
   "id": "hindu-cartridge",
   "metadata": {
    "ExecuteTime": {
     "end_time": "2021-06-08T21:19:26.475693Z",
     "start_time": "2021-06-08T21:19:25.953042Z"
    }
   },
   "outputs": [
    {
     "ename": "SyntaxError",
     "evalue": "invalid syntax (<ipython-input-53-8763918a0332>, line 5)",
     "output_type": "error",
     "traceback": [
      "\u001b[1;36m  File \u001b[1;32m\"<ipython-input-53-8763918a0332>\"\u001b[1;36m, line \u001b[1;32m5\u001b[0m\n\u001b[1;33m    2) Remove :\u001b[0m\n\u001b[1;37m     ^\u001b[0m\n\u001b[1;31mSyntaxError\u001b[0m\u001b[1;31m:\u001b[0m invalid syntax\n"
     ]
    }
   ],
   "source": [
    "                               \"\"\" Insertion \"\"\"\n",
    "d[\"Key\"]=value          # If \"Key\" present then 'value' updated else \"key\" & \"value\" added\n",
    "d.update(x)             # Add new (key:value) from Sequence   (Only one argument passed)\n",
    "\n",
    "                              \"\"\" Remove \"\"\" \n",
    "d.pop(\"key\")            # remove & Return poped key:value\n",
    "d.popitem()             # remove & Return random key:value \n",
    "d.clear()               # Delete All data from dictionry (Note : variable Still used for store data)\n",
    "del d[\"key\"]            # If 'key' present then remove 'key:value' pair : Error(if 'key' isn't present)\n",
    "del d                   # Completely Remove variable , key & value (Note : variable can't used again)\n",
    "\n",
    "                            \"\"\" Update \"\"\"\n",
    "d[\"Key\"]=new_value"
   ]
  },
  {
   "cell_type": "markdown",
   "id": "2e886e4e",
   "metadata": {},
   "source": [
    "#### Dictionary Comprehension :\n"
   ]
  },
  {
   "cell_type": "code",
   "execution_count": null,
   "id": "8eb91240",
   "metadata": {},
   "outputs": [],
   "source": [
    "square={x:x*x for x in range(1,6)}\n",
    "print(square)"
   ]
  },
  {
   "cell_type": "code",
   "execution_count": 69,
   "id": "80e73e6e",
   "metadata": {},
   "outputs": [
    {
     "name": "stdout",
     "output_type": "stream",
     "text": [
      "Enter Number of students :1\n",
      "Enter Student Name :22\n",
      "Enter Student Marks :33\n",
      "\tS_Name \t\t Marks\n",
      "________________________________________\n",
      "\t22 \t 33\n"
     ]
    }
   ],
   "source": [
    "########## Store & Display 'n' Students Marks\n",
    "\n",
    "marksheet={}\n",
    "n=int(input(\"Enter Number of students :\"))\n",
    "i=1\n",
    "while i<=n:\n",
    "    name=input(\"Enter Student Name :\")\n",
    "    marks=input(\"Enter Student Marks :\")\n",
    "    marksheet[name]=marks\n",
    "    i+=1\n",
    "print(\"\\tS_Name \\t\\t Marks\")\n",
    "print(\"_\"*40)\n",
    "\n",
    "for i in marksheet:\n",
    "    print('\\t{} \\t {}'.format(i,marksheet[i]))\n",
    "    \n",
    "    \n",
    "########## Store & Display 'n' Students Marks ; Query Student Name to Get Mark \n",
    "\n",
    "marksheet={}\n",
    "n=int(input(\"Enter Number of students :\"))\n",
    "i=1\n",
    "while i<=n:\n",
    "    name=input(\"Enter Student Name :\")\n",
    "    marks=input(\"Enter Student Marks :\")\n",
    "    marksheet[name]=marks\n",
    "    i+=1\n",
    "    \n",
    "while True:\n",
    "    q=input(\"Enter Student Name to Check Mark : \" )\n",
    "    \n",
    "    if q in marksheet.keys():\n",
    "        print(\"Student Name : {} - Mark : {}\".format(q,marksheet[q]))\n",
    "    else:\n",
    "        print(\"Enter a Valid Name  ; The name You looking For is't there !!!\")\n",
    "    \n",
    "    option=input(\"Do you want to Query More Marks[Y|N] :- \")\n",
    "    if option.lower()=='y':\n",
    "        continue\n",
    "    else:\n",
    "        break"
   ]
  },
  {
   "cell_type": "code",
   "execution_count": 85,
   "id": "85fd02b8",
   "metadata": {},
   "outputs": [
    {
     "name": "stdout",
     "output_type": "stream",
     "text": [
      "Enter a String : eemdjjhjsiairir\n",
      "2\n",
      "2\n",
      "1\n",
      "1\n",
      "3\n",
      "3\n",
      "1\n",
      "3\n",
      "1\n",
      "3\n",
      "1\n",
      "3\n",
      "2\n",
      "3\n",
      "2\n",
      "char:'e' present 2 times\n",
      "char:'m' present 1 times\n",
      "char:'d' present 1 times\n",
      "char:'j' present 3 times\n",
      "char:'h' present 1 times\n",
      "char:'s' present 1 times\n",
      "char:'i' present 3 times\n",
      "char:'a' present 1 times\n",
      "char:'r' present 2 times\n"
     ]
    }
   ],
   "source": [
    "########## Enter String & Show Word & Count\n",
    "s=input(\"Enter a String : \")\n",
    "d={}\n",
    "\n",
    "for i in s:\n",
    "    string=i\n",
    "    counts=s.count(i)\n",
    "    d[string]=counts\n",
    "    \n",
    "for i,j in d.items():\n",
    "    print(\"char:'{}' present {} times\".format(i,j))\n",
    "    \n",
    "# or \n",
    "s=input(\"Enter a String : \")\n",
    "d={}\n",
    "\n",
    "for i in s:\n",
    "    d[i]=d.get(i,0)+1    # If 'key' present then count+=1  Else count=0 \n",
    "    \n",
    "for i,j in d.items():\n",
    "    print(\"char:'{}' present {} times\".format(i,j))\n",
    "    \n",
    "    \n",
    "########## Enter String & Show Word in sorted format & Count\n",
    "s=input(\"Enter a String : \")\n",
    "d={}\n",
    "\n",
    "for i in s:\n",
    "    d[i]=d.get(i,0)+1    # If 'key' present then count+=1  Else count=0 \n",
    "    \n",
    "for i,j in sorted(d.items()):\n",
    "    print(\"char:'{}' present {} times\".format(i,j))\n",
    "    \n",
    "    \n",
    "########## Enter String & Show Vowels in sorted format & Count\n",
    "s=input(\"Enter a String : \")\n",
    "d={}\n",
    "\n",
    "for i in s:\n",
    "    if i in ['a','e','i','o','u']:\n",
    "        d[i]=d.get(i,0)+1    # If 'key' present then count+=1  Else count=0 \n",
    "    \n",
    "for i,j in sorted(d.items()):\n",
    "    print(\"char:'{}' present {} times\".format(i,j))\n",
    "      "
   ]
  },
  {
   "cell_type": "code",
   "execution_count": 99,
   "id": "4ae497e1",
   "metadata": {},
   "outputs": [
    {
     "name": "stdout",
     "output_type": "stream",
     "text": [
      "Enter Number of students :2\n",
      "Enter Student Name :anc\n",
      "Enter Student Marks :22\n",
      "Enter Student Name :ank\n",
      "Enter Student Marks :22\n",
      "Enter Student Name to Check Mark : ank\n",
      "Student Name : ank - Mark : 22\n",
      "Do you want to Query More Marks[Y|N] : -y\n",
      "Enter Student Name to Check Mark : bc\n",
      "Enter a Valid Name  ; The name You looking For is't there !!!\n",
      "Do you want to Query More Marks[Y|N] : -anc\n"
     ]
    }
   ],
   "source": [
    "########## Store & Display 'n' Students Marks ; Query Student Name to Get Mark  ; If searched student 'not-found' then add that name & marks\n"
   ]
  },
  {
   "cell_type": "code",
   "execution_count": null,
   "id": "538b0c82",
   "metadata": {},
   "outputs": [],
   "source": []
  },
  {
   "cell_type": "markdown",
   "id": "lasting-legislature",
   "metadata": {},
   "source": [
    "#### Dictionary Comprehension"
   ]
  },
  {
   "cell_type": "code",
   "execution_count": null,
   "id": "ordinary-discount",
   "metadata": {},
   "outputs": [],
   "source": [
    "# a=[ expression for x in sequence if condition]\n",
    "s={i:i*i for i in range(1,6)}\n"
   ]
  },
  {
   "cell_type": "code",
   "execution_count": null,
   "id": "trying-comfort",
   "metadata": {},
   "outputs": [],
   "source": [
    "####"
   ]
  },
  {
   "cell_type": "code",
   "execution_count": null,
   "id": "noted-verse",
   "metadata": {},
   "outputs": [],
   "source": []
  },
  {
   "cell_type": "markdown",
   "id": "confidential-martin",
   "metadata": {},
   "source": [
    "###"
   ]
  },
  {
   "cell_type": "code",
   "execution_count": null,
   "id": "early-dietary",
   "metadata": {},
   "outputs": [],
   "source": []
  },
  {
   "cell_type": "markdown",
   "id": "capable-spider",
   "metadata": {},
   "source": [
    "###"
   ]
  },
  {
   "cell_type": "code",
   "execution_count": null,
   "id": "vietnamese-january",
   "metadata": {},
   "outputs": [],
   "source": []
  },
  {
   "cell_type": "markdown",
   "id": "possible-candidate",
   "metadata": {},
   "source": [
    "# Object Oriented Programing :\n",
    "**terms**\n",
    " * ***Class :*** `Refered as Blueprint`\n",
    "   * ex: class Student():               # Class Creation @ class Class_Name():\n",
    " \n",
    " \n",
    " * ***Object :*** \n",
    "   * `Physical Existence of 'Class'`\n",
    "   * ex: Student()               # Object Creation @ Class_Name()\n",
    "   * `For single Class multiple objects can be created`\n",
    " \n",
    " \n",
    " * ***Reference-Variable :*** \n",
    "   * `Used to refer|operate 'object'`\n",
    "   * ex: s=student()              # Create reference variable @reference_variable=class_name() \n",
    "   * `For single object multiple references can be created`\n",
    "   * `Also used to revoke 'class-functionality' outside of class`\n",
    "   * ex: reference_variable.properties      # Accessing variables \n",
    "   * ex: reference_variable.method()        # Accessing method\n",
    " \n",
    " \n",
    " * ***Constructor(__init__) :***\n",
    "   * It's a ``'Special method'``,Used to ``'Declare' & 'initialize' instance-variable``\n",
    "   * ``'self' must be first parameter to __init__``   (ex: def __init__(self) ) \n",
    "   * ``If Multi constructor provided then last one is valid`` & for ``each 'object' constructor will be execute only once``\n",
    "   * ``We are not required to call constructor explicitly, It will be executed automatically when object created``\n",
    "   * After object created(s=Student()),then `'__init__' will execute & initialize 'Instance_variable'`\n",
    "   * `If '__init__' is not provided, then pvm do it automatically(But can't take 'instance-variable')`\n",
    "   * ``Constructor/method overloading not valid in python``\n",
    "  \n",
    " * ***self :*** \n",
    "   * It's a `'reference-variable',which always Points to 'current object'`\n",
    "   * It's `first argument to 'constructor' & 'Instance method' ` & It's `value provided by 'PVM'`\n",
    "   * It's `used only inside the class`\n",
    "   * Used to `Declare 'instance-variables' inside class` (ex: self.instance_variable='')\n",
    "   * used to `Access values of 'instance_var' inside 'Instance Method' `\n",
    "   * if `id(self)==id(reference) , they are of same class`\n",
    "   * As `'self' is not a 'keyword',So we can use any name instead of 'self' ` \n",
    "\n",
    " * ***cls :***\n",
    "   * Reference variable to class Object"
   ]
  },
  {
   "cell_type": "markdown",
   "id": "6d437ce3",
   "metadata": {},
   "source": [
    "## Types of variable :\n",
    "**Instance | object-level variable :** ``Value varies from object to object(For each object,separate copy will be created)``\n",
    "   * ***Declare :***\n",
    "      * ``inside __init__ & instance method(ve to call Instance-method)``: using **self**     #@ self.Instance_var=value\n",
    "      * ``outside class``: using **object_reference**             #@ ref_var.Instance_var=value\n",
    "   \n",
    "   * ***Access :*** \n",
    "      * ``Inside class``: using **self**                          #@ self.Instance_var\n",
    "      * ``Outside class``: using **object reference**             #@ ref_var.Instance_var \n",
    "      \n",
    "   * ***Update :*** If Value of Instance-var changed in one object but will not reflected to other objects\n",
    "      * ``Inside class``: Using ***self***                        #@ self.Instance_variable=\"value\"\n",
    "      * ``outside class``: Using ***object-reference***           #@ ref_var.Instance_var=\"value\"\n",
    "     \n",
    "   * ***Delete :*** Only deleted from that specific object\n",
    "      * ``Inside class``: using **del self.var_name**\n",
    "      * ``outside class``: using **del object_reference.variable_name**   \n",
    "\n",
    "**static | class-level Variable :** Value isn't varies from object to object(only one copy created & shared)\n",
    "   * **Declare :** \n",
    "      * ``Directly inside class``(but outside of any method)\n",
    "      * ``Inside class method``: using **class_name** | **cls**     # @ cls.static_var | cls_name.static_var\n",
    "      * ``Inside __init__ | Instance method | static method | Outside class``: using **class_name**  @ clss_name.static_var\n",
    "   \n",
    "   * ***Accessed :***\n",
    "      * using **self** | **class_name**(recommended) | **cls** | **object_reference**  #@ class_name.static_var\n",
    "   \n",
    "   * ***Update :***\n",
    "      * Only using **class_name**(recommended) | **cls**   #@ class_name.static_var=value\n",
    "   \n",
    "   * ***Delete :***\n",
    "      * Using **class_name**    #@ del class_name.static_var\n",
    "      * ``Inside class``: using **del class_name.var_name** | **cls.var_name**\n",
    "      * ``Outside class``: using **del class_name.vare_name**   \n",
    "\n",
    "**local | method level | Temporary variable :** Used for temporary use\n",
    "   * ***Declare :*** \n",
    "      * ``Directly inside method``\n",
    "      * ``Can't access outside of method(destroyed after execution)``\n",
    "  "
   ]
  },
  {
   "cell_type": "code",
   "execution_count": 9,
   "id": "73eca2be",
   "metadata": {
    "ExecuteTime": {
     "end_time": "2021-10-11T07:53:28.459628Z",
     "start_time": "2021-10-11T07:53:28.435081Z"
    }
   },
   "outputs": [
    {
     "name": "stdout",
     "output_type": "stream",
     "text": [
      "Name AbhiSutar\n",
      "Age 23\n",
      "Gender M\n",
      "Salary 20000\n",
      "After Increament 23000\n"
     ]
    }
   ],
   "source": [
    "# cs\n",
    "\n",
    "class Emp:\n",
    "    def __init__(self,fname,lname,age,gen,pay):\n",
    "        self.fname=fname\n",
    "        self.lname=lname\n",
    "        self.age=age\n",
    "        self.gender=gen\n",
    "        self.pay=pay\n",
    "        \n",
    "    def des(self):\n",
    "        print(\"Name\",self.fname+self.lname)\n",
    "        print(\"Age\",self.age)\n",
    "        print(\"Gender\",self.gender)\n",
    "        print(\"Salary\",self.pay)\n",
    "        \n",
    "    def ra(self):\n",
    "        increament=self.pay*.15\n",
    "        print(\"After Increament\",self.pay+int(increament))\n",
    "        \n",
    "        \n",
    "emp1=Emp(\"Abhi\",\"Sutar\",23,\"M\",20000)\n",
    "emp1.des()\n",
    "emp1.ra()"
   ]
  },
  {
   "cell_type": "code",
   "execution_count": 5,
   "id": "59f7ea58",
   "metadata": {
    "ExecuteTime": {
     "end_time": "2021-10-11T07:33:04.765593Z",
     "start_time": "2021-10-11T07:33:04.732040Z"
    }
   },
   "outputs": [
    {
     "name": "stdout",
     "output_type": "stream",
     "text": [
      "{'__module__': '__main__', '__init__': <function Test.__init__ at 0x0000016FAA9BD550>, 'm1': <function Test.m1 at 0x0000016FAA9BDB80>, 'm2': <classmethod object at 0x0000016FAA1052E0>, 'm3': <staticmethod object at 0x0000016FAA105880>, '__dict__': <attribute '__dict__' of 'Test' objects>, '__weakref__': <attribute '__weakref__' of 'Test' objects>, '__doc__': None}\n"
     ]
    }
   ],
   "source": [
    "class Test:\n",
    "    a=10\n",
    "    def __init__(self):\n",
    "        Test.b=20\n",
    "        del Test.a\n",
    "    \n",
    "    def m1(self):\n",
    "        Test.c=30\n",
    "        del Test.b\n",
    "        \n",
    "    @classmethod\n",
    "    def m2(cls):\n",
    "        cls.d=40\n",
    "        del Test.c\n",
    "    \n",
    "    @staticmethod\n",
    "    def m3():\n",
    "        Test.e=50\n",
    "        del Test.d\n",
    "        \n",
    "\n",
    "t=Test()\n",
    "t.m1()\n",
    "t.m2()\n",
    "t.m3()\n",
    "Test.f=50\n",
    "del Test.e\n",
    "del Test.f\n",
    "\n",
    "print(Test.__dict__)\n",
    "\n",
    "# t=Test(), static-var a=10 initialized && static_var b=20 initialized && static-var a=10 will be deleted\n",
    "# t.m1(), static-var C=30 initialized && static-var b=20  will be deleted\n",
    "# t.m2(), static-var d=40 initialized && static-var c=30  will be deleted\n",
    "# t.m3(), static-var e=50 initialized && static-var d=40  will be deleted\n",
    "#Test.f=55,  static-var f=55 initialized\n",
    "# del Test.e=50, delete e=50\n",
    "# del Test.f , delete f=55"
   ]
  },
  {
   "cell_type": "code",
   "execution_count": 21,
   "id": "438c3451",
   "metadata": {
    "ExecuteTime": {
     "end_time": "2021-09-19T20:49:04.699902Z",
     "start_time": "2021-09-19T20:49:04.663606Z"
    }
   },
   "outputs": [
    {
     "name": "stdout",
     "output_type": "stream",
     "text": [
      "t1 11 22\n",
      "t2 11 22\n",
      "t1 55 55\n",
      "t2 11 22\n",
      "{'b': 55, 'a': 55}\n",
      "{'b': 22}\n"
     ]
    }
   ],
   "source": [
    "class Test():\n",
    "    def __init__(self):\n",
    "        self.a=10\n",
    "        \n",
    "    def m1(self):\n",
    "        self.a=20\n",
    "        self.b=30\n",
    "        \n",
    "t=Test()\n",
    "t.m1()\n",
    "t.a=50\n",
    "t.b=70\n",
    "t.c=11\n",
    "print(t.__dict__)\n",
    "\n",
    "\n",
    "# started with t=Test()  & constructor initialize with a=10\n",
    "# After t.m1 called , 'a' updated to 20 & initialize b=30\n",
    "# t.a=50 , 'a' updated to a=50\n",
    "# t.b=30 , 'b' updated to b=70\n",
    "# t.c=11 , c initialized with 11\n",
    "\n",
    "\n",
    "##\n",
    "class Test:\n",
    "    a=11\n",
    "    def __init__(self):\n",
    "        self.b=22\n",
    "        \n",
    "t1=Test()\n",
    "t2=Test()\n",
    "print('t1',t1.a,t1.b)\n",
    "print('t2',t2.a,t2.b)\n",
    "t1.a=55\n",
    "t1.b=55\n",
    "print('t1',t1.a,t1.b)\n",
    "print('t2',t2.a,t2.b)\n",
    "\n",
    "# t1=Test(), class_level-var a=11 && instance-var b=22  Initialized  \n",
    "# t2=Test(), instance-var b=22  Initialized Again \n",
    "# t1.a=55 ,new instance-var will be created a=55  (as we can't update class_level var using 't1.a')\n",
    "# t1.b=55 , value for 'b' updated to 55  \n",
    "\n",
    "print(t1.__dict__)\n",
    "print(t2.__dict__)\n",
    "\n",
    "# \n",
    "class Test:\n",
    "    a=11\n",
    "    def __init__(self):\n",
    "        self.b=22\n",
    "        \n",
    "    def m1(self):\n",
    "        self.a=99\n",
    "        self.b=999\n",
    "        \n",
    "        \n",
    "t1=Test()\n",
    "t2=Test()\n",
    "print('before instance method:: t1',t1.a,t1.b)\n",
    "print('before instance method::t2',t2.a,t2.b)\n",
    "t1.m1()\n",
    "print('After instance method::t1',t1.a,t1.b)\n",
    "print('After instance method::t1',t2.a,t2.b)\n",
    "\n",
    "t1.a=55\n",
    "t1.b=55\n",
    "print('last t1',t1.a,t1.b)\n",
    "print('last t2',t2.a,t2.b)\n",
    "\n",
    "# t1=Test(), class_level-var a=11 && instance-var b=22  Initialized  \n",
    "# t2=Test(), instance-var b=22  Initialized Again \n",
    "# t1.m1(),  new instance-var a=99 created(as we can't update class_level var using 'self.a') && 'b' updated to 999 \n",
    "# t1.a=55,  instance-var a=99 updated to a=55 \n",
    "# t1.b=55,  value for b=999 updated to b=55  \n",
    "\n",
    "print(t1.__dict__)\n",
    "print(t2.__dict__)\n",
    "\n",
    "##\n",
    "class Test:\n",
    "    a=11\n",
    "    def __init__(self):\n",
    "        self.b=22\n",
    "    \n",
    "    @classmethod\n",
    "    def m1(cls):\n",
    "        cls.a=99\n",
    "        cls.b=999\n",
    "        \n",
    "        \n",
    "t1=Test()\n",
    "t2=Test()\n",
    "print('before class method:: t1',t1.a,t1.b)\n",
    "print('before class method::t2',t2.a,t2.b)\n",
    "t1.m1()\n",
    "print('After class method::t1',t1.a,t1.b,Test.a,Test.b)\n",
    "print('After class method::t1',t2.a,t2.b)\n",
    "\n",
    "t1.a=55\n",
    "t1.b=55\n",
    "print('last t1',t1.a,t1.b,Test.a,Test.b)\n",
    "print('last t2',t2.a,t2.b)\n",
    "\n",
    "# t1=Test(), class_level-var a=11 && instance-var b=22  Initialized  \n",
    "# t2=Test(), instance-var b=22  Initialized Again \n",
    "# t1.m1(),  class_level var 'a=11' updated  to a=99 &&  new class_level-var b=999 created(As we can't update instance-var 'b' using cls.b=999) \n",
    "# t1.a=55,  instance-var a=55 created(As we can't update class_level-var \"a\" using 't1.a') \n",
    "# t1.b=55,  instance-var b=22 updated to b=55  \n",
    "\n",
    "print(t1.__dict__)\n",
    "print(t2.__dict__)\n",
    "\n",
    "## \n",
    "class Student:\n",
    "    \"\"\"Student Class; contains variables , methods , types & others\"\"\"\n",
    "    \n",
    "    college_name=\"XYZ Academy\"           # Static Variable\n",
    "    \n",
    "    def __init__(self):                # Constructor \n",
    "        self.name=\"Abhijit\"              # Instance variable\n",
    "        self.roll=2                      # Instance variable\n",
    "        self.marks=90                    # Instance variable \n",
    "            \n",
    "    def talk(self):         \n",
    "        x=15                             # Local Variable\n",
    "        print('hey!!!I\\'m:',self.name)\n",
    "        print('Roll Number:',self.roll)\n",
    "        print('mark:',self.marks)\n",
    "\n",
    "            \n",
    "## Create object\n",
    "s=Student()    # reference variable: s   Student():used for object creation\n",
    "\n",
    "#s.talk()               # Access Method\n",
    "Student().talk()              # Access variable \n",
    "s.ins_var_out_class=\"value\"   # Instance variable outside class(Declare) \n",
    "\n",
    "class Student:\n",
    "    \"\"\"Student Class; contains variables , methods , types & others\"\"\"\n",
    "    def __init__(self):\n",
    "        self.name=\"Abhijit\"                \n",
    "        self.roll=2\n",
    "        self.marks=90\n",
    "            \n",
    "    def talk(self):\n",
    "        print('hey!!!I\\'m:',self.name)\n",
    "        print('Roll Number:',self.roll)\n",
    "        print('mark:',self.marks)\n",
    "\n",
    "            \n",
    "## Create object\n",
    "s1=Student()    # reference variable: s   Student():used for object creation\n",
    "s2=Student()    # reference variable: s   Student():used for object creation\n",
    "\n",
    "s.talk()               # Access Method\n",
    "s.marks                # Access variable \n",
    "\n",
    "\n",
    "##\n",
    "class Student:\n",
    "    \"\"\"Student Class; contains variables , methods , types & others\"\"\"\n",
    "    def __init__(self,name,roll,mark):\n",
    "        self.name=name\n",
    "        self.roll=roll\n",
    "        self.marks=mark\n",
    "            \n",
    "    def talk(self):\n",
    "        print('hey!!!I\\'m:',self.name)\n",
    "        print('Roll Number:',self.roll)\n",
    "        print('mark:',self.marks)\n",
    "\n",
    "            \n",
    "## Create object\n",
    "s1=Student(\"A\",2,97)    # reference variable: s   Student():used for object creation\n",
    "s2=Student(\"B\",2,89)    # reference variable: s   Student():used for object creation\n",
    "\n",
    "s1.talk()               # Access Method\n",
    "s2.talk()                # Access variable \n"
   ]
  },
  {
   "cell_type": "code",
   "execution_count": null,
   "id": "2781be21",
   "metadata": {},
   "outputs": [],
   "source": []
  },
  {
   "attachments": {
    "Capture.PNG": {
     "image/png": "[encoded data removed]"
    }
   },
   "cell_type": "markdown",
   "id": "293af616",
   "metadata": {},
   "source": [
    "\n",
    "## Types of methods:\n",
    "![Capture.PNG](attachment:Capture.PNG)\n",
    "\n",
    "* **instance | object-related method :**\n",
    "   * ``If Access atleast one 'instance variable' inside method body``, It's **instance method**\n",
    "   * ``first parameter to 'instance_method'`` must be **self** \n",
    "   * ``Inside 'instance method'``, we can access **instance variable** & **static variable**  #@ print(self.instance_var)\n",
    "   * ``Call by outside of class`` using **object reference**(costly operation)\n",
    "    \n",
    "    i) setter methods: Used for set|provide data\n",
    "        ## Declare setter method\n",
    "        def setName(self,name):\n",
    "            self.name=name\n",
    "        \n",
    "        ## call\n",
    "        s=Student()\n",
    "        s.setName('jeet')            \n",
    "    \n",
    "    \n",
    "    ii) getter methods: Used for get data\n",
    "        ## Declare setter method\n",
    "        def getName(self):\n",
    "            return self.name\n",
    "        \n",
    "        ## call\n",
    "        s=Student()\n",
    "        print('Name',s.getName())            \n",
    "    20 min <<\n",
    "        \n",
    "        \n",
    "b) class|class related method:\n",
    "  * If ``Access no Instance-variable`` but ``atleast one static-variable`` inside method body,it is **class method**\n",
    "  * Declare using '@classmethod' decorator & first parameter must be 'cls'\n",
    "  * Inside 'class method', only access 'static variable'\n",
    "  * Call by 'object reference' | 'class_name'(recommended)    (ex: class_name.class_method() )\n",
    "       \n",
    "@classmethod                                   ## decorator for 'class method'\n",
    "def method(cls):                               ## class method\n",
    "    cls.static_variable\n",
    "    \n",
    "c) static|general utility|helper method:\n",
    "  -If not using 'static variable' | 'instance variable' inside method body,go for static method \n",
    "  -Declare using '@staticmethod' decorator \n",
    "  -Accessed using 'class_name'    @ class_name.static_method() \n",
    "\n",
    "@staticmethod                                 ## decorator for 'static method'\n",
    "def method(x,y):                              ## static method\n",
    "    print(x+y)\n",
    "\n",
    "\n",
    "``Inside a method``\n",
    "Instance var + Static Var + Local var --> Instance method(If atleast one Instance-var then must be Instance-method)\n",
    "Static Var + Local var --> Class method(If no Instance-var && atleast one static-var then must be Class-method)\n",
    "Local var --> Static method(If no Instance-var && no static-var then must be Static-method)\n"
   ]
  },
  {
   "cell_type": "code",
   "execution_count": 19,
   "id": "118fcb4f",
   "metadata": {
    "ExecuteTime": {
     "end_time": "2021-09-14T21:06:14.787343Z",
     "start_time": "2021-09-14T21:06:14.745457Z"
    }
   },
   "outputs": [
    {
     "name": "stdout",
     "output_type": "stream",
     "text": [
      "Student Name : Abhijit\n",
      "Roll Number : 2\n",
      "Mark : 90\n"
     ]
    },
    {
     "data": {
      "text/plain": [
       "'2010'"
      ]
     },
     "execution_count": 19,
     "metadata": {},
     "output_type": "execute_result"
    }
   ],
   "source": [
    "class Student:\n",
    "    \"\"\"Student Class; contains variables , methods , types & others\"\"\"\n",
    "    \n",
    "# For each class PVM create only one\"class-level object\" to hold \"class-level data\"  (we can access them using \"cls\" pointer) \n",
    "    college_name=\"XYZ Academy\"             # Static Variable(Declare)\n",
    "    Dean_name=\"XX Sir\"                     # Static Variable(Declare)\n",
    "    \n",
    "    \n",
    "    def __init__(self):                  # Constructor \n",
    "        self.name=\"Abhijit\"                # Instance variable(Declare)\n",
    "        self.roll=2                        # Instance variable(Declare)\n",
    "        self.marks=90                      # Instance variable(Declare)\n",
    "        \n",
    "        \n",
    "    def s_info(self):                     # Instance Method\n",
    "        self.join_yr=\"2010\"                 # Instance variable(Declared Inside Instance Method) \n",
    "        print('Student Name :',self.name)   # Instance variable(Access)\n",
    "        print('Roll Number :',self.roll)    # Instance variable(Access)\n",
    "        print('Mark :',self.marks)          # Instance variable(Access)\n",
    "\n",
    "        \n",
    "    @classmethod    \n",
    "    def clg_info(cls):                    # class method \n",
    "        print(\"College :\",cls.college_name) # class-level variable(Access)\n",
    "        print(\"Dean :\",cls.Dean_name)       # class-level variable(Access)\n",
    "        \n",
    "        \n",
    "    @staticmethod                         \n",
    "    def avg_method(x,y,z):                  # static method\n",
    "        return (x+y+z)/3\n",
    "        \n",
    "    \n",
    "## Create object\n",
    "s=Student()                   # reference variable: s  &&  Student():used for object creation\n",
    "\n",
    "#s.clg_info()                  # Accessing Class-method\n",
    "s.s_info()                  # Accessing Class-method\n",
    "#s.avg_method(20,30,40)\n",
    "s.name\n",
    "s.join_yr        # works after s.s_info()"
   ]
  },
  {
   "cell_type": "code",
   "execution_count": null,
   "id": "1b19a046",
   "metadata": {},
   "outputs": [],
   "source": [
    "class Outer_Class_name:\n",
    "    def __init__():\n",
    "        pass\n",
    "    \n",
    "    def method_outer(self):\n",
    "            pass\n",
    "    \n",
    "    class Inner_Class_name:\n",
    "        def __init__():\n",
    "            pass\n",
    "        \n",
    "        def method_inner(self):\n",
    "            pass\n",
    "\n",
    "ref1=Outer_Class_name()\n",
    "ref1.method_outer()\n",
    "\n",
    "ref2=Inner_Class_name()\n",
    "ref2.method_inner()\n",
    "## or\n",
    "ref1=Outer_Class_name.method_outer()    ## to access outer_class method\n",
    "ref2=Outer_Class_name.Inner_Class_name.method_inner()    ## to access inner_class method   "
   ]
  },
  {
   "cell_type": "code",
   "execution_count": null,
   "id": "3688242f",
   "metadata": {},
   "outputs": [],
   "source": [
    "## Nested class: Class inside another class\n",
    "- when a object, can't exist without another object\n",
    "- ex: dept_object can't exist without university_object \n",
    "\n",
    "\n",
    "***Is-A:***\n",
    "\n",
    "***Has-A:***\n",
    "\n",
    "***Composition(Strong Association):*** \n",
    "- without another class,If a class can't exist\n",
    "- ex: without `University`,`Dept.` can't be exist  \n",
    "- ex: Relation between `class` & `instance-variable`\n",
    "***Aggregatation(Weak Association):*** \n",
    "- without another class, a class can be exist\n",
    "- ex: `Professor` can be exist without `Dept.` \n",
    "- ex: Relation between `class` & `static-variable`\n",
    "    \n",
    "    \n",
    "## Nested Method: (code reusability)\n",
    "class Test:\n",
    "    def __init__(self):\n",
    "        pass\n",
    "        \n",
    "    def outer_method(self):\n",
    "        def inner_method(a,b):\n",
    "            print(a+b)\n",
    "            print('*'*10)\n",
    "            print(a-b)\n",
    "            print('*'*10)\n",
    "            print(a*b)\n",
    "            print('*'*10)\n",
    "            print(a/b)\n",
    "            print('__'*10)\n",
    "           \n",
    "        inner_method(11,22)\n",
    "        inner_method(100,22)\n",
    "        inner_method(1,23)\n",
    "        inner_method(1,222)\n",
    "            \n",
    "t=Test()   \n",
    "t.outer_method()\n",
    "            "
   ]
  },
  {
   "cell_type": "code",
   "execution_count": null,
   "id": "1aa78735",
   "metadata": {},
   "outputs": [],
   "source": [
    "class Tesla:\n",
    "    \"\"\" Tesla Electric Car Company \"\"\"\n",
    "    def __init__(self):                                ## Constructure\n",
    "        self.bnd=\"Tesla Automobiles\"\n",
    "        self.model=\"Model S\"\n",
    "        self.price=70000\n",
    "        self.type=\"SUV\"\n",
    "        \n",
    "    def spec(self):                                      ## methods\n",
    "        print(\"Compny:\",self.bnd)\n",
    "        print(\"Model:\",self.model)\n",
    "        print('--------------------------------------')\n",
    "        print(\"Price:\",self.price)\n",
    "        print(\"Type:\",self.type)\n",
    "        print(\"Motors: AC Motors\")\n",
    "        print('Drive_type: 4 Wheel Drive')\n",
    "    \n",
    "    def clr(self):\n",
    "        print(\"Colour: Glossy Red\")\n",
    "        \n",
    "    def fl(self):\n",
    "        print(\"Fuel_type: Electric\")\n",
    "        print(\"Battery_type: Lipo\")\n",
    "        \n",
    "    def intr(self):\n",
    "        print(\"Interior: Customized\")\n",
    "        print(\"Seat: User-Specified\")\n",
    "        print(\"Interior_Colour: Dark\")\n",
    "        print(\"Systems: Automatic\")    \n",
    "        \n",
    "c=Tesla()    ## c:reference variable for 'Class Tesla'\n",
    "## class Object Created : __init__(construtre) called > properties created inside object)\n",
    "\n",
    "# print(c)     ## Class Location in Memory\n",
    "\n",
    "c.model      ## reference.properties\n",
    "c.bnd\n",
    "\n",
    "c.spec()    ## reference.method\n",
    "c.clr()    "
   ]
  },
  {
   "cell_type": "code",
   "execution_count": null,
   "id": "9b455e8c",
   "metadata": {},
   "outputs": [],
   "source": [
    "class Tom():\n",
    "    \"\"\" Hi! I'm your private Assistant Robot\"\"\"\n",
    "    \n",
    "    def __init__(self,name,work,id_,by):\n",
    "        self.name=\"Tom\"\n",
    "        self.work='Assist'\n",
    "        self.id_=92009\n",
    "        self.by='Abhijit'\n",
    "    \n",
    "    def specs(self):\n",
    "        print(\"My Name is \",self.name)\n",
    "        print(\"Work is to \",self.work)\n",
    "        print(\"if_proof\",self.id_)\n",
    "        print(\"Created by \",self.by)\n",
    "   \n",
    "    def movement(self):\n",
    "        forward=\n",
    "        backward=\n",
    "        left=\n",
    "        right=\n",
    "        up=\n",
    "        down=\n",
    "        \n",
    "    "
   ]
  },
  {
   "cell_type": "code",
   "execution_count": null,
   "id": "78cf0f1c",
   "metadata": {},
   "outputs": [],
   "source": [
    "help(Tesla)      \n",
    "#Tesla.__dict__       ## dictionary for instance variables \n",
    "#Tesla.__doc__       ## Print 'Doc-string'\n",
    "#Tesla.__module__    ## \n",
    "#Tesla.__init__      ## \n",
    "Tesla.__weakref__   ## list of weak references to the object\n"
   ]
  },
  {
   "cell_type": "code",
   "execution_count": null,
   "id": "7a199e5a",
   "metadata": {},
   "outputs": [],
   "source": [
    "class st:\n",
    "    def __init__(self):\n",
    "        self.name='jeet'\n",
    "        \n",
    "    def idd(self):\n",
    "        print(self.name)\n",
    "        \n",
    "s=st()\n",
    "s.name"
   ]
  },
  {
   "cell_type": "code",
   "execution_count": null,
   "id": "divine-sleeve",
   "metadata": {},
   "outputs": [],
   "source": [
    "## Garbage Collector\n",
    "\n",
    "import gc\n",
    "\n",
    "gc.isenabled()                ## g.collector enabled or not\n",
    "gc.enable()                   ## disable g.collector\n",
    "gc.disable()                  ## enable g.collector\n",
    "\n",
    "\n",
    "## Polymorphism: poly: many  morphs:forms   (having many forms)\n",
    "\n",
    "overloading:\n",
    "  Oprator Overloading: Same operator but work differently in different Senario \n",
    "    - python provied support for Operator Overloading for every operator \n",
    "  \n",
    "Method Overloading: Same Method but use different `Arguments` in different Senario  \n",
    "   - In python,Method Overloading is not supported(as we don't declare data type) \n",
    "   - when we use multiple method of same name, pvm uses 'only last one'\n",
    "\n",
    "Constructor overloading: Same __init__ but use different `Arguments` in different Senario  \n",
    "   - In python,Constructor Overloading is not supported \n",
    "   - when we use multiple Constructor , pvm uses 'only last one'\n",
    "\n",
    "overridding:\n",
    "\n",
    "\n",
    "\n",
    "#### overloading:\n",
    "## Oprator Overloading: __add__ , __sub__ , __mul__ , __div__ , __mod__ , __floordiv__ , __pow__\n",
    "## += : __iadd__ , -= : __isub__ , *= : __imul__ , /= : __idiv__ , %= : __imod__ , //= : __ifloordiv__ , **= : __ipow__\n",
    "## \n",
    "# we can use more than magic method but pvm considers last one only\n",
    "class Book:\n",
    "    def __init__(self,page):\n",
    "        self.page=page\n",
    "        \n",
    "    def __str__(self):               ## for call object-reference inside \n",
    "        return str(self.page)\n",
    "    \n",
    "    def __add__(self,other):        ## magic Method \n",
    "        total=self.page+other.page\n",
    "        b=Book(total)\n",
    "        return b      \n",
    "    \n",
    "b1=Book(500)\n",
    "b2=Book(399)\n",
    "b3=Book(124)\n",
    "b4=Book(124)\n",
    "print(b1+b2+b3+b4)\n",
    "\n",
    "\n",
    "## Method Overloading:\n",
    "class Test:\n",
    "    def sum(self,*args):\n",
    "        total=0\n",
    "        for i in args:\n",
    "            total=total+i\n",
    "        print(total)\n",
    "        \n",
    "t=Test()\n",
    "t.sum(1,2,3,889,4,5,6,78,9,0)\n",
    "        \n",
    "## constructor overloading:\n",
    "class Test:\n",
    "    def __init__(self,*args):\n",
    "        total=0\n",
    "        for i in args:\n",
    "            total=total+i\n",
    "        print(total)\n",
    "        \n",
    "t=Test(1,2,3,889,4,5,6,78,9,0)\n",
    "\n",
    "\n",
    "                          #### overridding:\n",
    "    \n",
    "\n",
    "\n",
    "\n",
    "\n",
    "\n",
    "**Inheritance**:\n",
    "    \n",
    "    \n",
    "*** Types of Inheritance ***\n",
    "1) Single Inheritance: Single child inherited from single parent\n",
    "A ==> B\n",
    "\n",
    "2) Multi-level Inheritance\n",
    " Single child inherited from single parent but in multiple level\n",
    "A ==> B ==> C==> ==> D ==> E\n",
    "\n",
    "3) Hierachical Inheritance\n",
    "- Single Parent & Multiple child but in same level\n",
    "A ==> B \n",
    "A ==> C \n",
    "A ==> D \n",
    "\n",
    "4) Multiple Inheritance:\n",
    "- Multiple Parent But single child\n",
    "A ==> C \n",
    "B ==> C \n",
    "\n",
    "# 5) Hybrid Inheritance:\n",
    "-Combination of any types of inheritances \n",
    "\n",
    "6) Cyclic Inheritance\n",
    "- If All properties of parent inherited from same class\n",
    "-As it is required, rRaise Error when applied \n",
    "A ==> A\n",
    "\n",
    "MRO:\n",
    "C3 Algorithm :\n",
    "1) \n",
    "2) mro(n)= n + Merge(mro(parent-class)+ parent-class)   \n",
    "3) Identify Head & Tail part of strings\n",
    "4) If `Head` of 1st list not in `tail-part` of any other list,then take out that element  \n",
    "5) Remove that element from every list.  "
   ]
  },
  {
   "cell_type": "code",
   "execution_count": null,
   "id": "a4a1ecd7",
   "metadata": {},
   "outputs": [],
   "source": [
    "mro(P)= P + Merge( mro(D),mro(E),mro(C),DEC )\n",
    "      = P + Merge( DABO,EBCO,CO,DEC )\n",
    "      = P + D + Merge( ABO,EBCO,CO,EC ) ## Consider 'D'\n",
    "      = P + D + A + Merge( BO,EBCO,CO,EC ) ## Consider 'A' \n",
    "      = P + D + A + Merge( BO,EBCO,CO,EC ) ## As 'B' in tail part of 'EBCO' ,leave it & take next\n",
    "      = P + D + A + E + Merge( BO,BCO,CO,C ) ## Consider 'E'\n",
    "      = P + D + A + E + B + Merge( O,CO,CO,C ) ## Consider 'B'\n",
    "      = P + D + A + E + B + Merge( O,CO,CO,C ) ## As 'O' in tail-part of 'CO' ,leave it & take next\n",
    "      = P + D + A + E + B + C + Merge( O,O,O, ) ## Consider 'C'\n",
    "      = P + D + A + E + B + C + O  ## Consider 'O'\n",
    "        "
   ]
  },
  {
   "cell_type": "code",
   "execution_count": null,
   "id": "3c8c18a0",
   "metadata": {},
   "outputs": [],
   "source": [
    "# 1) Single Inheritance\n",
    "class Parent:\n",
    "    def parent_method(self):\n",
    "        print('Parent class Method')\n",
    "\n",
    "class Child(Parent):   ## Single Inheritance(one parent & one child) \n",
    "    def child_method(self):\n",
    "        print('child Method')\n",
    "\n",
    "p=Parent()\n",
    "#p.Parent_method()\n",
    "c.Child()\n",
    "#c.parent_method()\n",
    "#c.child_method()\n",
    "\n",
    "# 2) Multi-level Inheritance\n",
    "# In Multilevel Inheritance: It search in 'recent parent', if not found then search in upper parent\n",
    "\n",
    "class Parent:\n",
    "    def parent_method(self):\n",
    "        print('Parent class Method')\n",
    "\n",
    "class Child(Parent_class):   ## Single Inheritance(one parent & one child) \n",
    "    def child_method(self):\n",
    "        print('child Method')\n",
    "\n",
    "class Sub_child(Child):   ## Single Inheritance(one parent & one child) \n",
    "    def sub_child_method(self):\n",
    "        print('sub-child Method')\n",
    "\n",
    "p=Parent()\n",
    "#c.Child()\n",
    "s.Sub_child\n",
    "\n",
    "# 3) Hierachical Inheritance\n",
    "class Parent:\n",
    "    def parent_method(self):\n",
    "        print('Parent class Method')\n",
    "\n",
    "class Child_1(Parent):   ## Single Inheritance(one parent & one child) \n",
    "    def child_1_method(self):\n",
    "        print('child Method')\n",
    "\n",
    "class Child_2(Parent):   ## Single Inheritance(one parent & one child) \n",
    "    def child_2_method(self):\n",
    "        print('child Method')\n",
    "        \n",
    "# 4) Multiple Inheritance\n",
    "class Parent_1:\n",
    "    def parent_1_method(self):\n",
    "        print('Parent class Method')\n",
    "\n",
    "class Parent_2:   \n",
    "    def parent_2_method(self):\n",
    "        print('parent_2_method')\n",
    "\n",
    "class Child_1(Parent_1,Parent_2):   ## Multi Inheritance(one parent & one child) \n",
    "    def child_1_method(self):\n",
    "        print('child_1_method')\n",
    "\n",
    "\n",
    "\n",
    "\n"
   ]
  },
  {
   "cell_type": "code",
   "execution_count": null,
   "id": "7feb9ebb",
   "metadata": {},
   "outputs": [],
   "source": [
    "## super(): From 'child-class' to call parent class members\n",
    "class Person:\n",
    "    def __init__(self,name,age):\n",
    "        self.name=name\n",
    "        self.age=age\n",
    "\n",
    "class Student(Person):\n",
    "    def __init__(self,name,age,roll,mark):\n",
    "        super().__init__(name,age)\n",
    "        self.roll=roll\n",
    "        self.mark=mark\n",
    "        \n",
    "        \n",
    "class Teacher(Person):\n",
    "    def __init__(self,name,age,salary,subject):\n",
    "        super().__init__(name,age)\n",
    "        self.salary=salary\n",
    "        self.subject=subject\n",
    "\n",
    "s=Student('A',44,333,90)        "
   ]
  },
  {
   "cell_type": "code",
   "execution_count": null,
   "id": "191a42e0",
   "metadata": {},
   "outputs": [],
   "source": []
  },
  {
   "cell_type": "markdown",
   "id": "healthy-manor",
   "metadata": {},
   "source": [
    "###"
   ]
  },
  {
   "cell_type": "markdown",
   "id": "bda77bf0",
   "metadata": {},
   "source": [
    "# OS Module"
   ]
  },
  {
   "cell_type": "markdown",
   "id": "99965726",
   "metadata": {},
   "source": [
    "### Basic Operations"
   ]
  },
  {
   "cell_type": "code",
   "execution_count": 8,
   "id": "b46248a1",
   "metadata": {
    "ExecuteTime": {
     "end_time": "2021-10-20T07:57:38.784254Z",
     "start_time": "2021-10-20T07:57:38.763200Z"
    }
   },
   "outputs": [
    {
     "data": {
      "text/plain": [
       "'C:\\\\Program Files\\\\Java\\\\jdk1.8.0_291'"
      ]
     },
     "execution_count": 8,
     "metadata": {},
     "output_type": "execute_result"
    }
   ],
   "source": [
    "os.getcwd()               # Current Working Directory\n",
    "os.chdir(r\"path\")         # change current working directory\n",
    "\n",
    "os.name                   # \"nt\": Python instance is running on Windows box\n",
    "os.environ                # Returns users Environmental variable\n",
    "os.getenv(\"JAVA_HOME\")    # Return path of Specific Environmental variable\n",
    "\n",
    "os.startfile(r\"path\")     # Start file with it's associated program  \n",
    "os.system(\"notepad\")           # Execute command in subshell"
   ]
  },
  {
   "cell_type": "code",
   "execution_count": 7,
   "id": "ab884035",
   "metadata": {},
   "outputs": [
    {
     "data": {
      "text/plain": [
       "['__name__',\n",
       " '__doc__',\n",
       " '__package__',\n",
       " '__loader__',\n",
       " '__spec__',\n",
       " '__file__',\n",
       " '__cached__',\n",
       " '__builtins__',\n",
       " 'abc',\n",
       " 'sys',\n",
       " 'st',\n",
       " '_check_methods',\n",
       " '__all__',\n",
       " '_exists',\n",
       " '_get_exports_list',\n",
       " 'name',\n",
       " 'linesep',\n",
       " 'stat',\n",
       " 'access',\n",
       " 'chdir',\n",
       " 'chmod',\n",
       " 'getcwd',\n",
       " 'getcwdb',\n",
       " 'link',\n",
       " 'listdir',\n",
       " 'lstat',\n",
       " 'mkdir',\n",
       " 'readlink',\n",
       " 'rename',\n",
       " 'replace',\n",
       " 'rmdir',\n",
       " 'symlink',\n",
       " 'system',\n",
       " 'umask',\n",
       " 'unlink',\n",
       " 'remove',\n",
       " 'utime',\n",
       " 'times',\n",
       " 'execv',\n",
       " 'execve',\n",
       " 'spawnv',\n",
       " 'spawnve',\n",
       " 'getpid',\n",
       " 'getppid',\n",
       " 'getlogin',\n",
       " 'kill',\n",
       " 'startfile',\n",
       " 'waitpid',\n",
       " 'open',\n",
       " 'close',\n",
       " 'closerange',\n",
       " 'device_encoding',\n",
       " 'dup',\n",
       " 'dup2',\n",
       " 'lseek',\n",
       " 'read',\n",
       " 'write',\n",
       " 'fstat',\n",
       " 'isatty',\n",
       " 'pipe',\n",
       " 'ftruncate',\n",
       " 'truncate',\n",
       " 'putenv',\n",
       " 'strerror',\n",
       " 'fsync',\n",
       " 'abort',\n",
       " 'urandom',\n",
       " 'get_terminal_size',\n",
       " 'cpu_count',\n",
       " 'get_inheritable',\n",
       " 'set_inheritable',\n",
       " 'get_handle_inheritable',\n",
       " 'set_handle_inheritable',\n",
       " 'scandir',\n",
       " 'fspath',\n",
       " 'environ',\n",
       " 'F_OK',\n",
       " 'R_OK',\n",
       " 'W_OK',\n",
       " 'X_OK',\n",
       " 'TMP_MAX',\n",
       " 'O_RDONLY',\n",
       " 'O_WRONLY',\n",
       " 'O_RDWR',\n",
       " 'O_APPEND',\n",
       " 'O_CREAT',\n",
       " 'O_EXCL',\n",
       " 'O_TRUNC',\n",
       " 'O_BINARY',\n",
       " 'O_TEXT',\n",
       " 'O_NOINHERIT',\n",
       " 'O_SHORT_LIVED',\n",
       " 'O_TEMPORARY',\n",
       " 'O_RANDOM',\n",
       " 'O_SEQUENTIAL',\n",
       " 'P_WAIT',\n",
       " 'P_NOWAIT',\n",
       " 'P_NOWAITO',\n",
       " 'P_OVERLAY',\n",
       " 'P_DETACH',\n",
       " 'error',\n",
       " 'stat_result',\n",
       " 'statvfs_result',\n",
       " 'times_result',\n",
       " 'uname_result',\n",
       " 'terminal_size',\n",
       " 'DirEntry',\n",
       " '_exit',\n",
       " 'path',\n",
       " 'curdir',\n",
       " 'pardir',\n",
       " 'sep',\n",
       " 'pathsep',\n",
       " 'defpath',\n",
       " 'extsep',\n",
       " 'altsep',\n",
       " 'devnull',\n",
       " 'supports_dir_fd',\n",
       " 'supports_effective_ids',\n",
       " 'supports_fd',\n",
       " 'supports_follow_symlinks',\n",
       " 'SEEK_SET',\n",
       " 'SEEK_CUR',\n",
       " 'SEEK_END',\n",
       " 'makedirs',\n",
       " 'removedirs',\n",
       " 'renames',\n",
       " 'walk',\n",
       " 'execl',\n",
       " 'execle',\n",
       " 'execlp',\n",
       " 'execlpe',\n",
       " 'execvp',\n",
       " 'execvpe',\n",
       " '_execvpe',\n",
       " 'get_exec_path',\n",
       " 'MutableMapping',\n",
       " '_Environ',\n",
       " '_putenv',\n",
       " '_unsetenv',\n",
       " 'getenv',\n",
       " 'supports_bytes_environ',\n",
       " 'fsencode',\n",
       " 'fsdecode',\n",
       " 'spawnl',\n",
       " 'spawnle',\n",
       " 'popen',\n",
       " '_wrap_close',\n",
       " 'fdopen',\n",
       " '_fspath',\n",
       " 'PathLike',\n",
       " '_AddedDllDirectory',\n",
       " 'add_dll_directory']"
      ]
     },
     "execution_count": 7,
     "metadata": {},
     "output_type": "execute_result"
    }
   ],
   "source": [
    "'abc',\n",
    " 'sys',\n",
    " 'st',\n",
    " '_check_methods',\n",
    " '__all__',\n",
    " '_exists',\n",
    " '_get_exports_list',\n",
    " 'linesep',\n",
    " 'stat',\n",
    " 'access',\n",
    " 'chmod',\n",
    " 'getcwdb',\n",
    " 'link',\n",
    " 'lstat',\n",
    " 'readlink',\n",
    " 'replace',\n",
    " 'symlink',\n",
    " 'umask',\n",
    " 'unlink',\n",
    " 'remove',\n",
    " 'utime',\n",
    " 'times',\n",
    " 'execv',\n",
    " 'execve',\n",
    " 'spawnv',\n",
    " 'spawnve',\n",
    " 'getpid',\n",
    " 'getppid',\n",
    " 'getlogin',\n",
    " 'kill',\n",
    " 'waitpid',\n",
    " 'closerange',\n",
    " 'device_encoding',\n",
    " 'dup',\n",
    " 'dup2',\n",
    " 'lseek',\n",
    " 'read',\n",
    " 'write',\n",
    " 'fstat',\n",
    " 'isatty',\n",
    " 'pipe',\n",
    " 'ftruncate',\n",
    " 'truncate',\n",
    " 'putenv',\n",
    " 'strerror',\n",
    " 'fsync',\n",
    " 'abort',\n",
    " 'urandom',\n",
    " 'get_terminal_size',\n",
    " 'cpu_count',\n",
    " 'get_inheritable',\n",
    " 'set_inheritable',\n",
    " 'get_handle_inheritable',\n",
    " 'set_handle_inheritable',\n",
    " 'scandir',\n",
    " 'fspath',\n",
    " 'F_OK',\n",
    " 'R_OK',\n",
    " 'W_OK',\n",
    " 'X_OK',\n",
    " 'TMP_MAX',\n",
    " 'O_RDONLY',\n",
    " 'O_WRONLY',\n",
    " 'O_RDWR',\n",
    " 'O_APPEND',\n",
    " 'O_CREAT',\n",
    " 'O_EXCL',\n",
    " 'O_TRUNC',\n",
    " 'O_BINARY',\n",
    " 'O_TEXT',\n",
    " 'O_NOINHERIT',\n",
    " 'O_SHORT_LIVED',\n",
    " 'O_TEMPORARY',\n",
    " 'O_RANDOM',\n",
    " 'O_SEQUENTIAL',\n",
    " 'P_WAIT',\n",
    " 'P_NOWAIT',\n",
    " 'P_NOWAITO',\n",
    " 'P_OVERLAY',\n",
    " 'P_DETACH',\n",
    " 'error',\n",
    " 'stat_result',\n",
    " 'statvfs_result',\n",
    " 'times_result',\n",
    " 'uname_result',\n",
    " 'terminal_size',\n",
    " 'DirEntry',\n",
    " '_exit',\n",
    " 'path',\n",
    " 'curdir',\n",
    " 'pardir',\n",
    " 'sep',\n",
    " 'pathsep',\n",
    " 'defpath',\n",
    " 'extsep',\n",
    " 'altsep',\n",
    " 'devnull',\n",
    " 'supports_dir_fd',\n",
    " 'supports_effective_ids',\n",
    " 'supports_fd',\n",
    " 'supports_follow_symlinks',\n",
    " 'SEEK_SET',\n",
    " 'SEEK_CUR',\n",
    " 'SEEK_END',\n",
    " 'renames',\n",
    " 'execl',\n",
    " 'execle',\n",
    " 'execlp',\n",
    " 'execlpe',\n",
    " 'execvp',\n",
    " 'execvpe',\n",
    " '_execvpe',\n",
    " 'get_exec_path',\n",
    " 'MutableMapping',\n",
    " '_Environ',\n",
    " '_putenv',\n",
    " '_unsetenv',\n",
    " 'supports_bytes_environ',\n",
    " 'fsencode',\n",
    " 'fsdecode',\n",
    " 'spawnl',\n",
    " 'spawnle',\n",
    " 'popen',\n",
    " '_wrap_close',\n",
    " 'fdopen',\n",
    " '_fspath',\n",
    " 'PathLike',\n",
    " '_AddedDllDirectory',\n",
    " 'add_dll_directory"
   ]
  },
  {
   "cell_type": "markdown",
   "id": "f355fb02",
   "metadata": {},
   "source": [
    "## Handling Directory :"
   ]
  },
  {
   "cell_type": "code",
   "execution_count": null,
   "id": "39395849",
   "metadata": {},
   "outputs": [],
   "source": [
    "## Making Directory \n",
    "\n",
    "i) Make Directory() : If Directory already present,then Raise Error\n",
    "@ mkdir(path,mode=511,*,dir_fd=None)\n",
    " * path:\n",
    " * mode=511\n",
    " * dir_fd=None\n",
    "    \n",
    "os.mkdir(\"New Folder\") \n",
    "\n",
    "\n",
    "ii) makedirs(): Make Sub-Directory(dir-leaf). If Directory already present,then create 'sub_dirs'\n",
    "@ makedirs(name,mode=511,exist_ok=False)\n",
    " * name:\n",
    " * mode=511 :\n",
    " * exist_ok=False:\n",
    "    \n",
    "os.makedirs(\"New Folder/python/dev\") \n"
   ]
  },
  {
   "cell_type": "code",
   "execution_count": null,
   "id": "07712ed4",
   "metadata": {},
   "outputs": [],
   "source": [
    "## Remove Directory\n",
    "\n",
    "i) rmdir(): Remove last-sub-Directory.\n",
    "@ rmdir(path,*,dir_fd=None)\n",
    " * path :\n",
    " * dir_fd=None :\n",
    "    \n",
    "os.rmdir(\"New Folder/python/dev\")     \n",
    "\n",
    "ii) removedirs(): Remove Complete Directory(parent-dir with child-dir)\n",
    "@ removedirs(name)\n",
    " * name:\n",
    "        \n",
    "os.removedirs(\"New Folder/python\")       \n"
   ]
  },
  {
   "cell_type": "code",
   "execution_count": null,
   "id": "4e43bc73",
   "metadata": {},
   "outputs": [],
   "source": [
    "## Rename Directory\n",
    "\n",
    "i) rename(): Rename directory\n",
    "@ rename(src, dst, *, src_dir_fd=None, dst_dir_fd=None)\n",
    " * src:\n",
    " * dst:\n",
    " * src_dir_fd=None:\n",
    " * dst_dir_fd=None:\n",
    "    \n",
    "os.rename(\"DSA\",\"Data-Structure-Algo\")     # Rename dir \"DSA\" to \"Data-Structure-Algo\"\n"
   ]
  },
  {
   "cell_type": "markdown",
   "id": "94406551",
   "metadata": {},
   "source": [
    "### Content of Directories : "
   ]
  },
  {
   "cell_type": "code",
   "execution_count": null,
   "id": "fcdbe608",
   "metadata": {},
   "outputs": [],
   "source": [
    "i) listdir() : Content of Directory(excludes sub-dir)\n",
    "@ listdir(path=None)\n",
    " * path=None:\n",
    "        \n",
    "os.listdir(\".\")              # List of files in 'CWD'\n",
    "os.listdir(\"file_name\")      # List of files in specific-file\n",
    "\n",
    "\n",
    "ii) walk() : Content of Directory & Sub-directory (include sub-dir) \n",
    "@ walk(top,topdown=True,onerror=None,followlinks=False)\n",
    " * top:\n",
    " * topdown=True:\n",
    " * onerror=None:\n",
    " * followlinks=False:\n",
    "        \n",
    "for dir_path,dir_nm,f_nm in os.walk(\".\"):\n",
    "    print(\"Current Directory Path:\",dir_path)\n",
    "    print()\n",
    "    print(\"Directories:\",dir_nm)\n",
    "    print()\n",
    "    print(\"Files:\",f_nm)\n",
    "    \n",
    "\n"
   ]
  },
  {
   "cell_type": "markdown",
   "id": "6b564f44",
   "metadata": {},
   "source": [
    "## os.path :"
   ]
  },
  {
   "cell_type": "code",
   "execution_count": null,
   "id": "0fdfff60",
   "metadata": {},
   "outputs": [],
   "source": [
    "'curdir','pardir','extsep','sep','pathsep','altsep','defpath','devnull','stat','genericpath','commonprefix'\n",
    "'getatime','getctime','getmtime','getsize','samefile','sameopenfile','samestat','normcase','isabs','splitdrive',\n",
    ",'islink','lexists','_getvolumepathname','ismount','expanduser',\n",
    " 'expandvars','normpath','realpath','supports_unicode_filenames','relpath','commonpath'"
   ]
  },
  {
   "cell_type": "code",
   "execution_count": 49,
   "id": "075679c0",
   "metadata": {},
   "outputs": [
    {
     "data": {
      "text/plain": [
       "1"
      ]
     },
     "execution_count": 49,
     "metadata": {},
     "output_type": "execute_result"
    }
   ],
   "source": [
    "os.path.exists(\"\")      # Checks if path exists or not\n",
    "os.path.isdir(\" \")      # Checks if path is Directory or not\n",
    "os.path.isfile(\" \")     # Checks if path is File or not\n",
    "os.path.isabs(\" \")      # checks if path is absolute-path or not\n",
    "\n",
    "os.path.basename(\"\")    # Return only file-Name\n",
    "os.path.dirname(\"\")     # Return only Directory\n",
    "os.path.abspath(\"\")     # Returns absolute-version of path\n",
    "\n",
    "os.path.split(\"\")       # splits path into directory & file\n",
    "os.path.splitext(\"\")    # split path into \"root\" & \"extension\"\n",
    "os.path.join(\" \",\" \")   # splits path into directory & file\n"
   ]
  },
  {
   "cell_type": "code",
   "execution_count": 17,
   "id": "470666b8",
   "metadata": {},
   "outputs": [
    {
     "name": "stdout",
     "output_type": "stream",
     "text": [
      "Help on function isabs in module ntpath:\n",
      "\n",
      "isabs(s)\n",
      "    Test whether a path is absolute\n",
      "\n"
     ]
    }
   ],
   "source": [
    "help(os.path.isabs)"
   ]
  },
  {
   "cell_type": "code",
   "execution_count": 16,
   "id": "132ed3e0",
   "metadata": {
    "ExecuteTime": {
     "end_time": "2021-10-20T08:14:49.311396Z",
     "start_time": "2021-10-20T08:14:49.284395Z"
    }
   },
   "outputs": [
    {
     "data": {
      "text/plain": [
       "True"
      ]
     },
     "execution_count": 16,
     "metadata": {},
     "output_type": "execute_result"
    }
   ],
   "source": [
    "\n",
    "\n"
   ]
  },
  {
   "cell_type": "markdown",
   "id": "affb8c54",
   "metadata": {},
   "source": [
    "# File Handling:"
   ]
  },
  {
   "cell_type": "raw",
   "id": "ecad7c72",
   "metadata": {},
   "source": [
    "# Mode:\n",
    "\n",
    " Char                 Meaning\n",
    "------            ------------------\n",
    " 'r'              Open for Reading(default). If file not Found Raise \"FileNotFoundError\"\n",
    " 'r+'             Open for Reading & Writing. Doesn't Overwrite data\n",
    "\n",
    " 'w'              Open for Writing. If File Exist: Data Overwritten | If Not Found: Create File\n",
    " 'w+'             Open for Writing & Reading. Data Overwritten & Read Updated file\n",
    "  \n",
    " 'a'              Open for Writing, Appending @ end of file. If File Exist: Data appended to old data | If Not Found: Create new File\n",
    " 'a+'             Open for Appending & Reading. Doesn't Overwrite \n",
    "\n",
    " 'x'              Open for Exclusive Creation. Raise Error: If File already exists\n",
    " '+'              Open for updating Reading & Writing\n",
    "\n",
    " 'b'              Open in Binary mode\n",
    " 't'              Open in Text mode(default)"
   ]
  },
  {
   "cell_type": "markdown",
   "id": "b5ebd9dc",
   "metadata": {},
   "source": [
    "## Text File"
   ]
  },
  {
   "cell_type": "markdown",
   "id": "abcc3253",
   "metadata": {},
   "source": [
    "### Open Text - File :"
   ]
  },
  {
   "cell_type": "code",
   "execution_count": null,
   "id": "c6949104",
   "metadata": {},
   "outputs": [],
   "source": [
    "open(file,mode='r',buffering=-1,encoding=None,errors=None,newline=None,closefd=True,opener=None)\n",
    "    * file: File path\n",
    "    * mode: mode for opening file\n",
    "    * buffering: Used to set buffering policy\n",
    "       0: Switch-off buffering(only allowed in binary-mode)\n",
    "       1: Select line buffering (only usable in text mode)\n",
    "      >1: Indicate size of fixed-size chunk buffer\n",
    "      -1: Binary files- buffered in fixed-size chunks; size of buffer is chosen using heuristic trying to determine underlying device's\n",
    "      \"block size\" & falling back on `io.DEFAULT_BUFFER_SIZE`.\n",
    "          Text files: use line buffering\n",
    "            \n",
    "    * encoding: Name of encoding used to decode or encode file.(only used in text mode).\n",
    "    * errors: Specifies 'how encoding-errors to be handled' (should not be used in binary mode)\n",
    "        'strict': Raise 'ValueError' exception: If encoding-error\n",
    "        None: Raise 'ValueError' exception: If encoding-error\n",
    "        'ignore': Ignore Errors (Ignoring encoding-errors can lead to data loss)\n",
    "    \n",
    "    * newline: Controls 'how universal newlines works' (Only applies to tex-tmode)\n",
    "    * closefd: False: underlying file descriptor will be kept open when file is closed.\n",
    "               This does not work when file-name is given & must be True in that case.\n",
    "\n",
    "    * opener: Returns file object whose type depends on mode & through which standard file operations such as reading & writing are performed.\n"
   ]
  },
  {
   "cell_type": "markdown",
   "id": "1f762043",
   "metadata": {},
   "source": [
    "### Write to Text - File :"
   ]
  },
  {
   "cell_type": "code",
   "execution_count": null,
   "id": "345f1e16",
   "metadata": {},
   "outputs": [],
   "source": [
    "i) write(): Write a Single line\n",
    "    \n",
    "with open(r\"A:\\text2.txt\",\"w\") as f:\n",
    "    f.write(\"He is preferable a good boy\\n\")\n",
    "    f.write(\"But he is not good at his studies\\n\")\n",
    "print(\"Data Written & File Closed:\",f.closed)\n",
    "\n",
    "\n",
    "ii) writelines(): Write multiple line\n",
    "\n",
    "with open(r\"A:\\text2.txt\",\"w\") as f:\n",
    "    f.writelines(\"Go 1\\n\")\n",
    "    f.writelines(\"hell 2\\n\")\n",
    "print(\"Data Written & File Closed:\",f.closed)\n"
   ]
  },
  {
   "cell_type": "markdown",
   "id": "f5fcd788",
   "metadata": {},
   "source": [
    "### Read From Text - File"
   ]
  },
  {
   "cell_type": "code",
   "execution_count": null,
   "id": "987e72fe",
   "metadata": {},
   "outputs": [],
   "source": [
    "i) read(): Read all of data\n",
    "\n",
    "with open(r\"A:\\text2.txt\",\"r\") as f:\n",
    "    data=f.read()       # Read Total data\n",
    "    data=f.read(4)      # Read Specific no. of words\n",
    "    print(data)\n",
    "\n",
    "    \n",
    "ii) readline(): Read text as line by line(read only one linr at-a-time)\n",
    "\n",
    "with open(r\"A:\\text2.txt\",\"r\") as f:\n",
    "    data1=f.readline()  # Read 1st line\n",
    "    data2=f.readline()  # Read 2nd line\n",
    "    print(data1,end=\" \")  # print 1st line\n",
    "    print(data2,end=\" \")  # print 2nd line\n",
    "\n",
    "    \n",
    "iii) readlines(): Read all lines to a list (text as iterator)\n",
    "\n",
    "with open(r\"A:\\text2.txt\",\"r\") as f:\n",
    "    lines=f.readlines()\n",
    "    for line in lines:\n",
    "        print(line,end=\" \")\n",
    "    print(\"File Closed\")"
   ]
  },
  {
   "cell_type": "code",
   "execution_count": 1,
   "id": "954ef0b7",
   "metadata": {},
   "outputs": [
    {
     "name": "stdout",
     "output_type": "stream",
     "text": [
      "Help on built-in function open in module io:\n",
      "\n",
      "open(file, mode='r', buffering=-1, encoding=None, errors=None, newline=None, closefd=True, opener=None)\n",
      "    Open file and return a stream.  Raise OSError upon failure.\n",
      "    \n",
      "    file is either a text or byte string giving the name (and the path\n",
      "    if the file isn't in the current working directory) of the file to\n",
      "    be opened or an integer file descriptor of the file to be\n",
      "    wrapped. (If a file descriptor is given, it is closed when the\n",
      "    returned I/O object is closed, unless closefd is set to False.)\n",
      "    \n",
      "    mode is an optional string that specifies the mode in which the file\n",
      "    is opened. It defaults to 'r' which means open for reading in text\n",
      "    mode.  Other common values are 'w' for writing (truncating the file if\n",
      "    it already exists), 'x' for creating and writing to a new file, and\n",
      "    'a' for appending (which on some Unix systems, means that all writes\n",
      "    append to the end of the file regardless of the current seek position).\n",
      "    In text mode, if encoding is not specified the encoding used is platform\n",
      "    dependent: locale.getpreferredencoding(False) is called to get the\n",
      "    current locale encoding. (For reading and writing raw bytes use binary\n",
      "    mode and leave encoding unspecified.) The available modes are:\n",
      "    \n",
      "    ========= ===============================================================\n",
      "    Character Meaning\n",
      "    --------- ---------------------------------------------------------------\n",
      "    'r'       open for reading (default)\n",
      "    'w'       open for writing, truncating the file first\n",
      "    'x'       create a new file and open it for writing\n",
      "    'a'       open for writing, appending to the end of the file if it exists\n",
      "    'b'       binary mode\n",
      "    't'       text mode (default)\n",
      "    '+'       open a disk file for updating (reading and writing)\n",
      "    'U'       universal newline mode (deprecated)\n",
      "    ========= ===============================================================\n",
      "    \n",
      "    The default mode is 'rt' (open for reading text). For binary random\n",
      "    access, the mode 'w+b' opens and truncates the file to 0 bytes, while\n",
      "    'r+b' opens the file without truncation. The 'x' mode implies 'w' and\n",
      "    raises an `FileExistsError` if the file already exists.\n",
      "    \n",
      "    Python distinguishes between files opened in binary and text modes,\n",
      "    even when the underlying operating system doesn't. Files opened in\n",
      "    binary mode (appending 'b' to the mode argument) return contents as\n",
      "    bytes objects without any decoding. In text mode (the default, or when\n",
      "    't' is appended to the mode argument), the contents of the file are\n",
      "    returned as strings, the bytes having been first decoded using a\n",
      "    platform-dependent encoding or using the specified encoding if given.\n",
      "    \n",
      "    'U' mode is deprecated and will raise an exception in future versions\n",
      "    of Python.  It has no effect in Python 3.  Use newline to control\n",
      "    universal newlines mode.\n",
      "    \n",
      "    buffering is an optional integer used to set the buffering policy.\n",
      "    Pass 0 to switch buffering off (only allowed in binary mode), 1 to select\n",
      "    line buffering (only usable in text mode), and an integer > 1 to indicate\n",
      "    the size of a fixed-size chunk buffer.  When no buffering argument is\n",
      "    given, the default buffering policy works as follows:\n",
      "    \n",
      "    * Binary files are buffered in fixed-size chunks; the size of the buffer\n",
      "      is chosen using a heuristic trying to determine the underlying device's\n",
      "      \"block size\" and falling back on `io.DEFAULT_BUFFER_SIZE`.\n",
      "      On many systems, the buffer will typically be 4096 or 8192 bytes long.\n",
      "    \n",
      "    * \"Interactive\" text files (files for which isatty() returns True)\n",
      "      use line buffering.  Other text files use the policy described above\n",
      "      for binary files.\n",
      "    \n",
      "    encoding is the name of the encoding used to decode or encode the\n",
      "    file. This should only be used in text mode. The default encoding is\n",
      "    platform dependent, but any encoding supported by Python can be\n",
      "    passed.  See the codecs module for the list of supported encodings.\n",
      "    \n",
      "    errors is an optional string that specifies how encoding errors are to\n",
      "    be handled---this argument should not be used in binary mode. Pass\n",
      "    'strict' to raise a ValueError exception if there is an encoding error\n",
      "    (the default of None has the same effect), or pass 'ignore' to ignore\n",
      "    errors. (Note that ignoring encoding errors can lead to data loss.)\n",
      "    See the documentation for codecs.register or run 'help(codecs.Codec)'\n",
      "    for a list of the permitted encoding error strings.\n",
      "    \n",
      "    newline controls how universal newlines works (it only applies to text\n",
      "    mode). It can be None, '', '\\n', '\\r', and '\\r\\n'.  It works as\n",
      "    follows:\n",
      "    \n",
      "    * On input, if newline is None, universal newlines mode is\n",
      "      enabled. Lines in the input can end in '\\n', '\\r', or '\\r\\n', and\n",
      "      these are translated into '\\n' before being returned to the\n",
      "      caller. If it is '', universal newline mode is enabled, but line\n",
      "      endings are returned to the caller untranslated. If it has any of\n",
      "      the other legal values, input lines are only terminated by the given\n",
      "      string, and the line ending is returned to the caller untranslated.\n",
      "    \n",
      "    * On output, if newline is None, any '\\n' characters written are\n",
      "      translated to the system default line separator, os.linesep. If\n",
      "      newline is '' or '\\n', no translation takes place. If newline is any\n",
      "      of the other legal values, any '\\n' characters written are translated\n",
      "      to the given string.\n",
      "    \n",
      "    If closefd is False, the underlying file descriptor will be kept open\n",
      "    when the file is closed. This does not work when a file name is given\n",
      "    and must be True in that case.\n",
      "    \n",
      "    A custom opener can be used by passing a callable as *opener*. The\n",
      "    underlying file descriptor for the file object is then obtained by\n",
      "    calling *opener* with (*file*, *flags*). *opener* must return an open\n",
      "    file descriptor (passing os.open as *opener* results in functionality\n",
      "    similar to passing None).\n",
      "    \n",
      "    open() returns a file object whose type depends on the mode, and\n",
      "    through which the standard file operations such as reading and writing\n",
      "    are performed. When open() is used to open a file in a text mode ('w',\n",
      "    'r', 'wt', 'rt', etc.), it returns a TextIOWrapper. When used to open\n",
      "    a file in a binary mode, the returned class varies: in read binary\n",
      "    mode, it returns a BufferedReader; in write binary and append binary\n",
      "    modes, it returns a BufferedWriter, and in read/write mode, it returns\n",
      "    a BufferedRandom.\n",
      "    \n",
      "    It is also possible to use a string or bytearray as a file for both\n",
      "    reading and writing. For strings StringIO can be used like a file\n",
      "    opened in a text mode, and for bytes a BytesIO can be used like a file\n",
      "    opened in a binary mode.\n",
      "\n"
     ]
    }
   ],
   "source": [
    "f.name                # Name of fille\n",
    "f.mode                # mode of file\n",
    "f.closed              # file closed or not\n",
    "f.readable()          # File is readable or not\n",
    "f.writable()          # File is writeable or not\n",
    "f.seekable()          # Return whether Object Supports Random Access\n",
    "\n",
    "f.tell()              # Return cursor position\n",
    "f.seek()              # Move cursor to other positon {0:start location of file }\n"
   ]
  },
  {
   "cell_type": "code",
   "execution_count": null,
   "id": "2ebd3c0f",
   "metadata": {},
   "outputs": [],
   "source": [
    "f.isatty()             # Return whether this is an 'interactive' stream\n",
    "\n",
    "f.detach()             # Separate Underlying buffer from \"TextIOBase\" & Return it\n",
    "f.encoding()           #             \n",
    "f.errors()             #\n",
    "f.fileno()             # Returns  File Descriptor(if one exists) \n",
    "f.flush()              # Flush write Buffers(if applicable)\n",
    "f.line_buffering()     #\n",
    "f.newlines()           # \n",
    "f.truncate()           # Truncate file to size bytes"
   ]
  },
  {
   "cell_type": "markdown",
   "id": "8999247e",
   "metadata": {},
   "source": [
    "## Handling Zip file"
   ]
  },
  {
   "cell_type": "markdown",
   "id": "0708f0f2",
   "metadata": {},
   "source": [
    "### Open  Zip - File :"
   ]
  },
  {
   "cell_type": "code",
   "execution_count": null,
   "id": "88835d9c",
   "metadata": {},
   "outputs": [],
   "source": [
    "@ ZipFile(file,mode='r',compression=0,allowZip64=True)\n",
    "  * file: File path\n",
    "  * mode: 'r'|'w'|'x'|'a'\n",
    "  * compression: ZIP_STORED:no compression , ZIP_DEFLATED:requires zlib :\n",
    "                 ZIP_BZIP2:requires bz2 , ZIP_LZMA:requires lzma\n",
    "  * allowZip64: True: Create zip-file with ZIP64 extensions(when needed) \n",
    "\n",
    "        \n",
    "import zipfile \n",
    "with zipfile.ZipFile(r\"A:\\zpp.zip\",\"w\") as z:\n",
    "    "
   ]
  },
  {
   "cell_type": "markdown",
   "id": "40f13e22",
   "metadata": {},
   "source": [
    "### Zip a File : Convert Any File to  Zip - File"
   ]
  },
  {
   "cell_type": "code",
   "execution_count": null,
   "id": "630735d5",
   "metadata": {},
   "outputs": [],
   "source": [
    "import zipfile     \n",
    "with zipfile.ZipFile(r\"A:\\zpp.zip\",\"w\") as z:\n",
    "    z.write(r\"A:\\zipp.txt\")             # convert  file to Zip-File\n",
    "    z.write(r\"A:\\zipp 1.txt\")\n",
    "    z.write(r\"A:\\zipp 2.txt\")\n",
    "print(\"File Created & Written & Closed\")\n"
   ]
  },
  {
   "cell_type": "markdown",
   "id": "0fc1edb4",
   "metadata": {},
   "source": [
    "###  List Out All Files Available Inside Zip - file:\n"
   ]
  },
  {
   "cell_type": "code",
   "execution_count": null,
   "id": "b7eff202",
   "metadata": {},
   "outputs": [],
   "source": [
    "import zipfile     \n",
    "with zipfile.ZipFile(r\"A:\\zpp.zip\",\"r\") as z:\n",
    "    print(z.namelist())                   # List of Files Available Inside Zip-File\n"
   ]
  },
  {
   "cell_type": "markdown",
   "id": "05af8cb9",
   "metadata": {},
   "source": [
    "###  Unzip a Zip - File : Extract files from Zip - File"
   ]
  },
  {
   "cell_type": "code",
   "execution_count": null,
   "id": "1ace3470",
   "metadata": {},
   "outputs": [],
   "source": [
    "import zipfile \n",
    "with zipfile.ZipFile(r\"A:\\zpp.zip\",\"r\") as z:\n",
    "    z.extract(members=\"zipp 1.txt\",path=r\"A:\")         # Unzip Specific file\n",
    "    z.extractall(path=r\"A:\")                           # Unzip All file (members=None: Extract all)\n",
    "    z.extractall(path=r\"A:\",members=[\"zipp 1.txt\",\"zipp.txt\"]) # Extract Multiple files (members=[\"file_name\"])"
   ]
  },
  {
   "cell_type": "markdown",
   "id": "ed9c3364",
   "metadata": {},
   "source": [
    "### Basic Operations"
   ]
  },
  {
   "cell_type": "code",
   "execution_count": null,
   "id": "ba64941e",
   "metadata": {},
   "outputs": [],
   "source": [
    "z.printdir()           # Table of contents for zip file\n",
    "z.infolist()           # list of ZipInfo for files in archive\n",
    "z.getinfo(\"zipp.txt\")  # ZipInfo for given 'file-name'\n",
    "z.NameToInfo           # Zip files Info\n"
   ]
  },
  {
   "cell_type": "markdown",
   "id": "7a4ead49",
   "metadata": {},
   "source": [
    "### Exception Handling :"
   ]
  },
  {
   "cell_type": "code",
   "execution_count": null,
   "id": "0c917724",
   "metadata": {},
   "outputs": [],
   "source": [
    "except zipfile.LargeZipFile:   # error when working with large zip file & didn't enable 'Zip64'\n",
    "except zipfile.BadZipFile:     # If bad|corrupted zip file encountered\n",
    "    "
   ]
  },
  {
   "cell_type": "markdown",
   "id": "7bf6d531",
   "metadata": {},
   "source": [
    "## Handling CSV - File"
   ]
  },
  {
   "cell_type": "markdown",
   "id": "2cfd2090",
   "metadata": {},
   "source": [
    "### Open CSV File\n"
   ]
  },
  {
   "cell_type": "code",
   "execution_count": null,
   "id": "2db3f30d",
   "metadata": {},
   "outputs": [],
   "source": [
    "import csv\n",
    "path=r\"file.csv\"\n",
    "csv_file=open(path)\n",
    "type(csv_file)      # _io.TextIOWrapper\n"
   ]
  },
  {
   "cell_type": "markdown",
   "id": "ad3877c7",
   "metadata": {},
   "source": [
    "### Read CSV - File"
   ]
  },
  {
   "cell_type": "code",
   "execution_count": null,
   "id": "5686b875",
   "metadata": {},
   "outputs": [],
   "source": [
    "i) Using csv.reader() : Read CSV as Rows & Columns as Header\n",
    "\n",
    "rows=[]\n",
    "with open(path,'r') as file:\n",
    "    csvreader=csv.reader(file)     # Create csv-Reader object\n",
    "    header=next(csvreader)         # columns\n",
    "\n",
    "# contents    \n",
    "    for row in csvreader:\n",
    "        rows.append(row)\n",
    "\n",
    "        \n",
    "        \n",
    "ii) DictReader() : Read CSV file to Dictionary(key & value)\n",
    "      \n",
    "with open(path,mode='r') as csv_file:\n",
    "    dic=csv.DictReader(csv_file)  # Create csv-Dict-Reader object\n",
    "    \n",
    "    columns=dic.fieldnames        # Column names\n",
    "    \n",
    "    for line in dic:\n",
    "        print(line)               # Access All data\n",
    "        print(line['key'])        # Access specific-column data\n",
    "        \n",
    "        \n",
    "\n",
    "iii) Using readlines():\n",
    "\n",
    "with open(path) as file:\n",
    "    content=file.readlines()\n",
    "header=content[:1]           # columns\n",
    "rows=content[1:]             # rows\n",
    "\n",
    "\n",
    "\n",
    "iv) Using pandas :\n",
    "import pandas as pd\n",
    "data=pd.read_csv(path)\n",
    "\n",
    "print(data.columns) # column names\n",
    "print(data) # contents\n"
   ]
  },
  {
   "cell_type": "markdown",
   "id": "71ac22c5",
   "metadata": {},
   "source": [
    "###  Write to CSV - File :"
   ]
  },
  {
   "cell_type": "code",
   "execution_count": 6,
   "id": "9ce13f5f",
   "metadata": {},
   "outputs": [],
   "source": [
    "i) Using csv.writer() : we can write using 'csv_writer.writerow(row)' or 'csv_writer.writerows(rows)'\n",
    "\n",
    "with open(path,\"w\",newline=\"\") as file:\n",
    "    csv_writer=csv.writer(file)                       # Create csv-writer object\n",
    "    \n",
    "    csv_writer.writerow([\"Id\",\"Name\",\"Age\",\"class\"])  # Create Columns\n",
    "    csv_writer.writerow([1,\"A\",23,\"2nd\"])             # Create row\n",
    "    csv_writer.writerow([2,\"B\",22,\"2nd\"])             # Create row\n",
    "    csv_writer.writerow([3,\"C\",25,\"3nd\"])             # Create row\n",
    "    csv_writer.writerows([[4,\"D\",27,\"3rd\"],[5,\"E\",22,\"3rd\"],[6,\"F\",21,\"2rd\"]])  # Create rows\n",
    "    \n",
    "\n",
    "    \n",
    "ii) Using csv.DictWriter() : we can write using 'csv_writer.writerow(row)' or 'csv_writer.writerows(rows)'\n",
    "\n",
    "Dict=[{\"Id\":1,\"Name\":\"A\",\"Age\":22},{\"Id\":2,\"Name\":\"B\",\"Age\":21},{\"Id\":3,\"Name\":\"C\",\"Age\":23}] # rows\n",
    "columns=[\"Id\",\"Name\",\"Age\"]\n",
    "with open(path,'w',newline=\"\") as file:\n",
    "    csv_writer=csv.DictWriter(file,fieldnames=columns)   # Create csv-writer object\n",
    "    csv_writer.writeheader()                             # write columns\n",
    "    csv_writer.writerows({\"Id\":1,\"Name\":\"A\",\"Age\":22})   # write columns\n",
    "    csv_writer.writerows(Dict)                           # rows         \n",
    "\n",
    "\n",
    "\n",
    "iii) Using pandas.to_csv(): \n",
    "\n",
    "import pandas as pd\n",
    "\n",
    "column=[\"Id\",\"Name\",\"Age\",\"class\"]                         # columns\n",
    "data=[[1,\"A\",23,\"A\"],[2,\"B\",22,\"A\"],[6,\"F\",21,\"B\"]]        # rows\n",
    "\n",
    "data=pd.DataFrame(data,columns=column)                     # convert to DF\n",
    "data.to_csv(path,index=False)  # write to CSV - File\n",
    "\n"
   ]
  },
  {
   "cell_type": "markdown",
   "id": "large-table",
   "metadata": {
    "ExecuteTime": {
     "end_time": "2021-06-03T16:46:28.141619Z",
     "start_time": "2021-06-03T16:46:28.125990Z"
    }
   },
   "source": [
    "\n",
    "# Random Module"
   ]
  },
  {
   "cell_type": "code",
   "execution_count": null,
   "id": "considered-philadelphia",
   "metadata": {},
   "outputs": [],
   "source": [
    "import tkinter as tk\n",
    "from tkinter import filedialog                #File dialogs help you open, save files or directories.\n",
    "import pandas as pd\n",
    "from openpyxl import *\n",
    "from tkinter.messagebox import showinfo\n",
    "def open():\n",
    "    path=filedialog.askopenfilename()           #ask for the file location,locate where your file is placed\n",
    "    df = pd.read_excel(r\"C:\\Users\\joker\\Desktop\\Modern Ele\\installation.xlsx\")                    #read the file path\n",
    "    print(df)                                   #print the data in file\n",
    "def save():\n",
    "    fname = entry.get()\n",
    "    lname = entry1.get()\n",
    "    age = entry2.get()\n",
    "    email = entry3.get()\n",
    "    mobile = entry4.get()\n",
    "    city = entry5.get()\n",
    "    wb = Workbook()\n",
    "\n",
    "    ws = wb.active\n",
    "    ws['A1'] = \"First Name\"\n",
    "    ws['B1'] = \"Last Name\"\n",
    "    ws['C1'] = \"Age\"\n",
    "    ws['D1'] = \"Email\"\n",
    "    ws['E1'] = \"Mobile\"\n",
    "    ws['F1'] = \"City\"\n",
    "    ws['A2']=fname\n",
    "    ws['B2']=lname\n",
    "    ws['C2']=age\n",
    "    ws['D2']=email\n",
    "    ws['E2']=mobile\n",
    "    ws['F2']=city\n",
    "    wb.save(r'D:\\Mini codes\\Registration\\reg1.xlsx')     #use reg1.xlsx to store new data\n",
    "    showinfo(\"Saved\",\"Your Entry has been saved\")\n",
    "    file1 = pd.read_excel(r\"C:\\Users\\joker\\Desktop\\Modern Ele\\box.xlsx\")                    #use reg.xlsx to store all the data to avoid rewriting\n",
    "    file2 = pd.read_excel(r\"C:\\Users\\joker\\Desktop\\Modern Ele\\recharge.xlsx\")\n",
    "    all = [file1, file2]                                 #define the sequence of data to be stored\n",
    "    append = pd.concat(all)                              #concatenate the files\n",
    "    append.to_excel(r\"C:\\Users\\joker\\Desktop\\Modern Ele\\recharge.xlsx\", index=False)             #write the result to reg.xlsx\n",
    "def clear():\n",
    "    entry.delete(0, tk.END)\n",
    "    entry1.delete(0, tk.END)\n",
    "    entry2.delete(0, tk.END)\n",
    "    entry3.delete(0, tk.END)\n",
    "    entry4.delete(0, tk.END)\n",
    "    entry5.delete(0, tk.END)\n",
    "win=tk.Tk()\n",
    "win.title(\"Registration Form\")\n",
    "label = tk.Label(win, text=\"First Name:\")\n",
    "label.grid(row=0, column=0, padx=8, pady=8)\n",
    "entry = tk.Entry(win)\n",
    "entry.grid(row=0, column=1, padx=8, pady=8)\n",
    "label1 = tk.Label(win, text=\"Last Name:\")\n",
    "label1.grid(row=1, column=0, padx=8, pady=8)\n",
    "entry1 = tk.Entry(win)\n",
    "entry1.grid(row=1, column=1, padx=8, pady=8)\n",
    "label2 = tk.Label(win, text=\"Age:\")\n",
    "label2.grid(row=2, column=0, padx=8, pady=8)\n",
    "entry2 = tk.Entry(win)\n",
    "entry2.grid(row=2, column=1, padx=8, pady=8)\n",
    "label3 = tk.Label(win, text=\"Email:\")\n",
    "label3.grid(row=3, column=0, padx=8, pady=8)\n",
    "entry3 = tk.Entry(win)\n",
    "entry3.grid(row=3, column=1, padx=8, pady=8)\n",
    "label4 = tk.Label(win, text=\"Mobile Number:\")\n",
    "label4.grid(row=4, column=0, padx=8, pady=8)\n",
    "entry4 = tk.Entry(win)\n",
    "entry4.grid(row=4, column=1, padx=8, pady=8)\n",
    "label5 = tk.Label(win, text=\"City:\")\n",
    "label5.grid(row=5, column=0, padx=8, pady=8)\n",
    "entry5 = tk.Entry(win)\n",
    "entry5.grid(row=5, column=1, padx=8, pady=8)\n",
    "button = tk.Button(win, text=\"Register\",command=save)\n",
    "button.grid(row=6, column=0, padx=8, pady=8)\n",
    "button1 = tk.Button(win, text=\"Clear\",command=clear)\n",
    "button1.grid(row=6, column=1, padx=8, pady=8)\n",
    "button2=tk.Button(win,text=\"Load Excel\",command=open)\n",
    "button2.grid(row=6, column=2, padx=8, pady=8)\n",
    "win.mainloop()\n"
   ]
  },
  {
   "cell_type": "markdown",
   "id": "3e172f46",
   "metadata": {},
   "source": [
    "# math Module :"
   ]
  },
  {
   "cell_type": "code",
   "execution_count": 15,
   "id": "4276487c",
   "metadata": {},
   "outputs": [
    {
     "data": {
      "text/plain": [
       "23"
      ]
     },
     "execution_count": 15,
     "metadata": {},
     "output_type": "execute_result"
    }
   ],
   "source": [
    "import math\n",
    "\n",
    "math.pi           # 3.141592653589793\n",
    "math.e\n",
    "math.nan\n",
    "math.inf\n",
    "\n",
    "math.sqrt(23)     # 4.795831523312719\n",
    "math.ceil(23.33)  # 24\n",
    "math.floor(23.11) # 23\n",
    "math.pow(2,3)     # 4.795831523312719\n",
    "math.gcd(23)     # 4.795831523312719\n",
    "math.sin(23)     # 4.795831523312719\n",
    "math.cos(23)     # 4.795831523312719\n",
    "math.sin(23)     # 4.795831523312719\n",
    "\n",
    "\n"
   ]
  },
  {
   "cell_type": "code",
   "execution_count": 77,
   "id": "150f193e",
   "metadata": {
    "ExecuteTime": {
     "end_time": "2021-10-20T11:39:40.916977Z",
     "start_time": "2021-10-20T11:38:59.627116Z"
    }
   },
   "outputs": [
    {
     "name": "stdout",
     "output_type": "stream",
     "text": [
      "5\n",
      "H\n",
      "37.21\n",
      "B\n",
      "37.21\n",
      "T\n",
      "37.2\n",
      "A\n",
      "41\n",
      "H\n",
      "39\n",
      "[['B', 'H'], ['B', 'H']]\n"
     ]
    }
   ],
   "source": [
    "if __name__ == '__main__':\n",
    "    scr,m,n=[],[],[]\n",
    "    for _ in range(int(input())):\n",
    "        name=input()\n",
    "        score=float(input())\n",
    "        scr.append([name,score])\n",
    "        m.append(score)\n",
    "        \n",
    "    m=sorted(list(set(m)))[1]  # desired score\n",
    "    \n",
    "    for i in range(len(scr)):\n",
    "        if scr[i][1]==m:\n",
    "            n.append(scr[i][0])\n",
    "     \n",
    "    for i in na:\n",
    "        print(i)\n",
    "    \n",
    "    "
   ]
  },
  {
   "cell_type": "code",
   "execution_count": 71,
   "id": "383af104",
   "metadata": {
    "ExecuteTime": {
     "end_time": "2021-10-20T11:27:30.197947Z",
     "start_time": "2021-10-20T11:27:30.179139Z"
    }
   },
   "outputs": [],
   "source": [
    "scr=[['Harry', 37.21], ['Berry', 37.21], ['Tina', 37.2], ['Akriti', 41], ['Harsh', 39]]\n",
    "\n",
    "mark,nm=[],[]\n",
    "for i in range(len(scr)):\n",
    "    \n",
    "    mark.append(scr[i][1])\n",
    "mark=sorted(list(set(mark)))[1]\n",
    "    \n",
    "    \n",
    "for i in range(len(scr)):\n",
    "    if scr[i][1]==mark:\n",
    "        nm.append(scr[i][0])\n",
    "print(sorted(nm))"
   ]
  },
  {
   "cell_type": "code",
   "execution_count": 87,
   "id": "eb14f6cc",
   "metadata": {
    "ExecuteTime": {
     "end_time": "2021-10-20T16:12:19.655981Z",
     "start_time": "2021-10-20T16:11:37.806894Z"
    }
   },
   "outputs": [
    {
     "name": "stdout",
     "output_type": "stream",
     "text": [
      "3\n",
      "Krishna 67 68 69\n",
      "Arjun 70 98 63\n",
      "Malika 52 56 60\n",
      "Malika\n"
     ]
    }
   ],
   "source": [
    "if __name__ == '__main__':\n",
    "    n = int(input())\n",
    "    student_marks = {}\n",
    "    for _ in range(n):\n",
    "        name, *line = input().split()\n",
    "        scores = list(map(float, line))\n",
    "        student_marks[name] = scores\n",
    "    query_name = input()\n",
    "    \n",
    "    \n",
    "    avg=0\n",
    "    for i in student_marks[query_name]:\n",
    "        avg+=i\n",
    "    \n",
    "    print(\"{0:.2f}\".format(avg/len(student_marks[query_name])))\n",
    "    "
   ]
  },
  {
   "cell_type": "code",
   "execution_count": null,
   "id": "3e568ea9",
   "metadata": {},
   "outputs": [],
   "source": []
  },
  {
   "cell_type": "code",
   "execution_count": null,
   "id": "0c5fb21b",
   "metadata": {},
   "outputs": [],
   "source": []
  },
  {
   "cell_type": "code",
   "execution_count": null,
   "id": "3985858e",
   "metadata": {},
   "outputs": [],
   "source": []
  }
 ],
 "metadata": {
  "hide_input": false,
  "kernelspec": {
   "display_name": "Python 3 (ipykernel)",
   "language": "python",
   "name": "python3"
  },
  "language_info": {
   "codemirror_mode": {
    "name": "ipython",
    "version": 3
   },
   "file_extension": ".py",
   "mimetype": "text/x-python",
   "name": "python",
   "nbconvert_exporter": "python",
   "pygments_lexer": "ipython3",
   "version": "3.7.0"
  },
  "latex_envs": {
   "LaTeX_envs_menu_present": true,
   "autoclose": false,
   "autocomplete": true,
   "bibliofile": "biblio.bib",
   "cite_by": "apalike",
   "current_citInitial": 1,
   "eqLabelWithNumbers": true,
   "eqNumInitial": 1,
   "hotkeys": {
    "equation": "Ctrl-E",
    "itemize": "Ctrl-I"
   },
   "labels_anchors": false,
   "latex_user_defs": false,
   "report_style_numbering": false,
   "user_envs_cfg": false
  },
  "toc": {
   "base_numbering": 1,
   "nav_menu": {},
   "number_sections": true,
   "sideBar": true,
   "skip_h1_title": false,
   "title_cell": "Table of Contents",
   "title_sidebar": "Contents",
   "toc_cell": true,
   "toc_position": {},
   "toc_section_display": true,
   "toc_window_display": true
  },
  "varInspector": {
   "cols": {
    "lenName": 16,
    "lenType": 16,
    "lenVar": 40
   },
   "kernels_config": {
    "python": {
     "delete_cmd_postfix": "",
     "delete_cmd_prefix": "del ",
     "library": "var_list.py",
     "varRefreshCmd": "print(var_dic_list())"
    },
    "r": {
     "delete_cmd_postfix": ") ",
     "delete_cmd_prefix": "rm(",
     "library": "var_list.r",
     "varRefreshCmd": "cat(var_dic_list()) "
    }
   },
   "types_to_exclude": [
    "module",
    "function",
    "builtin_function_or_method",
    "instance",
    "_Feature"
   ],
   "window_display": false
  }
 },
 "nbformat": 4,
 "nbformat_minor": 5
}
